{
 "cells": [
  {
   "cell_type": "markdown",
   "id": "6cb91fc4",
   "metadata": {},
   "source": [
    "## Cargar el dataframe"
   ]
  },
  {
   "cell_type": "code",
   "execution_count": 1,
   "id": "2cbc6d00",
   "metadata": {},
   "outputs": [],
   "source": [
    "import pandas as pd\n",
    "pd.set_option('display.max_columns', None)\n",
    "#pd.set_option('display.max_rows', None)   # mostrar todas las filas del df\n",
    "\n",
    "import numpy as np\n",
    "\n",
    "import warnings\n",
    "warnings.filterwarnings('ignore')\n",
    "\n",
    "import regex as re\n",
    "\n",
    "# para pintar\n",
    "import pylab as plt\n",
    "import seaborn as sns\n",
    "\n",
    "#para que salga el grafico\n",
    "%matplotlib inline"
   ]
  },
  {
   "cell_type": "code",
   "execution_count": 2,
   "id": "9e75618d",
   "metadata": {},
   "outputs": [],
   "source": [
    "sharks_ori = pd.read_csv('../Data/attacks.csv', encoding='latin1')"
   ]
  },
  {
   "cell_type": "code",
   "execution_count": 3,
   "id": "0b0c9cd6",
   "metadata": {},
   "outputs": [
    {
     "data": {
      "text/html": [
       "<div>\n",
       "<style scoped>\n",
       "    .dataframe tbody tr th:only-of-type {\n",
       "        vertical-align: middle;\n",
       "    }\n",
       "\n",
       "    .dataframe tbody tr th {\n",
       "        vertical-align: top;\n",
       "    }\n",
       "\n",
       "    .dataframe thead th {\n",
       "        text-align: right;\n",
       "    }\n",
       "</style>\n",
       "<table border=\"1\" class=\"dataframe\">\n",
       "  <thead>\n",
       "    <tr style=\"text-align: right;\">\n",
       "      <th></th>\n",
       "      <th>Case Number</th>\n",
       "      <th>Date</th>\n",
       "      <th>Year</th>\n",
       "      <th>Type</th>\n",
       "      <th>Country</th>\n",
       "      <th>Area</th>\n",
       "      <th>Location</th>\n",
       "      <th>Activity</th>\n",
       "      <th>Name</th>\n",
       "      <th>Sex</th>\n",
       "      <th>Age</th>\n",
       "      <th>Injury</th>\n",
       "      <th>Fatal (Y/N)</th>\n",
       "      <th>Time</th>\n",
       "      <th>Species</th>\n",
       "      <th>Investigator or Source</th>\n",
       "      <th>pdf</th>\n",
       "      <th>href formula</th>\n",
       "      <th>href</th>\n",
       "      <th>Case Number.1</th>\n",
       "      <th>Case Number.2</th>\n",
       "      <th>original order</th>\n",
       "      <th>Unnamed: 22</th>\n",
       "      <th>Unnamed: 23</th>\n",
       "    </tr>\n",
       "  </thead>\n",
       "  <tbody>\n",
       "    <tr>\n",
       "      <th>0</th>\n",
       "      <td>2018.06.25</td>\n",
       "      <td>25-Jun-2018</td>\n",
       "      <td>2018.0</td>\n",
       "      <td>Boating</td>\n",
       "      <td>USA</td>\n",
       "      <td>California</td>\n",
       "      <td>Oceanside, San Diego County</td>\n",
       "      <td>Paddling</td>\n",
       "      <td>Julie Wolfe</td>\n",
       "      <td>F</td>\n",
       "      <td>57</td>\n",
       "      <td>No injury to occupant, outrigger canoe and pad...</td>\n",
       "      <td>N</td>\n",
       "      <td>18h00</td>\n",
       "      <td>White shark</td>\n",
       "      <td>R. Collier, GSAF</td>\n",
       "      <td>2018.06.25-Wolfe.pdf</td>\n",
       "      <td>http://sharkattackfile.net/spreadsheets/pdf_di...</td>\n",
       "      <td>http://sharkattackfile.net/spreadsheets/pdf_di...</td>\n",
       "      <td>2018.06.25</td>\n",
       "      <td>2018.06.25</td>\n",
       "      <td>6303.0</td>\n",
       "      <td>NaN</td>\n",
       "      <td>NaN</td>\n",
       "    </tr>\n",
       "    <tr>\n",
       "      <th>1</th>\n",
       "      <td>2018.06.18</td>\n",
       "      <td>18-Jun-2018</td>\n",
       "      <td>2018.0</td>\n",
       "      <td>Unprovoked</td>\n",
       "      <td>USA</td>\n",
       "      <td>Georgia</td>\n",
       "      <td>St. Simon Island, Glynn County</td>\n",
       "      <td>Standing</td>\n",
       "      <td>Adyson McNeely</td>\n",
       "      <td>F</td>\n",
       "      <td>11</td>\n",
       "      <td>Minor injury to left thigh</td>\n",
       "      <td>N</td>\n",
       "      <td>14h00  -15h00</td>\n",
       "      <td>NaN</td>\n",
       "      <td>K.McMurray, TrackingSharks.com</td>\n",
       "      <td>2018.06.18-McNeely.pdf</td>\n",
       "      <td>http://sharkattackfile.net/spreadsheets/pdf_di...</td>\n",
       "      <td>http://sharkattackfile.net/spreadsheets/pdf_di...</td>\n",
       "      <td>2018.06.18</td>\n",
       "      <td>2018.06.18</td>\n",
       "      <td>6302.0</td>\n",
       "      <td>NaN</td>\n",
       "      <td>NaN</td>\n",
       "    </tr>\n",
       "    <tr>\n",
       "      <th>2</th>\n",
       "      <td>2018.06.09</td>\n",
       "      <td>09-Jun-2018</td>\n",
       "      <td>2018.0</td>\n",
       "      <td>Invalid</td>\n",
       "      <td>USA</td>\n",
       "      <td>Hawaii</td>\n",
       "      <td>Habush, Oahu</td>\n",
       "      <td>Surfing</td>\n",
       "      <td>John Denges</td>\n",
       "      <td>M</td>\n",
       "      <td>48</td>\n",
       "      <td>Injury to left lower leg from surfboard skeg</td>\n",
       "      <td>N</td>\n",
       "      <td>07h45</td>\n",
       "      <td>NaN</td>\n",
       "      <td>K.McMurray, TrackingSharks.com</td>\n",
       "      <td>2018.06.09-Denges.pdf</td>\n",
       "      <td>http://sharkattackfile.net/spreadsheets/pdf_di...</td>\n",
       "      <td>http://sharkattackfile.net/spreadsheets/pdf_di...</td>\n",
       "      <td>2018.06.09</td>\n",
       "      <td>2018.06.09</td>\n",
       "      <td>6301.0</td>\n",
       "      <td>NaN</td>\n",
       "      <td>NaN</td>\n",
       "    </tr>\n",
       "    <tr>\n",
       "      <th>3</th>\n",
       "      <td>2018.06.08</td>\n",
       "      <td>08-Jun-2018</td>\n",
       "      <td>2018.0</td>\n",
       "      <td>Unprovoked</td>\n",
       "      <td>AUSTRALIA</td>\n",
       "      <td>New South Wales</td>\n",
       "      <td>Arrawarra Headland</td>\n",
       "      <td>Surfing</td>\n",
       "      <td>male</td>\n",
       "      <td>M</td>\n",
       "      <td>NaN</td>\n",
       "      <td>Minor injury to lower leg</td>\n",
       "      <td>N</td>\n",
       "      <td>NaN</td>\n",
       "      <td>2 m shark</td>\n",
       "      <td>B. Myatt, GSAF</td>\n",
       "      <td>2018.06.08-Arrawarra.pdf</td>\n",
       "      <td>http://sharkattackfile.net/spreadsheets/pdf_di...</td>\n",
       "      <td>http://sharkattackfile.net/spreadsheets/pdf_di...</td>\n",
       "      <td>2018.06.08</td>\n",
       "      <td>2018.06.08</td>\n",
       "      <td>6300.0</td>\n",
       "      <td>NaN</td>\n",
       "      <td>NaN</td>\n",
       "    </tr>\n",
       "    <tr>\n",
       "      <th>4</th>\n",
       "      <td>2018.06.04</td>\n",
       "      <td>04-Jun-2018</td>\n",
       "      <td>2018.0</td>\n",
       "      <td>Provoked</td>\n",
       "      <td>MEXICO</td>\n",
       "      <td>Colima</td>\n",
       "      <td>La Ticla</td>\n",
       "      <td>Free diving</td>\n",
       "      <td>Gustavo Ramos</td>\n",
       "      <td>M</td>\n",
       "      <td>NaN</td>\n",
       "      <td>Lacerations to leg &amp; hand shark PROVOKED INCIDENT</td>\n",
       "      <td>N</td>\n",
       "      <td>NaN</td>\n",
       "      <td>Tiger shark, 3m</td>\n",
       "      <td>A .Kipper</td>\n",
       "      <td>2018.06.04-Ramos.pdf</td>\n",
       "      <td>http://sharkattackfile.net/spreadsheets/pdf_di...</td>\n",
       "      <td>http://sharkattackfile.net/spreadsheets/pdf_di...</td>\n",
       "      <td>2018.06.04</td>\n",
       "      <td>2018.06.04</td>\n",
       "      <td>6299.0</td>\n",
       "      <td>NaN</td>\n",
       "      <td>NaN</td>\n",
       "    </tr>\n",
       "  </tbody>\n",
       "</table>\n",
       "</div>"
      ],
      "text/plain": [
       "  Case Number         Date    Year        Type    Country             Area  \\\n",
       "0  2018.06.25  25-Jun-2018  2018.0     Boating        USA       California   \n",
       "1  2018.06.18  18-Jun-2018  2018.0  Unprovoked        USA          Georgia   \n",
       "2  2018.06.09  09-Jun-2018  2018.0     Invalid        USA           Hawaii   \n",
       "3  2018.06.08  08-Jun-2018  2018.0  Unprovoked  AUSTRALIA  New South Wales   \n",
       "4  2018.06.04  04-Jun-2018  2018.0    Provoked     MEXICO           Colima   \n",
       "\n",
       "                         Location     Activity             Name Sex   Age  \\\n",
       "0     Oceanside, San Diego County     Paddling      Julie Wolfe    F   57   \n",
       "1  St. Simon Island, Glynn County     Standing  Adyson McNeely     F   11   \n",
       "2                    Habush, Oahu      Surfing      John Denges    M   48   \n",
       "3              Arrawarra Headland      Surfing             male    M  NaN   \n",
       "4                        La Ticla  Free diving   Gustavo Ramos     M  NaN   \n",
       "\n",
       "                                              Injury Fatal (Y/N)  \\\n",
       "0  No injury to occupant, outrigger canoe and pad...           N   \n",
       "1                         Minor injury to left thigh           N   \n",
       "2       Injury to left lower leg from surfboard skeg           N   \n",
       "3                          Minor injury to lower leg           N   \n",
       "4  Lacerations to leg & hand shark PROVOKED INCIDENT           N   \n",
       "\n",
       "            Time         Species           Investigator or Source  \\\n",
       "0          18h00      White shark                R. Collier, GSAF   \n",
       "1  14h00  -15h00              NaN  K.McMurray, TrackingSharks.com   \n",
       "2          07h45              NaN  K.McMurray, TrackingSharks.com   \n",
       "3            NaN        2 m shark                  B. Myatt, GSAF   \n",
       "4            NaN  Tiger shark, 3m                       A .Kipper   \n",
       "\n",
       "                        pdf  \\\n",
       "0      2018.06.25-Wolfe.pdf   \n",
       "1    2018.06.18-McNeely.pdf   \n",
       "2     2018.06.09-Denges.pdf   \n",
       "3  2018.06.08-Arrawarra.pdf   \n",
       "4      2018.06.04-Ramos.pdf   \n",
       "\n",
       "                                        href formula  \\\n",
       "0  http://sharkattackfile.net/spreadsheets/pdf_di...   \n",
       "1  http://sharkattackfile.net/spreadsheets/pdf_di...   \n",
       "2  http://sharkattackfile.net/spreadsheets/pdf_di...   \n",
       "3  http://sharkattackfile.net/spreadsheets/pdf_di...   \n",
       "4  http://sharkattackfile.net/spreadsheets/pdf_di...   \n",
       "\n",
       "                                                href Case Number.1  \\\n",
       "0  http://sharkattackfile.net/spreadsheets/pdf_di...    2018.06.25   \n",
       "1  http://sharkattackfile.net/spreadsheets/pdf_di...    2018.06.18   \n",
       "2  http://sharkattackfile.net/spreadsheets/pdf_di...    2018.06.09   \n",
       "3  http://sharkattackfile.net/spreadsheets/pdf_di...    2018.06.08   \n",
       "4  http://sharkattackfile.net/spreadsheets/pdf_di...    2018.06.04   \n",
       "\n",
       "  Case Number.2  original order Unnamed: 22 Unnamed: 23  \n",
       "0    2018.06.25          6303.0         NaN         NaN  \n",
       "1    2018.06.18          6302.0         NaN         NaN  \n",
       "2    2018.06.09          6301.0         NaN         NaN  \n",
       "3    2018.06.08          6300.0         NaN         NaN  \n",
       "4    2018.06.04          6299.0         NaN         NaN  "
      ]
     },
     "execution_count": 3,
     "metadata": {},
     "output_type": "execute_result"
    }
   ],
   "source": [
    "sharks_ori.head()"
   ]
  },
  {
   "cell_type": "code",
   "execution_count": 4,
   "id": "1c1565e9",
   "metadata": {},
   "outputs": [],
   "source": [
    "sharks1 = sharks_ori.copy()"
   ]
  },
  {
   "cell_type": "code",
   "execution_count": 5,
   "id": "235808e1",
   "metadata": {},
   "outputs": [
    {
     "data": {
      "text/plain": [
       "(25723, 24)"
      ]
     },
     "execution_count": 5,
     "metadata": {},
     "output_type": "execute_result"
    }
   ],
   "source": [
    "sharks1.shape"
   ]
  },
  {
   "cell_type": "code",
   "execution_count": 6,
   "id": "fb02a8f2",
   "metadata": {},
   "outputs": [
    {
     "data": {
      "text/plain": [
       "Index(['Case Number', 'Date', 'Year', 'Type', 'Country', 'Area', 'Location',\n",
       "       'Activity', 'Name', 'Sex ', 'Age', 'Injury', 'Fatal (Y/N)', 'Time',\n",
       "       'Species ', 'Investigator or Source', 'pdf', 'href formula', 'href',\n",
       "       'Case Number.1', 'Case Number.2', 'original order', 'Unnamed: 22',\n",
       "       'Unnamed: 23'],\n",
       "      dtype='object')"
      ]
     },
     "execution_count": 6,
     "metadata": {},
     "output_type": "execute_result"
    }
   ],
   "source": [
    "sharks1.columns"
   ]
  },
  {
   "cell_type": "code",
   "execution_count": 7,
   "id": "30aaf975",
   "metadata": {},
   "outputs": [
    {
     "data": {
      "text/plain": [
       "stopped here    1\n",
       "Name: Unnamed: 22, dtype: int64"
      ]
     },
     "execution_count": 7,
     "metadata": {},
     "output_type": "execute_result"
    }
   ],
   "source": [
    "sharks1['Unnamed: 22'].value_counts()"
   ]
  },
  {
   "cell_type": "code",
   "execution_count": 8,
   "id": "e3e5dd36",
   "metadata": {},
   "outputs": [
    {
     "data": {
      "text/plain": [
       "Teramo             1\n",
       "change filename    1\n",
       "Name: Unnamed: 23, dtype: int64"
      ]
     },
     "execution_count": 8,
     "metadata": {},
     "output_type": "execute_result"
    }
   ],
   "source": [
    "sharks1['Unnamed: 23'].value_counts()"
   ]
  },
  {
   "cell_type": "code",
   "execution_count": 9,
   "id": "cc214df0",
   "metadata": {},
   "outputs": [
    {
     "name": "stdout",
     "output_type": "stream",
     "text": [
      "<class 'pandas.core.frame.DataFrame'>\n",
      "RangeIndex: 25723 entries, 0 to 25722\n",
      "Data columns (total 24 columns):\n",
      " #   Column                  Non-Null Count  Dtype  \n",
      "---  ------                  --------------  -----  \n",
      " 0   Case Number             8702 non-null   object \n",
      " 1   Date                    6302 non-null   object \n",
      " 2   Year                    6300 non-null   float64\n",
      " 3   Type                    6298 non-null   object \n",
      " 4   Country                 6252 non-null   object \n",
      " 5   Area                    5847 non-null   object \n",
      " 6   Location                5762 non-null   object \n",
      " 7   Activity                5758 non-null   object \n",
      " 8   Name                    6092 non-null   object \n",
      " 9   Sex                     5737 non-null   object \n",
      " 10  Age                     3471 non-null   object \n",
      " 11  Injury                  6274 non-null   object \n",
      " 12  Fatal (Y/N)             5763 non-null   object \n",
      " 13  Time                    2948 non-null   object \n",
      " 14  Species                 3464 non-null   object \n",
      " 15  Investigator or Source  6285 non-null   object \n",
      " 16  pdf                     6302 non-null   object \n",
      " 17  href formula            6301 non-null   object \n",
      " 18  href                    6302 non-null   object \n",
      " 19  Case Number.1           6302 non-null   object \n",
      " 20  Case Number.2           6302 non-null   object \n",
      " 21  original order          6309 non-null   float64\n",
      " 22  Unnamed: 22             1 non-null      object \n",
      " 23  Unnamed: 23             2 non-null      object \n",
      "dtypes: float64(2), object(22)\n",
      "memory usage: 22.8 MB\n"
     ]
    }
   ],
   "source": [
    "sharks1.info(memory_usage='deep')"
   ]
  },
  {
   "cell_type": "markdown",
   "id": "41f4dc78",
   "metadata": {},
   "source": [
    "### Vamos a comprobar las columnas con valores nulos"
   ]
  },
  {
   "cell_type": "code",
   "execution_count": 10,
   "id": "cfc0f6e8",
   "metadata": {},
   "outputs": [
    {
     "data": {
      "text/plain": [
       "Case Number               17021\n",
       "Date                      19421\n",
       "Year                      19423\n",
       "Type                      19425\n",
       "Country                   19471\n",
       "Area                      19876\n",
       "Location                  19961\n",
       "Activity                  19965\n",
       "Name                      19631\n",
       "Sex                       19986\n",
       "Age                       22252\n",
       "Injury                    19449\n",
       "Fatal (Y/N)               19960\n",
       "Time                      22775\n",
       "Species                   22259\n",
       "Investigator or Source    19438\n",
       "pdf                       19421\n",
       "href formula              19422\n",
       "href                      19421\n",
       "Case Number.1             19421\n",
       "Case Number.2             19421\n",
       "original order            19414\n",
       "Unnamed: 22               25722\n",
       "Unnamed: 23               25721\n",
       "dtype: int64"
      ]
     },
     "execution_count": 10,
     "metadata": {},
     "output_type": "execute_result"
    }
   ],
   "source": [
    "nan_cols=sharks1.isna().sum()\n",
    "\n",
    "nan_cols[nan_cols>0]"
   ]
  },
  {
   "cell_type": "markdown",
   "id": "87b31934",
   "metadata": {},
   "source": [
    "### Ahora definimos una función para checkear todas las columnas y el porcentaje de valores nulos que contienen, así como crear un gráfico que lo represente."
   ]
  },
  {
   "cell_type": "code",
   "execution_count": 11,
   "id": "f8654bdb",
   "metadata": {},
   "outputs": [],
   "source": [
    "\n",
    "def check_nan(df: pd.DataFrame) -> None:\n",
    "    \n",
    "    nan_cols=df.isna().mean() * 100  # el porcentaje\n",
    "    \n",
    "    display(f'N nan cols: {len(nan_cols[nan_cols>0])}')\n",
    "    display(nan_cols[nan_cols>0])\n",
    "    \n",
    "    plt.figure(figsize=(10, 6))  # inicia la figura y establece tamaño\n",
    "\n",
    "    sns.heatmap(df.isna(),  # mapa de calor\n",
    "                yticklabels=False,\n",
    "                cmap='viridis',\n",
    "                cbar=False)\n",
    "\n",
    "    plt.show();"
   ]
  },
  {
   "cell_type": "code",
   "execution_count": 12,
   "id": "0cd043df",
   "metadata": {},
   "outputs": [
    {
     "data": {
      "text/plain": [
       "'N nan cols: 24'"
      ]
     },
     "metadata": {},
     "output_type": "display_data"
    },
    {
     "data": {
      "text/plain": [
       "Case Number               66.170353\n",
       "Date                      75.500525\n",
       "Year                      75.508300\n",
       "Type                      75.516075\n",
       "Country                   75.694903\n",
       "Area                      77.269370\n",
       "Location                  77.599813\n",
       "Activity                  77.615364\n",
       "Name                      76.316915\n",
       "Sex                       77.697003\n",
       "Age                       86.506240\n",
       "Injury                    75.609377\n",
       "Fatal (Y/N)               77.595926\n",
       "Time                      88.539439\n",
       "Species                   86.533453\n",
       "Investigator or Source    75.566614\n",
       "pdf                       75.500525\n",
       "href formula              75.504412\n",
       "href                      75.500525\n",
       "Case Number.1             75.500525\n",
       "Case Number.2             75.500525\n",
       "original order            75.473312\n",
       "Unnamed: 22               99.996112\n",
       "Unnamed: 23               99.992225\n",
       "dtype: float64"
      ]
     },
     "metadata": {},
     "output_type": "display_data"
    },
    {
     "data": {
      "image/png": "[encoded data removed]",
      "text/plain": [
       "<Figure size 720x432 with 1 Axes>"
      ]
     },
     "metadata": {
      "needs_background": "light"
     },
     "output_type": "display_data"
    }
   ],
   "source": [
    "check_nan(sharks1)"
   ]
  },
  {
   "cell_type": "code",
   "execution_count": null,
   "id": "6de1b2b6",
   "metadata": {},
   "outputs": [],
   "source": []
  },
  {
   "cell_type": "markdown",
   "id": "96c6fbaa",
   "metadata": {},
   "source": [
    "### Las dos últimas columnas tienen cerca del 100% de valores nulos, por lo que las vamos a borrar."
   ]
  },
  {
   "cell_type": "code",
   "execution_count": 13,
   "id": "12d905c1",
   "metadata": {},
   "outputs": [],
   "source": [
    "cols=['Unnamed: 22', 'Unnamed: 23']\n",
    "\n",
    "sharks1.drop(columns=cols, inplace=True)"
   ]
  },
  {
   "cell_type": "code",
   "execution_count": 14,
   "id": "2210b675",
   "metadata": {},
   "outputs": [
    {
     "data": {
      "text/plain": [
       "((25723, 22), (25723, 24))"
      ]
     },
     "execution_count": 14,
     "metadata": {},
     "output_type": "execute_result"
    }
   ],
   "source": [
    "sharks1.shape, sharks_ori.shape"
   ]
  },
  {
   "cell_type": "code",
   "execution_count": 15,
   "id": "66fbf907",
   "metadata": {},
   "outputs": [
    {
     "data": {
      "text/plain": [
       "'N nan cols: 22'"
      ]
     },
     "metadata": {},
     "output_type": "display_data"
    },
    {
     "data": {
      "text/plain": [
       "Case Number               66.170353\n",
       "Date                      75.500525\n",
       "Year                      75.508300\n",
       "Type                      75.516075\n",
       "Country                   75.694903\n",
       "Area                      77.269370\n",
       "Location                  77.599813\n",
       "Activity                  77.615364\n",
       "Name                      76.316915\n",
       "Sex                       77.697003\n",
       "Age                       86.506240\n",
       "Injury                    75.609377\n",
       "Fatal (Y/N)               77.595926\n",
       "Time                      88.539439\n",
       "Species                   86.533453\n",
       "Investigator or Source    75.566614\n",
       "pdf                       75.500525\n",
       "href formula              75.504412\n",
       "href                      75.500525\n",
       "Case Number.1             75.500525\n",
       "Case Number.2             75.500525\n",
       "original order            75.473312\n",
       "dtype: float64"
      ]
     },
     "metadata": {},
     "output_type": "display_data"
    },
    {
     "data": {
      "image/png": "[encoded data removed]",
      "text/plain": [
       "<Figure size 720x432 with 1 Axes>"
      ]
     },
     "metadata": {
      "needs_background": "light"
     },
     "output_type": "display_data"
    }
   ],
   "source": [
    "check_nan(sharks1)"
   ]
  },
  {
   "cell_type": "markdown",
   "id": "8341ab73",
   "metadata": {},
   "source": [
    "### Al haber un alto número de filas con valores nulos en casi todos su campos, lo lógico es deshacerse de esos registros, porque no están aportando información de calidad."
   ]
  },
  {
   "cell_type": "code",
   "execution_count": 16,
   "id": "a5d482c2",
   "metadata": {},
   "outputs": [
    {
     "data": {
      "text/plain": [
       "(25723, 22)"
      ]
     },
     "execution_count": 16,
     "metadata": {},
     "output_type": "execute_result"
    }
   ],
   "source": [
    "sharks1.shape"
   ]
  },
  {
   "cell_type": "markdown",
   "id": "51b1f2f6",
   "metadata": {},
   "source": [
    "#### Creamos un indicador de nulos por fila"
   ]
  },
  {
   "cell_type": "code",
   "execution_count": 17,
   "id": "eb8d82cf",
   "metadata": {},
   "outputs": [
    {
     "data": {
      "text/plain": [
       "[0, 1, 1, 2, 2, 3, 0, 1, 0, 1]"
      ]
     },
     "execution_count": 17,
     "metadata": {},
     "output_type": "execute_result"
    }
   ],
   "source": [
    "\n",
    "num_nan=[]\n",
    "\n",
    "for fila in sharks1.itertuples():\n",
    "    \n",
    "    check=[]\n",
    "    \n",
    "    for e in fila:\n",
    "        \n",
    "        check.append(pd.isna(e))\n",
    "        \n",
    "    num_nan.append(sum(check))\n",
    "    \n",
    "num_nan[:10]"
   ]
  },
  {
   "cell_type": "code",
   "execution_count": 18,
   "id": "0969df52",
   "metadata": {},
   "outputs": [],
   "source": [
    "sharks1['num_nan']=[sum([pd.isna(e) for e in fila]) for fila in sharks1.itertuples()]"
   ]
  },
  {
   "cell_type": "code",
   "execution_count": 19,
   "id": "130c0d7e",
   "metadata": {},
   "outputs": [
    {
     "data": {
      "text/html": [
       "<div>\n",
       "<style scoped>\n",
       "    .dataframe tbody tr th:only-of-type {\n",
       "        vertical-align: middle;\n",
       "    }\n",
       "\n",
       "    .dataframe tbody tr th {\n",
       "        vertical-align: top;\n",
       "    }\n",
       "\n",
       "    .dataframe thead th {\n",
       "        text-align: right;\n",
       "    }\n",
       "</style>\n",
       "<table border=\"1\" class=\"dataframe\">\n",
       "  <thead>\n",
       "    <tr style=\"text-align: right;\">\n",
       "      <th></th>\n",
       "      <th>Case Number</th>\n",
       "      <th>Date</th>\n",
       "      <th>Year</th>\n",
       "      <th>Type</th>\n",
       "      <th>Country</th>\n",
       "      <th>Area</th>\n",
       "      <th>Location</th>\n",
       "      <th>Activity</th>\n",
       "      <th>Name</th>\n",
       "      <th>Sex</th>\n",
       "      <th>Age</th>\n",
       "      <th>Injury</th>\n",
       "      <th>Fatal (Y/N)</th>\n",
       "      <th>Time</th>\n",
       "      <th>Species</th>\n",
       "      <th>Investigator or Source</th>\n",
       "      <th>pdf</th>\n",
       "      <th>href formula</th>\n",
       "      <th>href</th>\n",
       "      <th>Case Number.1</th>\n",
       "      <th>Case Number.2</th>\n",
       "      <th>original order</th>\n",
       "      <th>num_nan</th>\n",
       "    </tr>\n",
       "  </thead>\n",
       "  <tbody>\n",
       "    <tr>\n",
       "      <th>0</th>\n",
       "      <td>2018.06.25</td>\n",
       "      <td>25-Jun-2018</td>\n",
       "      <td>2018.0</td>\n",
       "      <td>Boating</td>\n",
       "      <td>USA</td>\n",
       "      <td>California</td>\n",
       "      <td>Oceanside, San Diego County</td>\n",
       "      <td>Paddling</td>\n",
       "      <td>Julie Wolfe</td>\n",
       "      <td>F</td>\n",
       "      <td>57</td>\n",
       "      <td>No injury to occupant, outrigger canoe and pad...</td>\n",
       "      <td>N</td>\n",
       "      <td>18h00</td>\n",
       "      <td>White shark</td>\n",
       "      <td>R. Collier, GSAF</td>\n",
       "      <td>2018.06.25-Wolfe.pdf</td>\n",
       "      <td>http://sharkattackfile.net/spreadsheets/pdf_di...</td>\n",
       "      <td>http://sharkattackfile.net/spreadsheets/pdf_di...</td>\n",
       "      <td>2018.06.25</td>\n",
       "      <td>2018.06.25</td>\n",
       "      <td>6303.0</td>\n",
       "      <td>0</td>\n",
       "    </tr>\n",
       "    <tr>\n",
       "      <th>1</th>\n",
       "      <td>2018.06.18</td>\n",
       "      <td>18-Jun-2018</td>\n",
       "      <td>2018.0</td>\n",
       "      <td>Unprovoked</td>\n",
       "      <td>USA</td>\n",
       "      <td>Georgia</td>\n",
       "      <td>St. Simon Island, Glynn County</td>\n",
       "      <td>Standing</td>\n",
       "      <td>Adyson McNeely</td>\n",
       "      <td>F</td>\n",
       "      <td>11</td>\n",
       "      <td>Minor injury to left thigh</td>\n",
       "      <td>N</td>\n",
       "      <td>14h00  -15h00</td>\n",
       "      <td>NaN</td>\n",
       "      <td>K.McMurray, TrackingSharks.com</td>\n",
       "      <td>2018.06.18-McNeely.pdf</td>\n",
       "      <td>http://sharkattackfile.net/spreadsheets/pdf_di...</td>\n",
       "      <td>http://sharkattackfile.net/spreadsheets/pdf_di...</td>\n",
       "      <td>2018.06.18</td>\n",
       "      <td>2018.06.18</td>\n",
       "      <td>6302.0</td>\n",
       "      <td>1</td>\n",
       "    </tr>\n",
       "    <tr>\n",
       "      <th>2</th>\n",
       "      <td>2018.06.09</td>\n",
       "      <td>09-Jun-2018</td>\n",
       "      <td>2018.0</td>\n",
       "      <td>Invalid</td>\n",
       "      <td>USA</td>\n",
       "      <td>Hawaii</td>\n",
       "      <td>Habush, Oahu</td>\n",
       "      <td>Surfing</td>\n",
       "      <td>John Denges</td>\n",
       "      <td>M</td>\n",
       "      <td>48</td>\n",
       "      <td>Injury to left lower leg from surfboard skeg</td>\n",
       "      <td>N</td>\n",
       "      <td>07h45</td>\n",
       "      <td>NaN</td>\n",
       "      <td>K.McMurray, TrackingSharks.com</td>\n",
       "      <td>2018.06.09-Denges.pdf</td>\n",
       "      <td>http://sharkattackfile.net/spreadsheets/pdf_di...</td>\n",
       "      <td>http://sharkattackfile.net/spreadsheets/pdf_di...</td>\n",
       "      <td>2018.06.09</td>\n",
       "      <td>2018.06.09</td>\n",
       "      <td>6301.0</td>\n",
       "      <td>1</td>\n",
       "    </tr>\n",
       "    <tr>\n",
       "      <th>3</th>\n",
       "      <td>2018.06.08</td>\n",
       "      <td>08-Jun-2018</td>\n",
       "      <td>2018.0</td>\n",
       "      <td>Unprovoked</td>\n",
       "      <td>AUSTRALIA</td>\n",
       "      <td>New South Wales</td>\n",
       "      <td>Arrawarra Headland</td>\n",
       "      <td>Surfing</td>\n",
       "      <td>male</td>\n",
       "      <td>M</td>\n",
       "      <td>NaN</td>\n",
       "      <td>Minor injury to lower leg</td>\n",
       "      <td>N</td>\n",
       "      <td>NaN</td>\n",
       "      <td>2 m shark</td>\n",
       "      <td>B. Myatt, GSAF</td>\n",
       "      <td>2018.06.08-Arrawarra.pdf</td>\n",
       "      <td>http://sharkattackfile.net/spreadsheets/pdf_di...</td>\n",
       "      <td>http://sharkattackfile.net/spreadsheets/pdf_di...</td>\n",
       "      <td>2018.06.08</td>\n",
       "      <td>2018.06.08</td>\n",
       "      <td>6300.0</td>\n",
       "      <td>2</td>\n",
       "    </tr>\n",
       "    <tr>\n",
       "      <th>4</th>\n",
       "      <td>2018.06.04</td>\n",
       "      <td>04-Jun-2018</td>\n",
       "      <td>2018.0</td>\n",
       "      <td>Provoked</td>\n",
       "      <td>MEXICO</td>\n",
       "      <td>Colima</td>\n",
       "      <td>La Ticla</td>\n",
       "      <td>Free diving</td>\n",
       "      <td>Gustavo Ramos</td>\n",
       "      <td>M</td>\n",
       "      <td>NaN</td>\n",
       "      <td>Lacerations to leg &amp; hand shark PROVOKED INCIDENT</td>\n",
       "      <td>N</td>\n",
       "      <td>NaN</td>\n",
       "      <td>Tiger shark, 3m</td>\n",
       "      <td>A .Kipper</td>\n",
       "      <td>2018.06.04-Ramos.pdf</td>\n",
       "      <td>http://sharkattackfile.net/spreadsheets/pdf_di...</td>\n",
       "      <td>http://sharkattackfile.net/spreadsheets/pdf_di...</td>\n",
       "      <td>2018.06.04</td>\n",
       "      <td>2018.06.04</td>\n",
       "      <td>6299.0</td>\n",
       "      <td>2</td>\n",
       "    </tr>\n",
       "  </tbody>\n",
       "</table>\n",
       "</div>"
      ],
      "text/plain": [
       "  Case Number         Date    Year        Type    Country             Area  \\\n",
       "0  2018.06.25  25-Jun-2018  2018.0     Boating        USA       California   \n",
       "1  2018.06.18  18-Jun-2018  2018.0  Unprovoked        USA          Georgia   \n",
       "2  2018.06.09  09-Jun-2018  2018.0     Invalid        USA           Hawaii   \n",
       "3  2018.06.08  08-Jun-2018  2018.0  Unprovoked  AUSTRALIA  New South Wales   \n",
       "4  2018.06.04  04-Jun-2018  2018.0    Provoked     MEXICO           Colima   \n",
       "\n",
       "                         Location     Activity             Name Sex   Age  \\\n",
       "0     Oceanside, San Diego County     Paddling      Julie Wolfe    F   57   \n",
       "1  St. Simon Island, Glynn County     Standing  Adyson McNeely     F   11   \n",
       "2                    Habush, Oahu      Surfing      John Denges    M   48   \n",
       "3              Arrawarra Headland      Surfing             male    M  NaN   \n",
       "4                        La Ticla  Free diving   Gustavo Ramos     M  NaN   \n",
       "\n",
       "                                              Injury Fatal (Y/N)  \\\n",
       "0  No injury to occupant, outrigger canoe and pad...           N   \n",
       "1                         Minor injury to left thigh           N   \n",
       "2       Injury to left lower leg from surfboard skeg           N   \n",
       "3                          Minor injury to lower leg           N   \n",
       "4  Lacerations to leg & hand shark PROVOKED INCIDENT           N   \n",
       "\n",
       "            Time         Species           Investigator or Source  \\\n",
       "0          18h00      White shark                R. Collier, GSAF   \n",
       "1  14h00  -15h00              NaN  K.McMurray, TrackingSharks.com   \n",
       "2          07h45              NaN  K.McMurray, TrackingSharks.com   \n",
       "3            NaN        2 m shark                  B. Myatt, GSAF   \n",
       "4            NaN  Tiger shark, 3m                       A .Kipper   \n",
       "\n",
       "                        pdf  \\\n",
       "0      2018.06.25-Wolfe.pdf   \n",
       "1    2018.06.18-McNeely.pdf   \n",
       "2     2018.06.09-Denges.pdf   \n",
       "3  2018.06.08-Arrawarra.pdf   \n",
       "4      2018.06.04-Ramos.pdf   \n",
       "\n",
       "                                        href formula  \\\n",
       "0  http://sharkattackfile.net/spreadsheets/pdf_di...   \n",
       "1  http://sharkattackfile.net/spreadsheets/pdf_di...   \n",
       "2  http://sharkattackfile.net/spreadsheets/pdf_di...   \n",
       "3  http://sharkattackfile.net/spreadsheets/pdf_di...   \n",
       "4  http://sharkattackfile.net/spreadsheets/pdf_di...   \n",
       "\n",
       "                                                href Case Number.1  \\\n",
       "0  http://sharkattackfile.net/spreadsheets/pdf_di...    2018.06.25   \n",
       "1  http://sharkattackfile.net/spreadsheets/pdf_di...    2018.06.18   \n",
       "2  http://sharkattackfile.net/spreadsheets/pdf_di...    2018.06.09   \n",
       "3  http://sharkattackfile.net/spreadsheets/pdf_di...    2018.06.08   \n",
       "4  http://sharkattackfile.net/spreadsheets/pdf_di...    2018.06.04   \n",
       "\n",
       "  Case Number.2  original order  num_nan  \n",
       "0    2018.06.25          6303.0        0  \n",
       "1    2018.06.18          6302.0        1  \n",
       "2    2018.06.09          6301.0        1  \n",
       "3    2018.06.08          6300.0        2  \n",
       "4    2018.06.04          6299.0        2  "
      ]
     },
     "execution_count": 19,
     "metadata": {},
     "output_type": "execute_result"
    }
   ],
   "source": [
    "sharks1.head()"
   ]
  },
  {
   "cell_type": "markdown",
   "id": "22b4c02c",
   "metadata": {},
   "source": [
    "#### Vamos a fijar un umbral de 15 nulos por fila, si hay más de 15 nulos por fila, voy a borrarla.\n",
    " "
   ]
  },
  {
   "cell_type": "code",
   "execution_count": 20,
   "id": "92287de0",
   "metadata": {},
   "outputs": [
    {
     "data": {
      "text/plain": [
       "((19421, 23), (25723, 24))"
      ]
     },
     "execution_count": 20,
     "metadata": {},
     "output_type": "execute_result"
    }
   ],
   "source": [
    "\n",
    "sharks1[sharks1.num_nan>15].shape, sharks_ori.shape"
   ]
  },
  {
   "cell_type": "code",
   "execution_count": 21,
   "id": "8f8b7d70",
   "metadata": {},
   "outputs": [],
   "source": [
    "sharks1.drop(sharks1[sharks1.num_nan>15].index, axis=0, inplace=True)  "
   ]
  },
  {
   "cell_type": "markdown",
   "id": "c6d8d60a",
   "metadata": {},
   "source": [
    "#### Ahora borro la columna 'num_nan' porque ya no me sirve"
   ]
  },
  {
   "cell_type": "code",
   "execution_count": 22,
   "id": "22050b5c",
   "metadata": {},
   "outputs": [],
   "source": [
    "\n",
    "sharks1.drop('num_nan', axis=1, inplace=True)  "
   ]
  },
  {
   "cell_type": "code",
   "execution_count": 23,
   "id": "16c152b0",
   "metadata": {},
   "outputs": [
    {
     "data": {
      "text/plain": [
       "'N nan cols: 16'"
      ]
     },
     "metadata": {},
     "output_type": "display_data"
    },
    {
     "data": {
      "text/plain": [
       "Case Number                0.015868\n",
       "Year                       0.031736\n",
       "Type                       0.063472\n",
       "Country                    0.793399\n",
       "Area                       7.219930\n",
       "Location                   8.568708\n",
       "Activity                   8.632180\n",
       "Name                       3.332275\n",
       "Sex                        8.965408\n",
       "Age                       44.922247\n",
       "Injury                     0.444303\n",
       "Fatal (Y/N)                8.552840\n",
       "Time                      53.221200\n",
       "Species                   45.033323\n",
       "Investigator or Source     0.269756\n",
       "href formula               0.015868\n",
       "dtype: float64"
      ]
     },
     "metadata": {},
     "output_type": "display_data"
    },
    {
     "data": {
      "image/png": "[encoded data removed]",
      "text/plain": [
       "<Figure size 720x432 with 1 Axes>"
      ]
     },
     "metadata": {
      "needs_background": "light"
     },
     "output_type": "display_data"
    }
   ],
   "source": [
    "check_nan(sharks1)"
   ]
  },
  {
   "cell_type": "code",
   "execution_count": 24,
   "id": "b4ebf95a",
   "metadata": {},
   "outputs": [
    {
     "name": "stdout",
     "output_type": "stream",
     "text": [
      "<class 'pandas.core.frame.DataFrame'>\n",
      "RangeIndex: 6302 entries, 0 to 6301\n",
      "Data columns (total 22 columns):\n",
      " #   Column                  Non-Null Count  Dtype  \n",
      "---  ------                  --------------  -----  \n",
      " 0   Case Number             6301 non-null   object \n",
      " 1   Date                    6302 non-null   object \n",
      " 2   Year                    6300 non-null   float64\n",
      " 3   Type                    6298 non-null   object \n",
      " 4   Country                 6252 non-null   object \n",
      " 5   Area                    5847 non-null   object \n",
      " 6   Location                5762 non-null   object \n",
      " 7   Activity                5758 non-null   object \n",
      " 8   Name                    6092 non-null   object \n",
      " 9   Sex                     5737 non-null   object \n",
      " 10  Age                     3471 non-null   object \n",
      " 11  Injury                  6274 non-null   object \n",
      " 12  Fatal (Y/N)             5763 non-null   object \n",
      " 13  Time                    2948 non-null   object \n",
      " 14  Species                 3464 non-null   object \n",
      " 15  Investigator or Source  6285 non-null   object \n",
      " 16  pdf                     6302 non-null   object \n",
      " 17  href formula            6301 non-null   object \n",
      " 18  href                    6302 non-null   object \n",
      " 19  Case Number.1           6302 non-null   object \n",
      " 20  Case Number.2           6302 non-null   object \n",
      " 21  original order          6302 non-null   float64\n",
      "dtypes: float64(2), object(20)\n",
      "memory usage: 9.0 MB\n"
     ]
    }
   ],
   "source": [
    "sharks1.info(memory_usage='deep')"
   ]
  },
  {
   "cell_type": "code",
   "execution_count": 25,
   "id": "d97ede35",
   "metadata": {},
   "outputs": [
    {
     "data": {
      "text/plain": [
       "(6302, 22)"
      ]
     },
     "execution_count": 25,
     "metadata": {},
     "output_type": "execute_result"
    }
   ],
   "source": [
    "sharks1.shape"
   ]
  },
  {
   "cell_type": "code",
   "execution_count": 26,
   "id": "09c7d87a",
   "metadata": {},
   "outputs": [
    {
     "data": {
      "text/html": [
       "<div>\n",
       "<style scoped>\n",
       "    .dataframe tbody tr th:only-of-type {\n",
       "        vertical-align: middle;\n",
       "    }\n",
       "\n",
       "    .dataframe tbody tr th {\n",
       "        vertical-align: top;\n",
       "    }\n",
       "\n",
       "    .dataframe thead th {\n",
       "        text-align: right;\n",
       "    }\n",
       "</style>\n",
       "<table border=\"1\" class=\"dataframe\">\n",
       "  <thead>\n",
       "    <tr style=\"text-align: right;\">\n",
       "      <th></th>\n",
       "      <th>Case Number</th>\n",
       "      <th>Date</th>\n",
       "      <th>Year</th>\n",
       "      <th>Type</th>\n",
       "      <th>Country</th>\n",
       "      <th>Area</th>\n",
       "      <th>Location</th>\n",
       "      <th>Activity</th>\n",
       "      <th>Name</th>\n",
       "      <th>Sex</th>\n",
       "      <th>Age</th>\n",
       "      <th>Injury</th>\n",
       "      <th>Fatal (Y/N)</th>\n",
       "      <th>Time</th>\n",
       "      <th>Species</th>\n",
       "      <th>Investigator or Source</th>\n",
       "      <th>pdf</th>\n",
       "      <th>href formula</th>\n",
       "      <th>href</th>\n",
       "      <th>Case Number.1</th>\n",
       "      <th>Case Number.2</th>\n",
       "      <th>original order</th>\n",
       "    </tr>\n",
       "  </thead>\n",
       "  <tbody>\n",
       "    <tr>\n",
       "      <th>0</th>\n",
       "      <td>2018.06.25</td>\n",
       "      <td>25-Jun-2018</td>\n",
       "      <td>2018.0</td>\n",
       "      <td>Boating</td>\n",
       "      <td>USA</td>\n",
       "      <td>California</td>\n",
       "      <td>Oceanside, San Diego County</td>\n",
       "      <td>Paddling</td>\n",
       "      <td>Julie Wolfe</td>\n",
       "      <td>F</td>\n",
       "      <td>57</td>\n",
       "      <td>No injury to occupant, outrigger canoe and pad...</td>\n",
       "      <td>N</td>\n",
       "      <td>18h00</td>\n",
       "      <td>White shark</td>\n",
       "      <td>R. Collier, GSAF</td>\n",
       "      <td>2018.06.25-Wolfe.pdf</td>\n",
       "      <td>http://sharkattackfile.net/spreadsheets/pdf_di...</td>\n",
       "      <td>http://sharkattackfile.net/spreadsheets/pdf_di...</td>\n",
       "      <td>2018.06.25</td>\n",
       "      <td>2018.06.25</td>\n",
       "      <td>6303.0</td>\n",
       "    </tr>\n",
       "    <tr>\n",
       "      <th>1</th>\n",
       "      <td>2018.06.18</td>\n",
       "      <td>18-Jun-2018</td>\n",
       "      <td>2018.0</td>\n",
       "      <td>Unprovoked</td>\n",
       "      <td>USA</td>\n",
       "      <td>Georgia</td>\n",
       "      <td>St. Simon Island, Glynn County</td>\n",
       "      <td>Standing</td>\n",
       "      <td>Adyson McNeely</td>\n",
       "      <td>F</td>\n",
       "      <td>11</td>\n",
       "      <td>Minor injury to left thigh</td>\n",
       "      <td>N</td>\n",
       "      <td>14h00  -15h00</td>\n",
       "      <td>NaN</td>\n",
       "      <td>K.McMurray, TrackingSharks.com</td>\n",
       "      <td>2018.06.18-McNeely.pdf</td>\n",
       "      <td>http://sharkattackfile.net/spreadsheets/pdf_di...</td>\n",
       "      <td>http://sharkattackfile.net/spreadsheets/pdf_di...</td>\n",
       "      <td>2018.06.18</td>\n",
       "      <td>2018.06.18</td>\n",
       "      <td>6302.0</td>\n",
       "    </tr>\n",
       "    <tr>\n",
       "      <th>2</th>\n",
       "      <td>2018.06.09</td>\n",
       "      <td>09-Jun-2018</td>\n",
       "      <td>2018.0</td>\n",
       "      <td>Invalid</td>\n",
       "      <td>USA</td>\n",
       "      <td>Hawaii</td>\n",
       "      <td>Habush, Oahu</td>\n",
       "      <td>Surfing</td>\n",
       "      <td>John Denges</td>\n",
       "      <td>M</td>\n",
       "      <td>48</td>\n",
       "      <td>Injury to left lower leg from surfboard skeg</td>\n",
       "      <td>N</td>\n",
       "      <td>07h45</td>\n",
       "      <td>NaN</td>\n",
       "      <td>K.McMurray, TrackingSharks.com</td>\n",
       "      <td>2018.06.09-Denges.pdf</td>\n",
       "      <td>http://sharkattackfile.net/spreadsheets/pdf_di...</td>\n",
       "      <td>http://sharkattackfile.net/spreadsheets/pdf_di...</td>\n",
       "      <td>2018.06.09</td>\n",
       "      <td>2018.06.09</td>\n",
       "      <td>6301.0</td>\n",
       "    </tr>\n",
       "    <tr>\n",
       "      <th>3</th>\n",
       "      <td>2018.06.08</td>\n",
       "      <td>08-Jun-2018</td>\n",
       "      <td>2018.0</td>\n",
       "      <td>Unprovoked</td>\n",
       "      <td>AUSTRALIA</td>\n",
       "      <td>New South Wales</td>\n",
       "      <td>Arrawarra Headland</td>\n",
       "      <td>Surfing</td>\n",
       "      <td>male</td>\n",
       "      <td>M</td>\n",
       "      <td>NaN</td>\n",
       "      <td>Minor injury to lower leg</td>\n",
       "      <td>N</td>\n",
       "      <td>NaN</td>\n",
       "      <td>2 m shark</td>\n",
       "      <td>B. Myatt, GSAF</td>\n",
       "      <td>2018.06.08-Arrawarra.pdf</td>\n",
       "      <td>http://sharkattackfile.net/spreadsheets/pdf_di...</td>\n",
       "      <td>http://sharkattackfile.net/spreadsheets/pdf_di...</td>\n",
       "      <td>2018.06.08</td>\n",
       "      <td>2018.06.08</td>\n",
       "      <td>6300.0</td>\n",
       "    </tr>\n",
       "    <tr>\n",
       "      <th>4</th>\n",
       "      <td>2018.06.04</td>\n",
       "      <td>04-Jun-2018</td>\n",
       "      <td>2018.0</td>\n",
       "      <td>Provoked</td>\n",
       "      <td>MEXICO</td>\n",
       "      <td>Colima</td>\n",
       "      <td>La Ticla</td>\n",
       "      <td>Free diving</td>\n",
       "      <td>Gustavo Ramos</td>\n",
       "      <td>M</td>\n",
       "      <td>NaN</td>\n",
       "      <td>Lacerations to leg &amp; hand shark PROVOKED INCIDENT</td>\n",
       "      <td>N</td>\n",
       "      <td>NaN</td>\n",
       "      <td>Tiger shark, 3m</td>\n",
       "      <td>A .Kipper</td>\n",
       "      <td>2018.06.04-Ramos.pdf</td>\n",
       "      <td>http://sharkattackfile.net/spreadsheets/pdf_di...</td>\n",
       "      <td>http://sharkattackfile.net/spreadsheets/pdf_di...</td>\n",
       "      <td>2018.06.04</td>\n",
       "      <td>2018.06.04</td>\n",
       "      <td>6299.0</td>\n",
       "    </tr>\n",
       "  </tbody>\n",
       "</table>\n",
       "</div>"
      ],
      "text/plain": [
       "  Case Number         Date    Year        Type    Country             Area  \\\n",
       "0  2018.06.25  25-Jun-2018  2018.0     Boating        USA       California   \n",
       "1  2018.06.18  18-Jun-2018  2018.0  Unprovoked        USA          Georgia   \n",
       "2  2018.06.09  09-Jun-2018  2018.0     Invalid        USA           Hawaii   \n",
       "3  2018.06.08  08-Jun-2018  2018.0  Unprovoked  AUSTRALIA  New South Wales   \n",
       "4  2018.06.04  04-Jun-2018  2018.0    Provoked     MEXICO           Colima   \n",
       "\n",
       "                         Location     Activity             Name Sex   Age  \\\n",
       "0     Oceanside, San Diego County     Paddling      Julie Wolfe    F   57   \n",
       "1  St. Simon Island, Glynn County     Standing  Adyson McNeely     F   11   \n",
       "2                    Habush, Oahu      Surfing      John Denges    M   48   \n",
       "3              Arrawarra Headland      Surfing             male    M  NaN   \n",
       "4                        La Ticla  Free diving   Gustavo Ramos     M  NaN   \n",
       "\n",
       "                                              Injury Fatal (Y/N)  \\\n",
       "0  No injury to occupant, outrigger canoe and pad...           N   \n",
       "1                         Minor injury to left thigh           N   \n",
       "2       Injury to left lower leg from surfboard skeg           N   \n",
       "3                          Minor injury to lower leg           N   \n",
       "4  Lacerations to leg & hand shark PROVOKED INCIDENT           N   \n",
       "\n",
       "            Time         Species           Investigator or Source  \\\n",
       "0          18h00      White shark                R. Collier, GSAF   \n",
       "1  14h00  -15h00              NaN  K.McMurray, TrackingSharks.com   \n",
       "2          07h45              NaN  K.McMurray, TrackingSharks.com   \n",
       "3            NaN        2 m shark                  B. Myatt, GSAF   \n",
       "4            NaN  Tiger shark, 3m                       A .Kipper   \n",
       "\n",
       "                        pdf  \\\n",
       "0      2018.06.25-Wolfe.pdf   \n",
       "1    2018.06.18-McNeely.pdf   \n",
       "2     2018.06.09-Denges.pdf   \n",
       "3  2018.06.08-Arrawarra.pdf   \n",
       "4      2018.06.04-Ramos.pdf   \n",
       "\n",
       "                                        href formula  \\\n",
       "0  http://sharkattackfile.net/spreadsheets/pdf_di...   \n",
       "1  http://sharkattackfile.net/spreadsheets/pdf_di...   \n",
       "2  http://sharkattackfile.net/spreadsheets/pdf_di...   \n",
       "3  http://sharkattackfile.net/spreadsheets/pdf_di...   \n",
       "4  http://sharkattackfile.net/spreadsheets/pdf_di...   \n",
       "\n",
       "                                                href Case Number.1  \\\n",
       "0  http://sharkattackfile.net/spreadsheets/pdf_di...    2018.06.25   \n",
       "1  http://sharkattackfile.net/spreadsheets/pdf_di...    2018.06.18   \n",
       "2  http://sharkattackfile.net/spreadsheets/pdf_di...    2018.06.09   \n",
       "3  http://sharkattackfile.net/spreadsheets/pdf_di...    2018.06.08   \n",
       "4  http://sharkattackfile.net/spreadsheets/pdf_di...    2018.06.04   \n",
       "\n",
       "  Case Number.2  original order  \n",
       "0    2018.06.25          6303.0  \n",
       "1    2018.06.18          6302.0  \n",
       "2    2018.06.09          6301.0  \n",
       "3    2018.06.08          6300.0  \n",
       "4    2018.06.04          6299.0  "
      ]
     },
     "execution_count": 26,
     "metadata": {},
     "output_type": "execute_result"
    }
   ],
   "source": [
    "sharks1.head()"
   ]
  },
  {
   "cell_type": "code",
   "execution_count": 27,
   "id": "af6cdbaf",
   "metadata": {},
   "outputs": [
    {
     "data": {
      "text/plain": [
       "Index(['Case Number', 'Date', 'Year', 'Type', 'Country', 'Area', 'Location',\n",
       "       'Activity', 'Name', 'Sex ', 'Age', 'Injury', 'Fatal (Y/N)', 'Time',\n",
       "       'Species ', 'Investigator or Source', 'pdf', 'href formula', 'href',\n",
       "       'Case Number.1', 'Case Number.2', 'original order'],\n",
       "      dtype='object')"
      ]
     },
     "execution_count": 27,
     "metadata": {},
     "output_type": "execute_result"
    }
   ],
   "source": [
    "sharks1.columns"
   ]
  },
  {
   "cell_type": "markdown",
   "id": "3c3ce4cd",
   "metadata": {},
   "source": [
    "### Hay columnas con nombres incómodos, vamos a renombrarlas para poder llamarlas más fácilmente"
   ]
  },
  {
   "cell_type": "markdown",
   "id": "7502635a",
   "metadata": {},
   "source": [
    "Las columnas en cuestión son 'Sex ', 'Fatal (Y/N)', 'Species ', 'Case Number.1' y 'Case Number.2'."
   ]
  },
  {
   "cell_type": "code",
   "execution_count": 28,
   "id": "adba22ec",
   "metadata": {},
   "outputs": [],
   "source": [
    "sharks1.rename(columns={'Sex ':'Sex', 'Fatal (Y/N)': 'Fatal', 'Species ': 'Species', 'Case Number.1': 'CaseNumber_1', 'Case Number.2': 'CaseNumber_2'}, inplace=True)"
   ]
  },
  {
   "cell_type": "code",
   "execution_count": 29,
   "id": "fa8efb4a",
   "metadata": {},
   "outputs": [
    {
     "data": {
      "text/plain": [
       "Index(['Case Number', 'Date', 'Year', 'Type', 'Country', 'Area', 'Location',\n",
       "       'Activity', 'Name', 'Sex', 'Age', 'Injury', 'Fatal', 'Time', 'Species',\n",
       "       'Investigator or Source', 'pdf', 'href formula', 'href', 'CaseNumber_1',\n",
       "       'CaseNumber_2', 'original order'],\n",
       "      dtype='object')"
      ]
     },
     "execution_count": 29,
     "metadata": {},
     "output_type": "execute_result"
    }
   ],
   "source": [
    "sharks1.columns"
   ]
  },
  {
   "cell_type": "code",
   "execution_count": 30,
   "id": "38400bdd",
   "metadata": {},
   "outputs": [
    {
     "name": "stdout",
     "output_type": "stream",
     "text": [
      "<class 'pandas.core.frame.DataFrame'>\n",
      "RangeIndex: 6302 entries, 0 to 6301\n",
      "Data columns (total 22 columns):\n",
      " #   Column                  Non-Null Count  Dtype  \n",
      "---  ------                  --------------  -----  \n",
      " 0   Case Number             6301 non-null   object \n",
      " 1   Date                    6302 non-null   object \n",
      " 2   Year                    6300 non-null   float64\n",
      " 3   Type                    6298 non-null   object \n",
      " 4   Country                 6252 non-null   object \n",
      " 5   Area                    5847 non-null   object \n",
      " 6   Location                5762 non-null   object \n",
      " 7   Activity                5758 non-null   object \n",
      " 8   Name                    6092 non-null   object \n",
      " 9   Sex                     5737 non-null   object \n",
      " 10  Age                     3471 non-null   object \n",
      " 11  Injury                  6274 non-null   object \n",
      " 12  Fatal                   5763 non-null   object \n",
      " 13  Time                    2948 non-null   object \n",
      " 14  Species                 3464 non-null   object \n",
      " 15  Investigator or Source  6285 non-null   object \n",
      " 16  pdf                     6302 non-null   object \n",
      " 17  href formula            6301 non-null   object \n",
      " 18  href                    6302 non-null   object \n",
      " 19  CaseNumber_1            6302 non-null   object \n",
      " 20  CaseNumber_2            6302 non-null   object \n",
      " 21  original order          6302 non-null   float64\n",
      "dtypes: float64(2), object(20)\n",
      "memory usage: 9.0 MB\n"
     ]
    }
   ],
   "source": [
    "sharks1.info(memory_usage='deep')"
   ]
  },
  {
   "cell_type": "markdown",
   "id": "cbe81bdf",
   "metadata": {},
   "source": [
    "### Voy a empezar a rellenar los nulos de las columnas. "
   ]
  },
  {
   "cell_type": "code",
   "execution_count": 31,
   "id": "cf3595e9",
   "metadata": {},
   "outputs": [],
   "source": [
    "sharks1.Type.fillna('unknown', inplace=True)"
   ]
  },
  {
   "cell_type": "code",
   "execution_count": 32,
   "id": "a0ea2fe3",
   "metadata": {},
   "outputs": [
    {
     "data": {
      "text/plain": [
       "'N nan cols: 15'"
      ]
     },
     "metadata": {},
     "output_type": "display_data"
    },
    {
     "data": {
      "text/plain": [
       "Case Number                0.015868\n",
       "Year                       0.031736\n",
       "Country                    0.793399\n",
       "Area                       7.219930\n",
       "Location                   8.568708\n",
       "Activity                   8.632180\n",
       "Name                       3.332275\n",
       "Sex                        8.965408\n",
       "Age                       44.922247\n",
       "Injury                     0.444303\n",
       "Fatal                      8.552840\n",
       "Time                      53.221200\n",
       "Species                   45.033323\n",
       "Investigator or Source     0.269756\n",
       "href formula               0.015868\n",
       "dtype: float64"
      ]
     },
     "metadata": {},
     "output_type": "display_data"
    },
    {
     "data": {
      "image/png": "[encoded data removed]",
      "text/plain": [
       "<Figure size 720x432 with 1 Axes>"
      ]
     },
     "metadata": {
      "needs_background": "light"
     },
     "output_type": "display_data"
    }
   ],
   "source": [
    "check_nan(sharks1)"
   ]
  },
  {
   "cell_type": "code",
   "execution_count": 33,
   "id": "73fdf39a",
   "metadata": {},
   "outputs": [],
   "source": [
    "sharks1.Country.fillna('unknown', inplace=True)"
   ]
  },
  {
   "cell_type": "code",
   "execution_count": 34,
   "id": "013a2f33",
   "metadata": {},
   "outputs": [],
   "source": [
    "sharks1.Area.fillna('unknown', inplace=True)"
   ]
  },
  {
   "cell_type": "code",
   "execution_count": 35,
   "id": "e90ba727",
   "metadata": {},
   "outputs": [
    {
     "data": {
      "text/plain": [
       "'N nan cols: 13'"
      ]
     },
     "metadata": {},
     "output_type": "display_data"
    },
    {
     "data": {
      "text/plain": [
       "Case Number                0.015868\n",
       "Year                       0.031736\n",
       "Location                   8.568708\n",
       "Activity                   8.632180\n",
       "Name                       3.332275\n",
       "Sex                        8.965408\n",
       "Age                       44.922247\n",
       "Injury                     0.444303\n",
       "Fatal                      8.552840\n",
       "Time                      53.221200\n",
       "Species                   45.033323\n",
       "Investigator or Source     0.269756\n",
       "href formula               0.015868\n",
       "dtype: float64"
      ]
     },
     "metadata": {},
     "output_type": "display_data"
    },
    {
     "data": {
      "image/png": "[encoded data removed]",
      "text/plain": [
       "<Figure size 720x432 with 1 Axes>"
      ]
     },
     "metadata": {
      "needs_background": "light"
     },
     "output_type": "display_data"
    }
   ],
   "source": [
    "check_nan(sharks1)"
   ]
  },
  {
   "cell_type": "code",
   "execution_count": 36,
   "id": "8ecaafaf",
   "metadata": {},
   "outputs": [],
   "source": [
    "sharks1.Location.fillna('unknown', inplace=True)"
   ]
  },
  {
   "cell_type": "code",
   "execution_count": 37,
   "id": "988b7d66",
   "metadata": {},
   "outputs": [],
   "source": [
    "sharks1.Activity.fillna('unknown', inplace=True)"
   ]
  },
  {
   "cell_type": "code",
   "execution_count": 38,
   "id": "9b3b3305",
   "metadata": {},
   "outputs": [],
   "source": [
    "sharks1.Name.fillna('unknown', inplace=True)"
   ]
  },
  {
   "cell_type": "code",
   "execution_count": 39,
   "id": "a4329a04",
   "metadata": {},
   "outputs": [],
   "source": [
    "sharks1.Sex.fillna('unknown', inplace=True)"
   ]
  },
  {
   "cell_type": "code",
   "execution_count": 40,
   "id": "7c017fad",
   "metadata": {},
   "outputs": [
    {
     "data": {
      "text/plain": [
       "Florida                                 1037\n",
       "New South Wales                          486\n",
       "unknown                                  455\n",
       "Queensland                               311\n",
       "Hawaii                                   298\n",
       "                                        ... \n",
       "Ysabel Island                              1\n",
       " Lau Province                              1\n",
       "South Coast, East New Britain              1\n",
       "Between Southampton & Canary Islands       1\n",
       "Moala Island                               1\n",
       "Name: Area, Length: 826, dtype: int64"
      ]
     },
     "execution_count": 40,
     "metadata": {},
     "output_type": "execute_result"
    }
   ],
   "source": [
    "sharks1.Area.value_counts()"
   ]
  },
  {
   "cell_type": "code",
   "execution_count": 41,
   "id": "277b342b",
   "metadata": {},
   "outputs": [
    {
     "data": {
      "text/plain": [
       "'N nan cols: 9'"
      ]
     },
     "metadata": {},
     "output_type": "display_data"
    },
    {
     "data": {
      "text/plain": [
       "Case Number                0.015868\n",
       "Year                       0.031736\n",
       "Age                       44.922247\n",
       "Injury                     0.444303\n",
       "Fatal                      8.552840\n",
       "Time                      53.221200\n",
       "Species                   45.033323\n",
       "Investigator or Source     0.269756\n",
       "href formula               0.015868\n",
       "dtype: float64"
      ]
     },
     "metadata": {},
     "output_type": "display_data"
    },
    {
     "data": {
      "image/png": "[encoded data removed]",
      "text/plain": [
       "<Figure size 720x432 with 1 Axes>"
      ]
     },
     "metadata": {
      "needs_background": "light"
     },
     "output_type": "display_data"
    }
   ],
   "source": [
    "check_nan(sharks1)"
   ]
  },
  {
   "cell_type": "code",
   "execution_count": 42,
   "id": "ea9b280a",
   "metadata": {},
   "outputs": [],
   "source": [
    "sharks1.Age.fillna('unknown', inplace=True)"
   ]
  },
  {
   "cell_type": "code",
   "execution_count": 43,
   "id": "2980c703",
   "metadata": {},
   "outputs": [],
   "source": [
    "sharks1.Injury.fillna('unknown', inplace=True)"
   ]
  },
  {
   "cell_type": "code",
   "execution_count": 44,
   "id": "19ea2f78",
   "metadata": {},
   "outputs": [],
   "source": [
    "sharks1.Fatal.fillna('unknown', inplace=True)"
   ]
  },
  {
   "cell_type": "code",
   "execution_count": 45,
   "id": "95676432",
   "metadata": {},
   "outputs": [],
   "source": [
    "sharks1.Time.fillna('unknown', inplace=True)"
   ]
  },
  {
   "cell_type": "code",
   "execution_count": 46,
   "id": "2a153e7a",
   "metadata": {},
   "outputs": [],
   "source": [
    "sharks1.Species.fillna('unknown', inplace=True)"
   ]
  },
  {
   "cell_type": "code",
   "execution_count": 47,
   "id": "9b7bb72c",
   "metadata": {},
   "outputs": [
    {
     "data": {
      "text/plain": [
       "'N nan cols: 4'"
      ]
     },
     "metadata": {},
     "output_type": "display_data"
    },
    {
     "data": {
      "text/plain": [
       "Case Number               0.015868\n",
       "Year                      0.031736\n",
       "Investigator or Source    0.269756\n",
       "href formula              0.015868\n",
       "dtype: float64"
      ]
     },
     "metadata": {},
     "output_type": "display_data"
    },
    {
     "data": {
      "image/png": "[encoded data removed]",
      "text/plain": [
       "<Figure size 720x432 with 1 Axes>"
      ]
     },
     "metadata": {
      "needs_background": "light"
     },
     "output_type": "display_data"
    }
   ],
   "source": [
    "check_nan(sharks1)"
   ]
  },
  {
   "cell_type": "code",
   "execution_count": 48,
   "id": "a5e9b61c",
   "metadata": {},
   "outputs": [],
   "source": [
    "sharks1['Investigator or Source'].fillna('unknown', inplace=True)"
   ]
  },
  {
   "cell_type": "code",
   "execution_count": 49,
   "id": "06cf0e2e",
   "metadata": {},
   "outputs": [],
   "source": [
    "sharks1['href formula'].fillna('unknown', inplace=True)"
   ]
  },
  {
   "cell_type": "code",
   "execution_count": 50,
   "id": "fcfcf15d",
   "metadata": {},
   "outputs": [
    {
     "data": {
      "text/plain": [
       "'N nan cols: 2'"
      ]
     },
     "metadata": {},
     "output_type": "display_data"
    },
    {
     "data": {
      "text/plain": [
       "Case Number    0.015868\n",
       "Year           0.031736\n",
       "dtype: float64"
      ]
     },
     "metadata": {},
     "output_type": "display_data"
    },
    {
     "data": {
      "image/png": "[encoded data removed]",
      "text/plain": [
       "<Figure size 720x432 with 1 Axes>"
      ]
     },
     "metadata": {
      "needs_background": "light"
     },
     "output_type": "display_data"
    }
   ],
   "source": [
    "check_nan(sharks1)"
   ]
  },
  {
   "cell_type": "code",
   "execution_count": 51,
   "id": "a87ab766",
   "metadata": {},
   "outputs": [
    {
     "data": {
      "text/html": [
       "<div>\n",
       "<style scoped>\n",
       "    .dataframe tbody tr th:only-of-type {\n",
       "        vertical-align: middle;\n",
       "    }\n",
       "\n",
       "    .dataframe tbody tr th {\n",
       "        vertical-align: top;\n",
       "    }\n",
       "\n",
       "    .dataframe thead th {\n",
       "        text-align: right;\n",
       "    }\n",
       "</style>\n",
       "<table border=\"1\" class=\"dataframe\">\n",
       "  <thead>\n",
       "    <tr style=\"text-align: right;\">\n",
       "      <th></th>\n",
       "      <th>Case Number</th>\n",
       "      <th>Date</th>\n",
       "      <th>Year</th>\n",
       "      <th>Type</th>\n",
       "      <th>Country</th>\n",
       "      <th>Area</th>\n",
       "      <th>Location</th>\n",
       "      <th>Activity</th>\n",
       "      <th>Name</th>\n",
       "      <th>Sex</th>\n",
       "      <th>Age</th>\n",
       "      <th>Injury</th>\n",
       "      <th>Fatal</th>\n",
       "      <th>Time</th>\n",
       "      <th>Species</th>\n",
       "      <th>Investigator or Source</th>\n",
       "      <th>pdf</th>\n",
       "      <th>href formula</th>\n",
       "      <th>href</th>\n",
       "      <th>CaseNumber_1</th>\n",
       "      <th>CaseNumber_2</th>\n",
       "      <th>original order</th>\n",
       "    </tr>\n",
       "  </thead>\n",
       "  <tbody>\n",
       "    <tr>\n",
       "      <th>0</th>\n",
       "      <td>2018.06.25</td>\n",
       "      <td>25-Jun-2018</td>\n",
       "      <td>2018.0</td>\n",
       "      <td>Boating</td>\n",
       "      <td>USA</td>\n",
       "      <td>California</td>\n",
       "      <td>Oceanside, San Diego County</td>\n",
       "      <td>Paddling</td>\n",
       "      <td>Julie Wolfe</td>\n",
       "      <td>F</td>\n",
       "      <td>57</td>\n",
       "      <td>No injury to occupant, outrigger canoe and pad...</td>\n",
       "      <td>N</td>\n",
       "      <td>18h00</td>\n",
       "      <td>White shark</td>\n",
       "      <td>R. Collier, GSAF</td>\n",
       "      <td>2018.06.25-Wolfe.pdf</td>\n",
       "      <td>http://sharkattackfile.net/spreadsheets/pdf_di...</td>\n",
       "      <td>http://sharkattackfile.net/spreadsheets/pdf_di...</td>\n",
       "      <td>2018.06.25</td>\n",
       "      <td>2018.06.25</td>\n",
       "      <td>6303.0</td>\n",
       "    </tr>\n",
       "    <tr>\n",
       "      <th>1</th>\n",
       "      <td>2018.06.18</td>\n",
       "      <td>18-Jun-2018</td>\n",
       "      <td>2018.0</td>\n",
       "      <td>Unprovoked</td>\n",
       "      <td>USA</td>\n",
       "      <td>Georgia</td>\n",
       "      <td>St. Simon Island, Glynn County</td>\n",
       "      <td>Standing</td>\n",
       "      <td>Adyson McNeely</td>\n",
       "      <td>F</td>\n",
       "      <td>11</td>\n",
       "      <td>Minor injury to left thigh</td>\n",
       "      <td>N</td>\n",
       "      <td>14h00  -15h00</td>\n",
       "      <td>unknown</td>\n",
       "      <td>K.McMurray, TrackingSharks.com</td>\n",
       "      <td>2018.06.18-McNeely.pdf</td>\n",
       "      <td>http://sharkattackfile.net/spreadsheets/pdf_di...</td>\n",
       "      <td>http://sharkattackfile.net/spreadsheets/pdf_di...</td>\n",
       "      <td>2018.06.18</td>\n",
       "      <td>2018.06.18</td>\n",
       "      <td>6302.0</td>\n",
       "    </tr>\n",
       "    <tr>\n",
       "      <th>2</th>\n",
       "      <td>2018.06.09</td>\n",
       "      <td>09-Jun-2018</td>\n",
       "      <td>2018.0</td>\n",
       "      <td>Invalid</td>\n",
       "      <td>USA</td>\n",
       "      <td>Hawaii</td>\n",
       "      <td>Habush, Oahu</td>\n",
       "      <td>Surfing</td>\n",
       "      <td>John Denges</td>\n",
       "      <td>M</td>\n",
       "      <td>48</td>\n",
       "      <td>Injury to left lower leg from surfboard skeg</td>\n",
       "      <td>N</td>\n",
       "      <td>07h45</td>\n",
       "      <td>unknown</td>\n",
       "      <td>K.McMurray, TrackingSharks.com</td>\n",
       "      <td>2018.06.09-Denges.pdf</td>\n",
       "      <td>http://sharkattackfile.net/spreadsheets/pdf_di...</td>\n",
       "      <td>http://sharkattackfile.net/spreadsheets/pdf_di...</td>\n",
       "      <td>2018.06.09</td>\n",
       "      <td>2018.06.09</td>\n",
       "      <td>6301.0</td>\n",
       "    </tr>\n",
       "    <tr>\n",
       "      <th>3</th>\n",
       "      <td>2018.06.08</td>\n",
       "      <td>08-Jun-2018</td>\n",
       "      <td>2018.0</td>\n",
       "      <td>Unprovoked</td>\n",
       "      <td>AUSTRALIA</td>\n",
       "      <td>New South Wales</td>\n",
       "      <td>Arrawarra Headland</td>\n",
       "      <td>Surfing</td>\n",
       "      <td>male</td>\n",
       "      <td>M</td>\n",
       "      <td>unknown</td>\n",
       "      <td>Minor injury to lower leg</td>\n",
       "      <td>N</td>\n",
       "      <td>unknown</td>\n",
       "      <td>2 m shark</td>\n",
       "      <td>B. Myatt, GSAF</td>\n",
       "      <td>2018.06.08-Arrawarra.pdf</td>\n",
       "      <td>http://sharkattackfile.net/spreadsheets/pdf_di...</td>\n",
       "      <td>http://sharkattackfile.net/spreadsheets/pdf_di...</td>\n",
       "      <td>2018.06.08</td>\n",
       "      <td>2018.06.08</td>\n",
       "      <td>6300.0</td>\n",
       "    </tr>\n",
       "    <tr>\n",
       "      <th>4</th>\n",
       "      <td>2018.06.04</td>\n",
       "      <td>04-Jun-2018</td>\n",
       "      <td>2018.0</td>\n",
       "      <td>Provoked</td>\n",
       "      <td>MEXICO</td>\n",
       "      <td>Colima</td>\n",
       "      <td>La Ticla</td>\n",
       "      <td>Free diving</td>\n",
       "      <td>Gustavo Ramos</td>\n",
       "      <td>M</td>\n",
       "      <td>unknown</td>\n",
       "      <td>Lacerations to leg &amp; hand shark PROVOKED INCIDENT</td>\n",
       "      <td>N</td>\n",
       "      <td>unknown</td>\n",
       "      <td>Tiger shark, 3m</td>\n",
       "      <td>A .Kipper</td>\n",
       "      <td>2018.06.04-Ramos.pdf</td>\n",
       "      <td>http://sharkattackfile.net/spreadsheets/pdf_di...</td>\n",
       "      <td>http://sharkattackfile.net/spreadsheets/pdf_di...</td>\n",
       "      <td>2018.06.04</td>\n",
       "      <td>2018.06.04</td>\n",
       "      <td>6299.0</td>\n",
       "    </tr>\n",
       "  </tbody>\n",
       "</table>\n",
       "</div>"
      ],
      "text/plain": [
       "  Case Number         Date    Year        Type    Country             Area  \\\n",
       "0  2018.06.25  25-Jun-2018  2018.0     Boating        USA       California   \n",
       "1  2018.06.18  18-Jun-2018  2018.0  Unprovoked        USA          Georgia   \n",
       "2  2018.06.09  09-Jun-2018  2018.0     Invalid        USA           Hawaii   \n",
       "3  2018.06.08  08-Jun-2018  2018.0  Unprovoked  AUSTRALIA  New South Wales   \n",
       "4  2018.06.04  04-Jun-2018  2018.0    Provoked     MEXICO           Colima   \n",
       "\n",
       "                         Location     Activity             Name Sex      Age  \\\n",
       "0     Oceanside, San Diego County     Paddling      Julie Wolfe   F       57   \n",
       "1  St. Simon Island, Glynn County     Standing  Adyson McNeely    F       11   \n",
       "2                    Habush, Oahu      Surfing      John Denges   M       48   \n",
       "3              Arrawarra Headland      Surfing             male   M  unknown   \n",
       "4                        La Ticla  Free diving   Gustavo Ramos    M  unknown   \n",
       "\n",
       "                                              Injury Fatal           Time  \\\n",
       "0  No injury to occupant, outrigger canoe and pad...     N          18h00   \n",
       "1                         Minor injury to left thigh     N  14h00  -15h00   \n",
       "2       Injury to left lower leg from surfboard skeg     N          07h45   \n",
       "3                          Minor injury to lower leg     N        unknown   \n",
       "4  Lacerations to leg & hand shark PROVOKED INCIDENT     N        unknown   \n",
       "\n",
       "           Species          Investigator or Source                       pdf  \\\n",
       "0      White shark                R. Collier, GSAF      2018.06.25-Wolfe.pdf   \n",
       "1          unknown  K.McMurray, TrackingSharks.com    2018.06.18-McNeely.pdf   \n",
       "2          unknown  K.McMurray, TrackingSharks.com     2018.06.09-Denges.pdf   \n",
       "3        2 m shark                  B. Myatt, GSAF  2018.06.08-Arrawarra.pdf   \n",
       "4  Tiger shark, 3m                       A .Kipper      2018.06.04-Ramos.pdf   \n",
       "\n",
       "                                        href formula  \\\n",
       "0  http://sharkattackfile.net/spreadsheets/pdf_di...   \n",
       "1  http://sharkattackfile.net/spreadsheets/pdf_di...   \n",
       "2  http://sharkattackfile.net/spreadsheets/pdf_di...   \n",
       "3  http://sharkattackfile.net/spreadsheets/pdf_di...   \n",
       "4  http://sharkattackfile.net/spreadsheets/pdf_di...   \n",
       "\n",
       "                                                href CaseNumber_1  \\\n",
       "0  http://sharkattackfile.net/spreadsheets/pdf_di...   2018.06.25   \n",
       "1  http://sharkattackfile.net/spreadsheets/pdf_di...   2018.06.18   \n",
       "2  http://sharkattackfile.net/spreadsheets/pdf_di...   2018.06.09   \n",
       "3  http://sharkattackfile.net/spreadsheets/pdf_di...   2018.06.08   \n",
       "4  http://sharkattackfile.net/spreadsheets/pdf_di...   2018.06.04   \n",
       "\n",
       "  CaseNumber_2  original order  \n",
       "0   2018.06.25          6303.0  \n",
       "1   2018.06.18          6302.0  \n",
       "2   2018.06.09          6301.0  \n",
       "3   2018.06.08          6300.0  \n",
       "4   2018.06.04          6299.0  "
      ]
     },
     "execution_count": 51,
     "metadata": {},
     "output_type": "execute_result"
    }
   ],
   "source": [
    "sharks1.head()"
   ]
  },
  {
   "cell_type": "code",
   "execution_count": 52,
   "id": "bea981b9",
   "metadata": {},
   "outputs": [],
   "source": [
    "sharks1.rename(columns={'Case Number':'Case_Number'}, inplace=True)"
   ]
  },
  {
   "cell_type": "code",
   "execution_count": 53,
   "id": "3d8396aa",
   "metadata": {},
   "outputs": [],
   "source": [
    "sharks1.Case_Number.fillna('unknown', inplace=True)"
   ]
  },
  {
   "cell_type": "code",
   "execution_count": 54,
   "id": "4180d756",
   "metadata": {},
   "outputs": [],
   "source": [
    "sharks1.Year.fillna('unknown', inplace=True)"
   ]
  },
  {
   "cell_type": "code",
   "execution_count": 55,
   "id": "38ce41af",
   "metadata": {},
   "outputs": [
    {
     "data": {
      "text/plain": [
       "'N nan cols: 0'"
      ]
     },
     "metadata": {},
     "output_type": "display_data"
    },
    {
     "data": {
      "text/plain": [
       "Series([], dtype: float64)"
      ]
     },
     "metadata": {},
     "output_type": "display_data"
    },
    {
     "data": {
      "image/png": "[encoded data removed]",
      "text/plain": [
       "<Figure size 720x432 with 1 Axes>"
      ]
     },
     "metadata": {
      "needs_background": "light"
     },
     "output_type": "display_data"
    }
   ],
   "source": [
    "check_nan(sharks1)"
   ]
  },
  {
   "cell_type": "markdown",
   "id": "457c8318",
   "metadata": {},
   "source": [
    "### Ahora mismo ya tenemos todas nuestras columnas sin valores nulos."
   ]
  },
  {
   "cell_type": "markdown",
   "id": "c61bca46",
   "metadata": {},
   "source": [
    "### ¿Qué columnas me interesa analizar más profundamente, ergo limpiar y preparar?\n",
    "#### En mi caso, voy a elegir las columnas 'Year', 'Country', 'Sex', 'Age', 'Fatal' y 'Species' para posteriormente explorar insights en torno a ellas."
   ]
  },
  {
   "cell_type": "code",
   "execution_count": 56,
   "id": "124872aa",
   "metadata": {},
   "outputs": [
    {
     "data": {
      "text/html": [
       "<div>\n",
       "<style scoped>\n",
       "    .dataframe tbody tr th:only-of-type {\n",
       "        vertical-align: middle;\n",
       "    }\n",
       "\n",
       "    .dataframe tbody tr th {\n",
       "        vertical-align: top;\n",
       "    }\n",
       "\n",
       "    .dataframe thead th {\n",
       "        text-align: right;\n",
       "    }\n",
       "</style>\n",
       "<table border=\"1\" class=\"dataframe\">\n",
       "  <thead>\n",
       "    <tr style=\"text-align: right;\">\n",
       "      <th></th>\n",
       "      <th>Case_Number</th>\n",
       "      <th>Date</th>\n",
       "      <th>Year</th>\n",
       "      <th>Type</th>\n",
       "      <th>Country</th>\n",
       "      <th>Area</th>\n",
       "      <th>Location</th>\n",
       "      <th>Activity</th>\n",
       "      <th>Name</th>\n",
       "      <th>Sex</th>\n",
       "      <th>Age</th>\n",
       "      <th>Injury</th>\n",
       "      <th>Fatal</th>\n",
       "      <th>Time</th>\n",
       "      <th>Species</th>\n",
       "      <th>Investigator or Source</th>\n",
       "      <th>pdf</th>\n",
       "      <th>href formula</th>\n",
       "      <th>href</th>\n",
       "      <th>CaseNumber_1</th>\n",
       "      <th>CaseNumber_2</th>\n",
       "      <th>original order</th>\n",
       "    </tr>\n",
       "  </thead>\n",
       "  <tbody>\n",
       "    <tr>\n",
       "      <th>0</th>\n",
       "      <td>2018.06.25</td>\n",
       "      <td>25-Jun-2018</td>\n",
       "      <td>2018.0</td>\n",
       "      <td>Boating</td>\n",
       "      <td>USA</td>\n",
       "      <td>California</td>\n",
       "      <td>Oceanside, San Diego County</td>\n",
       "      <td>Paddling</td>\n",
       "      <td>Julie Wolfe</td>\n",
       "      <td>F</td>\n",
       "      <td>57</td>\n",
       "      <td>No injury to occupant, outrigger canoe and pad...</td>\n",
       "      <td>N</td>\n",
       "      <td>18h00</td>\n",
       "      <td>White shark</td>\n",
       "      <td>R. Collier, GSAF</td>\n",
       "      <td>2018.06.25-Wolfe.pdf</td>\n",
       "      <td>http://sharkattackfile.net/spreadsheets/pdf_di...</td>\n",
       "      <td>http://sharkattackfile.net/spreadsheets/pdf_di...</td>\n",
       "      <td>2018.06.25</td>\n",
       "      <td>2018.06.25</td>\n",
       "      <td>6303.0</td>\n",
       "    </tr>\n",
       "    <tr>\n",
       "      <th>1</th>\n",
       "      <td>2018.06.18</td>\n",
       "      <td>18-Jun-2018</td>\n",
       "      <td>2018.0</td>\n",
       "      <td>Unprovoked</td>\n",
       "      <td>USA</td>\n",
       "      <td>Georgia</td>\n",
       "      <td>St. Simon Island, Glynn County</td>\n",
       "      <td>Standing</td>\n",
       "      <td>Adyson McNeely</td>\n",
       "      <td>F</td>\n",
       "      <td>11</td>\n",
       "      <td>Minor injury to left thigh</td>\n",
       "      <td>N</td>\n",
       "      <td>14h00  -15h00</td>\n",
       "      <td>unknown</td>\n",
       "      <td>K.McMurray, TrackingSharks.com</td>\n",
       "      <td>2018.06.18-McNeely.pdf</td>\n",
       "      <td>http://sharkattackfile.net/spreadsheets/pdf_di...</td>\n",
       "      <td>http://sharkattackfile.net/spreadsheets/pdf_di...</td>\n",
       "      <td>2018.06.18</td>\n",
       "      <td>2018.06.18</td>\n",
       "      <td>6302.0</td>\n",
       "    </tr>\n",
       "    <tr>\n",
       "      <th>2</th>\n",
       "      <td>2018.06.09</td>\n",
       "      <td>09-Jun-2018</td>\n",
       "      <td>2018.0</td>\n",
       "      <td>Invalid</td>\n",
       "      <td>USA</td>\n",
       "      <td>Hawaii</td>\n",
       "      <td>Habush, Oahu</td>\n",
       "      <td>Surfing</td>\n",
       "      <td>John Denges</td>\n",
       "      <td>M</td>\n",
       "      <td>48</td>\n",
       "      <td>Injury to left lower leg from surfboard skeg</td>\n",
       "      <td>N</td>\n",
       "      <td>07h45</td>\n",
       "      <td>unknown</td>\n",
       "      <td>K.McMurray, TrackingSharks.com</td>\n",
       "      <td>2018.06.09-Denges.pdf</td>\n",
       "      <td>http://sharkattackfile.net/spreadsheets/pdf_di...</td>\n",
       "      <td>http://sharkattackfile.net/spreadsheets/pdf_di...</td>\n",
       "      <td>2018.06.09</td>\n",
       "      <td>2018.06.09</td>\n",
       "      <td>6301.0</td>\n",
       "    </tr>\n",
       "    <tr>\n",
       "      <th>3</th>\n",
       "      <td>2018.06.08</td>\n",
       "      <td>08-Jun-2018</td>\n",
       "      <td>2018.0</td>\n",
       "      <td>Unprovoked</td>\n",
       "      <td>AUSTRALIA</td>\n",
       "      <td>New South Wales</td>\n",
       "      <td>Arrawarra Headland</td>\n",
       "      <td>Surfing</td>\n",
       "      <td>male</td>\n",
       "      <td>M</td>\n",
       "      <td>unknown</td>\n",
       "      <td>Minor injury to lower leg</td>\n",
       "      <td>N</td>\n",
       "      <td>unknown</td>\n",
       "      <td>2 m shark</td>\n",
       "      <td>B. Myatt, GSAF</td>\n",
       "      <td>2018.06.08-Arrawarra.pdf</td>\n",
       "      <td>http://sharkattackfile.net/spreadsheets/pdf_di...</td>\n",
       "      <td>http://sharkattackfile.net/spreadsheets/pdf_di...</td>\n",
       "      <td>2018.06.08</td>\n",
       "      <td>2018.06.08</td>\n",
       "      <td>6300.0</td>\n",
       "    </tr>\n",
       "    <tr>\n",
       "      <th>4</th>\n",
       "      <td>2018.06.04</td>\n",
       "      <td>04-Jun-2018</td>\n",
       "      <td>2018.0</td>\n",
       "      <td>Provoked</td>\n",
       "      <td>MEXICO</td>\n",
       "      <td>Colima</td>\n",
       "      <td>La Ticla</td>\n",
       "      <td>Free diving</td>\n",
       "      <td>Gustavo Ramos</td>\n",
       "      <td>M</td>\n",
       "      <td>unknown</td>\n",
       "      <td>Lacerations to leg &amp; hand shark PROVOKED INCIDENT</td>\n",
       "      <td>N</td>\n",
       "      <td>unknown</td>\n",
       "      <td>Tiger shark, 3m</td>\n",
       "      <td>A .Kipper</td>\n",
       "      <td>2018.06.04-Ramos.pdf</td>\n",
       "      <td>http://sharkattackfile.net/spreadsheets/pdf_di...</td>\n",
       "      <td>http://sharkattackfile.net/spreadsheets/pdf_di...</td>\n",
       "      <td>2018.06.04</td>\n",
       "      <td>2018.06.04</td>\n",
       "      <td>6299.0</td>\n",
       "    </tr>\n",
       "  </tbody>\n",
       "</table>\n",
       "</div>"
      ],
      "text/plain": [
       "  Case_Number         Date    Year        Type    Country             Area  \\\n",
       "0  2018.06.25  25-Jun-2018  2018.0     Boating        USA       California   \n",
       "1  2018.06.18  18-Jun-2018  2018.0  Unprovoked        USA          Georgia   \n",
       "2  2018.06.09  09-Jun-2018  2018.0     Invalid        USA           Hawaii   \n",
       "3  2018.06.08  08-Jun-2018  2018.0  Unprovoked  AUSTRALIA  New South Wales   \n",
       "4  2018.06.04  04-Jun-2018  2018.0    Provoked     MEXICO           Colima   \n",
       "\n",
       "                         Location     Activity             Name Sex      Age  \\\n",
       "0     Oceanside, San Diego County     Paddling      Julie Wolfe   F       57   \n",
       "1  St. Simon Island, Glynn County     Standing  Adyson McNeely    F       11   \n",
       "2                    Habush, Oahu      Surfing      John Denges   M       48   \n",
       "3              Arrawarra Headland      Surfing             male   M  unknown   \n",
       "4                        La Ticla  Free diving   Gustavo Ramos    M  unknown   \n",
       "\n",
       "                                              Injury Fatal           Time  \\\n",
       "0  No injury to occupant, outrigger canoe and pad...     N          18h00   \n",
       "1                         Minor injury to left thigh     N  14h00  -15h00   \n",
       "2       Injury to left lower leg from surfboard skeg     N          07h45   \n",
       "3                          Minor injury to lower leg     N        unknown   \n",
       "4  Lacerations to leg & hand shark PROVOKED INCIDENT     N        unknown   \n",
       "\n",
       "           Species          Investigator or Source                       pdf  \\\n",
       "0      White shark                R. Collier, GSAF      2018.06.25-Wolfe.pdf   \n",
       "1          unknown  K.McMurray, TrackingSharks.com    2018.06.18-McNeely.pdf   \n",
       "2          unknown  K.McMurray, TrackingSharks.com     2018.06.09-Denges.pdf   \n",
       "3        2 m shark                  B. Myatt, GSAF  2018.06.08-Arrawarra.pdf   \n",
       "4  Tiger shark, 3m                       A .Kipper      2018.06.04-Ramos.pdf   \n",
       "\n",
       "                                        href formula  \\\n",
       "0  http://sharkattackfile.net/spreadsheets/pdf_di...   \n",
       "1  http://sharkattackfile.net/spreadsheets/pdf_di...   \n",
       "2  http://sharkattackfile.net/spreadsheets/pdf_di...   \n",
       "3  http://sharkattackfile.net/spreadsheets/pdf_di...   \n",
       "4  http://sharkattackfile.net/spreadsheets/pdf_di...   \n",
       "\n",
       "                                                href CaseNumber_1  \\\n",
       "0  http://sharkattackfile.net/spreadsheets/pdf_di...   2018.06.25   \n",
       "1  http://sharkattackfile.net/spreadsheets/pdf_di...   2018.06.18   \n",
       "2  http://sharkattackfile.net/spreadsheets/pdf_di...   2018.06.09   \n",
       "3  http://sharkattackfile.net/spreadsheets/pdf_di...   2018.06.08   \n",
       "4  http://sharkattackfile.net/spreadsheets/pdf_di...   2018.06.04   \n",
       "\n",
       "  CaseNumber_2  original order  \n",
       "0   2018.06.25          6303.0  \n",
       "1   2018.06.18          6302.0  \n",
       "2   2018.06.09          6301.0  \n",
       "3   2018.06.08          6300.0  \n",
       "4   2018.06.04          6299.0  "
      ]
     },
     "execution_count": 56,
     "metadata": {},
     "output_type": "execute_result"
    }
   ],
   "source": [
    "sharks1.head()"
   ]
  },
  {
   "cell_type": "code",
   "execution_count": 57,
   "id": "afc69488",
   "metadata": {},
   "outputs": [
    {
     "data": {
      "text/plain": [
       "M          5094\n",
       "F           637\n",
       "unknown     565\n",
       "M             2\n",
       "N             2\n",
       "lli           1\n",
       ".             1\n",
       "Name: Sex, dtype: int64"
      ]
     },
     "execution_count": 57,
     "metadata": {},
     "output_type": "execute_result"
    }
   ],
   "source": [
    "sharks1.Sex.value_counts()\n",
    "\n"
   ]
  },
  {
   "cell_type": "markdown",
   "id": "98064ee0",
   "metadata": {},
   "source": [
    "### Voy a empezar limpiando los valores de las columnas más sencillas.\n",
    "###### En primer lugar, limpiamos la columna de Sex. Para ello voy a sustituir las 'M ' con M, las 'N' con 'M', y 'lli' y '.' con unknown."
   ]
  },
  {
   "cell_type": "code",
   "execution_count": 58,
   "id": "d198d0e0",
   "metadata": {},
   "outputs": [],
   "source": [
    "sharks1.Sex.replace(['M ', 'N', 'lli', '.'], \n",
    "                                   ['M', 'M', 'unknown', 'unknown'],\n",
    "                                   inplace=True)"
   ]
  },
  {
   "cell_type": "code",
   "execution_count": 59,
   "id": "8d9ef6d3",
   "metadata": {},
   "outputs": [
    {
     "data": {
      "text/plain": [
       "M          5098\n",
       "F           637\n",
       "unknown     567\n",
       "Name: Sex, dtype: int64"
      ]
     },
     "execution_count": 59,
     "metadata": {},
     "output_type": "execute_result"
    }
   ],
   "source": [
    "sharks1.Sex.value_counts()\n"
   ]
  },
  {
   "cell_type": "markdown",
   "id": "17faa789",
   "metadata": {},
   "source": [
    "##### Ahora voy a limpiar la columna de Fatal. Para ello voy a hacer las siguientes sustituciones"
   ]
  },
  {
   "cell_type": "code",
   "execution_count": 60,
   "id": "6be4228b",
   "metadata": {},
   "outputs": [
    {
     "data": {
      "text/plain": [
       "N          4293\n",
       "Y          1388\n",
       "unknown     539\n",
       "UNKNOWN      71\n",
       " N            7\n",
       "M             1\n",
       "2017          1\n",
       "N             1\n",
       "y             1\n",
       "Name: Fatal, dtype: int64"
      ]
     },
     "execution_count": 60,
     "metadata": {},
     "output_type": "execute_result"
    }
   ],
   "source": [
    "sharks1.Fatal.value_counts()"
   ]
  },
  {
   "cell_type": "code",
   "execution_count": 61,
   "id": "9380e5b6",
   "metadata": {},
   "outputs": [],
   "source": [
    "#limpio la columna de Fatal sustituyendo valores que no son Y o N:\n",
    "sharks1.Fatal.replace(['UNKNOWN', ' N', 'M', '2017', 'N ', 'y'], \n",
    "                                   ['unknown', 'N', 'N', 'unknown', 'N', 'Y'],\n",
    "                                   inplace=True)"
   ]
  },
  {
   "cell_type": "code",
   "execution_count": 62,
   "id": "20792400",
   "metadata": {},
   "outputs": [
    {
     "data": {
      "text/plain": [
       "N          4302\n",
       "Y          1389\n",
       "unknown     611\n",
       "Name: Fatal, dtype: int64"
      ]
     },
     "execution_count": 62,
     "metadata": {},
     "output_type": "execute_result"
    }
   ],
   "source": [
    "sharks1.Fatal.value_counts()"
   ]
  },
  {
   "cell_type": "code",
   "execution_count": 63,
   "id": "67f7a251",
   "metadata": {},
   "outputs": [],
   "source": [
    "pd.set_option('display.max_rows', None)   # mostrar todas las filas del df"
   ]
  },
  {
   "cell_type": "markdown",
   "id": "0d619fba",
   "metadata": {},
   "source": [
    "#### Creo una nueva función y una nueva columna 'fatal_count'. Si ha habido fatalidades, añade 1 a la nueva casilla. Si no, añade un 0"
   ]
  },
  {
   "cell_type": "code",
   "execution_count": 64,
   "id": "28f1abc3",
   "metadata": {},
   "outputs": [],
   "source": [
    "def fatal_Count(x):\n",
    "    \n",
    "    if x == 'Y':\n",
    "        return 1\n",
    "    else:\n",
    "        return 0\n",
    "    \n",
    "    "
   ]
  },
  {
   "cell_type": "code",
   "execution_count": 65,
   "id": "54864f75",
   "metadata": {},
   "outputs": [],
   "source": [
    "sharks1['fatal_count']=sharks1.Fatal.apply(fatal_Count)"
   ]
  },
  {
   "cell_type": "code",
   "execution_count": 66,
   "id": "d8088319",
   "metadata": {},
   "outputs": [
    {
     "data": {
      "text/plain": [
       "0    4913\n",
       "1    1389\n",
       "Name: fatal_count, dtype: int64"
      ]
     },
     "execution_count": 66,
     "metadata": {},
     "output_type": "execute_result"
    }
   ],
   "source": [
    "sharks1.fatal_count.value_counts()"
   ]
  },
  {
   "cell_type": "markdown",
   "id": "dc3f20e4",
   "metadata": {},
   "source": [
    "### Columna Year"
   ]
  },
  {
   "cell_type": "code",
   "execution_count": 67,
   "id": "8a94bbff",
   "metadata": {},
   "outputs": [
    {
     "data": {
      "text/plain": [
       "array([2018.0, 2017.0, 'unknown', 2016.0, 2015.0, 2014.0, 2013.0, 2012.0,\n",
       "       2011.0, 2010.0, 2009.0, 2008.0, 2007.0, 2006.0, 2005.0, 2004.0,\n",
       "       2003.0, 2002.0, 2001.0, 2000.0, 1999.0, 1998.0, 1997.0, 1996.0,\n",
       "       1995.0, 1984.0, 1994.0, 1993.0, 1992.0, 1991.0, 1990.0, 1989.0,\n",
       "       1969.0, 1988.0, 1987.0, 1986.0, 1985.0, 1983.0, 1982.0, 1981.0,\n",
       "       1980.0, 1979.0, 1978.0, 1977.0, 1976.0, 1975.0, 1974.0, 1973.0,\n",
       "       1972.0, 1971.0, 1970.0, 1968.0, 1967.0, 1966.0, 1965.0, 1964.0,\n",
       "       1963.0, 1962.0, 1961.0, 1960.0, 1959.0, 1958.0, 1957.0, 1956.0,\n",
       "       1955.0, 1954.0, 1953.0, 1952.0, 1951.0, 1950.0, 1949.0, 1948.0,\n",
       "       1848.0, 1947.0, 1946.0, 1945.0, 1944.0, 1943.0, 1942.0, 1941.0,\n",
       "       1940.0, 1939.0, 1938.0, 1937.0, 1936.0, 1935.0, 1934.0, 1933.0,\n",
       "       1932.0, 1931.0, 1930.0, 1929.0, 1928.0, 1927.0, 1926.0, 1925.0,\n",
       "       1924.0, 1923.0, 1922.0, 1921.0, 1920.0, 1919.0, 1918.0, 1917.0,\n",
       "       1916.0, 1915.0, 1914.0, 1913.0, 1912.0, 1911.0, 1910.0, 1909.0,\n",
       "       1908.0, 1907.0, 1906.0, 1905.0, 1904.0, 1903.0, 1902.0, 1901.0,\n",
       "       1900.0, 1899.0, 1898.0, 1897.0, 1896.0, 1895.0, 1894.0, 1893.0,\n",
       "       1892.0, 1891.0, 1890.0, 1889.0, 1888.0, 1887.0, 1886.0, 1885.0,\n",
       "       1884.0, 1883.0, 1882.0, 1881.0, 1880.0, 1879.0, 1878.0, 1877.0,\n",
       "       1876.0, 1875.0, 1874.0, 1873.0, 1872.0, 1871.0, 1870.0, 1869.0,\n",
       "       1868.0, 1867.0, 1866.0, 1865.0, 1864.0, 1863.0, 1862.0, 1861.0,\n",
       "       1860.0, 1859.0, 1858.0, 1857.0, 1856.0, 1855.0, 1853.0, 1852.0,\n",
       "       1851.0, 1850.0, 1849.0, 1847.0, 1846.0, 1845.0, 1844.0, 1842.0,\n",
       "       1841.0, 1840.0, 1839.0, 1837.0, 1836.0, 1835.0, 1834.0, 1832.0,\n",
       "       1831.0, 1830.0, 1829.0, 1828.0, 1827.0, 1826.0, 1825.0, 1823.0,\n",
       "       1822.0, 1819.0, 1818.0, 1817.0, 1816.0, 1815.0, 1812.0, 1811.0,\n",
       "       1810.0, 1808.0, 1807.0, 1805.0, 1804.0, 1803.0, 1802.0, 1801.0,\n",
       "       1800.0, 1797.0, 1792.0, 1791.0, 1788.0, 1787.0, 1786.0, 1785.0,\n",
       "       1784.0, 1783.0, 1780.0, 1779.0, 1776.0, 1771.0, 1767.0, 1764.0,\n",
       "       1758.0, 1753.0, 1751.0, 1749.0, 1755.0, 1748.0, 1742.0, 1738.0,\n",
       "       1733.0, 1723.0, 1721.0, 1703.0, 1700.0, 1642.0, 1638.0, 1637.0,\n",
       "       1617.0, 1595.0, 1580.0, 1555.0, 1554.0, 1543.0, 500.0, 77.0, 5.0,\n",
       "       0.0], dtype=object)"
      ]
     },
     "execution_count": 67,
     "metadata": {},
     "output_type": "execute_result"
    }
   ],
   "source": [
    "sharks1.Year.unique()"
   ]
  },
  {
   "cell_type": "markdown",
   "id": "d43f57a7",
   "metadata": {},
   "source": [
    "#### Como tenemos algún valor unknown, los buscamos y los rellenamos fijándonos en la fecha de los campos Date y Case_Number"
   ]
  },
  {
   "cell_type": "code",
   "execution_count": 68,
   "id": "8992bbb2",
   "metadata": {},
   "outputs": [
    {
     "data": {
      "text/html": [
       "<div>\n",
       "<style scoped>\n",
       "    .dataframe tbody tr th:only-of-type {\n",
       "        vertical-align: middle;\n",
       "    }\n",
       "\n",
       "    .dataframe tbody tr th {\n",
       "        vertical-align: top;\n",
       "    }\n",
       "\n",
       "    .dataframe thead th {\n",
       "        text-align: right;\n",
       "    }\n",
       "</style>\n",
       "<table border=\"1\" class=\"dataframe\">\n",
       "  <thead>\n",
       "    <tr style=\"text-align: right;\">\n",
       "      <th></th>\n",
       "      <th>Case_Number</th>\n",
       "      <th>Date</th>\n",
       "      <th>Year</th>\n",
       "      <th>Type</th>\n",
       "      <th>Country</th>\n",
       "      <th>Area</th>\n",
       "      <th>Location</th>\n",
       "      <th>Activity</th>\n",
       "      <th>Name</th>\n",
       "      <th>Sex</th>\n",
       "      <th>Age</th>\n",
       "      <th>Injury</th>\n",
       "      <th>Fatal</th>\n",
       "      <th>Time</th>\n",
       "      <th>Species</th>\n",
       "      <th>Investigator or Source</th>\n",
       "      <th>pdf</th>\n",
       "      <th>href formula</th>\n",
       "      <th>href</th>\n",
       "      <th>CaseNumber_1</th>\n",
       "      <th>CaseNumber_2</th>\n",
       "      <th>original order</th>\n",
       "      <th>fatal_count</th>\n",
       "    </tr>\n",
       "  </thead>\n",
       "  <tbody>\n",
       "    <tr>\n",
       "      <th>187</th>\n",
       "      <td>2017.01.08.R</td>\n",
       "      <td>Reported 08-Jan-2017</td>\n",
       "      <td>unknown</td>\n",
       "      <td>Invalid</td>\n",
       "      <td>AUSTRALIA</td>\n",
       "      <td>Queensland</td>\n",
       "      <td>unknown</td>\n",
       "      <td>Spearfishing</td>\n",
       "      <td>Kerry Daniel</td>\n",
       "      <td>M</td>\n",
       "      <td>35</td>\n",
       "      <td>No attack, shark made a threat display</td>\n",
       "      <td>unknown</td>\n",
       "      <td>unknown</td>\n",
       "      <td>Bull shark</td>\n",
       "      <td>Liquid Vision 1/8/2017</td>\n",
       "      <td>2017.01.08.R-KerryDaniel.pdf</td>\n",
       "      <td>http://sharkattackfile.net/spreadsheets/pdf_di...</td>\n",
       "      <td>http://sharkattackfile.net/spreadsheets/pdf_di...</td>\n",
       "      <td>2017.01.08.R</td>\n",
       "      <td>2017.01.08.R</td>\n",
       "      <td>6116.0</td>\n",
       "      <td>0</td>\n",
       "    </tr>\n",
       "    <tr>\n",
       "      <th>6079</th>\n",
       "      <td>1836.08.19.R</td>\n",
       "      <td>Reported 19-Aug-1836</td>\n",
       "      <td>unknown</td>\n",
       "      <td>Unprovoked</td>\n",
       "      <td>ENGLAND</td>\n",
       "      <td>Cumberland</td>\n",
       "      <td>Whitehaven</td>\n",
       "      <td>Swimming</td>\n",
       "      <td>a boy</td>\n",
       "      <td>M</td>\n",
       "      <td>unknown</td>\n",
       "      <td>FATAL</td>\n",
       "      <td>Y</td>\n",
       "      <td>unknown</td>\n",
       "      <td>unknown</td>\n",
       "      <td>C. Moore, GSAF</td>\n",
       "      <td>1835.08.19.R-Whitehaven.pdf</td>\n",
       "      <td>http://sharkattackfile.net/spreadsheets/pdf_di...</td>\n",
       "      <td>http://sharkattackfile.net/spreadsheets/pdf_di...</td>\n",
       "      <td>1836.08.19.R</td>\n",
       "      <td>1836.08.19.R</td>\n",
       "      <td>224.0</td>\n",
       "      <td>1</td>\n",
       "    </tr>\n",
       "  </tbody>\n",
       "</table>\n",
       "</div>"
      ],
      "text/plain": [
       "       Case_Number                  Date     Year        Type    Country  \\\n",
       "187   2017.01.08.R  Reported 08-Jan-2017  unknown     Invalid  AUSTRALIA   \n",
       "6079  1836.08.19.R  Reported 19-Aug-1836  unknown  Unprovoked    ENGLAND   \n",
       "\n",
       "            Area    Location      Activity          Name Sex      Age  \\\n",
       "187   Queensland     unknown  Spearfishing  Kerry Daniel   M       35   \n",
       "6079  Cumberland  Whitehaven      Swimming         a boy   M  unknown   \n",
       "\n",
       "                                      Injury    Fatal     Time     Species  \\\n",
       "187   No attack, shark made a threat display  unknown  unknown  Bull shark   \n",
       "6079                                   FATAL        Y  unknown     unknown   \n",
       "\n",
       "      Investigator or Source                           pdf  \\\n",
       "187   Liquid Vision 1/8/2017  2017.01.08.R-KerryDaniel.pdf   \n",
       "6079          C. Moore, GSAF   1835.08.19.R-Whitehaven.pdf   \n",
       "\n",
       "                                           href formula  \\\n",
       "187   http://sharkattackfile.net/spreadsheets/pdf_di...   \n",
       "6079  http://sharkattackfile.net/spreadsheets/pdf_di...   \n",
       "\n",
       "                                                   href  CaseNumber_1  \\\n",
       "187   http://sharkattackfile.net/spreadsheets/pdf_di...  2017.01.08.R   \n",
       "6079  http://sharkattackfile.net/spreadsheets/pdf_di...  1836.08.19.R   \n",
       "\n",
       "      CaseNumber_2  original order  fatal_count  \n",
       "187   2017.01.08.R          6116.0            0  \n",
       "6079  1836.08.19.R           224.0            1  "
      ]
     },
     "execution_count": 68,
     "metadata": {},
     "output_type": "execute_result"
    }
   ],
   "source": [
    "sharks1.loc[sharks1['Year'] == 'unknown']"
   ]
  },
  {
   "cell_type": "code",
   "execution_count": 69,
   "id": "5fd67b05",
   "metadata": {},
   "outputs": [],
   "source": [
    "sharks1.at[187, 'Year'] = 2017\n",
    "sharks1.at[6079, 'Year'] = 1836"
   ]
  },
  {
   "cell_type": "code",
   "execution_count": 70,
   "id": "17a73791",
   "metadata": {},
   "outputs": [],
   "source": [
    "sharks1['Year'] = sharks1['Year'].astype('int')"
   ]
  },
  {
   "cell_type": "code",
   "execution_count": 71,
   "id": "2d6f6fa3",
   "metadata": {},
   "outputs": [
    {
     "data": {
      "text/plain": [
       "2015    143\n",
       "2017    137\n",
       "2016    130\n",
       "2011    128\n",
       "2014    127\n",
       "Name: Year, dtype: int64"
      ]
     },
     "execution_count": 71,
     "metadata": {},
     "output_type": "execute_result"
    }
   ],
   "source": [
    "sharks1.Year.value_counts().head()"
   ]
  },
  {
   "cell_type": "markdown",
   "id": "3dfbda91",
   "metadata": {},
   "source": [
    "### Columna Country"
   ]
  },
  {
   "cell_type": "code",
   "execution_count": 72,
   "id": "f0f85ea4",
   "metadata": {},
   "outputs": [
    {
     "data": {
      "text/plain": [
       "array(['USA', 'AUSTRALIA', 'MEXICO', 'BRAZIL', 'ENGLAND', 'SOUTH AFRICA',\n",
       "       'THAILAND', 'COSTA RICA', 'MALDIVES', 'BAHAMAS', 'NEW CALEDONIA',\n",
       "       'ECUADOR', 'MALAYSIA', 'LIBYA', 'unknown', 'CUBA', 'MAURITIUS',\n",
       "       'NEW ZEALAND', 'SPAIN', 'SAMOA', 'SOLOMON ISLANDS', 'JAPAN',\n",
       "       'EGYPT', 'ST HELENA, British overseas territory', 'COMOROS',\n",
       "       'REUNION', 'FRENCH POLYNESIA', 'UNITED KINGDOM',\n",
       "       'UNITED ARAB EMIRATES', 'PHILIPPINES', 'INDONESIA', 'CHINA',\n",
       "       'COLUMBIA', 'CAPE VERDE', 'Fiji', 'DOMINICAN REPUBLIC',\n",
       "       'CAYMAN ISLANDS', 'ARUBA', 'MOZAMBIQUE', 'FIJI', 'PUERTO RICO',\n",
       "       'ITALY', 'ATLANTIC OCEAN', 'GREECE', 'ST. MARTIN', 'FRANCE',\n",
       "       'PAPUA NEW GUINEA', 'TRINIDAD & TOBAGO', 'KIRIBATI', 'ISRAEL',\n",
       "       'DIEGO GARCIA', 'TAIWAN', 'JAMAICA', 'PALESTINIAN TERRITORIES',\n",
       "       'GUAM', 'SEYCHELLES', 'BELIZE', 'NIGERIA', 'TONGA', 'SCOTLAND',\n",
       "       'CANADA', 'CROATIA', 'SAUDI ARABIA', 'CHILE', 'ANTIGUA', 'KENYA',\n",
       "       'RUSSIA', 'TURKS & CAICOS', 'UNITED ARAB EMIRATES (UAE)', 'AZORES',\n",
       "       'SOUTH KOREA', 'MALTA', 'VIETNAM', 'MADAGASCAR', 'PANAMA',\n",
       "       'SOMALIA', 'NEVIS', 'BRITISH VIRGIN ISLANDS', 'NORWAY', 'SENEGAL',\n",
       "       'YEMEN', 'GULF OF ADEN', 'Sierra Leone', 'ST. MAARTIN',\n",
       "       'GRAND CAYMAN', 'Seychelles', 'LIBERIA', 'VANUATU', 'MEXICO ',\n",
       "       'HONDURAS', 'VENEZUELA', 'SRI LANKA', ' TONGA', 'URUGUAY', 'INDIA',\n",
       "       'MICRONESIA', 'CARIBBEAN SEA', 'OKINAWA', 'TANZANIA',\n",
       "       'MARSHALL ISLANDS', 'EGYPT / ISRAEL', 'NORTHERN ARABIAN SEA',\n",
       "       'HONG KONG', 'EL SALVADOR', 'ANGOLA', 'BERMUDA', 'MONTENEGRO',\n",
       "       'IRAN', 'TUNISIA', 'NAMIBIA', 'NORTH ATLANTIC OCEAN', 'PORTUGAL',\n",
       "       'SOUTH CHINA SEA', 'BANGLADESH', 'PALAU', 'WESTERN SAMOA',\n",
       "       'PACIFIC OCEAN ', 'BRITISH ISLES', 'GRENADA', 'IRAQ', 'TURKEY',\n",
       "       'SINGAPORE', 'NEW BRITAIN', 'SUDAN', 'JOHNSTON ISLAND',\n",
       "       'SOUTH PACIFIC OCEAN', 'NEW GUINEA', 'RED SEA',\n",
       "       'NORTH PACIFIC OCEAN', 'FEDERATED STATES OF MICRONESIA',\n",
       "       'MID ATLANTIC OCEAN', 'ADMIRALTY ISLANDS', 'BRITISH WEST INDIES',\n",
       "       'SOUTH ATLANTIC OCEAN', 'PERSIAN GULF', 'RED SEA / INDIAN OCEAN',\n",
       "       'PACIFIC OCEAN', 'NORTH SEA', 'NICARAGUA ', 'MALDIVE ISLANDS',\n",
       "       'AMERICAN SAMOA', 'ANDAMAN / NICOBAR ISLANDAS', 'GABON', 'MAYOTTE',\n",
       "       'NORTH ATLANTIC OCEAN ', 'THE BALKANS', 'SUDAN?', 'ARGENTINA',\n",
       "       'MARTINIQUE', 'INDIAN OCEAN', 'GUATEMALA', 'NETHERLANDS ANTILLES',\n",
       "       'NORTHERN MARIANA ISLANDS', 'IRAN / IRAQ', 'JAVA', 'SIERRA LEONE',\n",
       "       ' PHILIPPINES', 'NICARAGUA', 'CENTRAL PACIFIC',\n",
       "       'SOLOMON ISLANDS / VANUATU', 'SOUTHWEST PACIFIC OCEAN',\n",
       "       'BAY OF BENGAL', 'MID-PACIFC OCEAN', 'SLOVENIA', 'CURACAO',\n",
       "       'ICELAND', 'ITALY / CROATIA', 'BARBADOS', 'MONACO', 'GUYANA',\n",
       "       'HAITI', 'SAN DOMINGO', 'IRELAND', 'KUWAIT', 'YEMEN ',\n",
       "       'REUNION ISLAND', 'FALKLAND ISLANDS', 'CRETE', 'CYPRUS', 'EGYPT ',\n",
       "       'WEST INDIES', 'BURMA', 'LEBANON', 'PARAGUAY',\n",
       "       'BRITISH NEW GUINEA', 'CEYLON', 'OCEAN', 'GEORGIA', 'SYRIA',\n",
       "       'TUVALU', 'INDIAN OCEAN?', 'GUINEA', 'ANDAMAN ISLANDS',\n",
       "       'EQUATORIAL GUINEA / CAMEROON', 'COOK ISLANDS', 'TOBAGO', 'PERU',\n",
       "       'AFRICA', 'ALGERIA', 'Coast of AFRICA', 'TASMAN SEA', 'GHANA',\n",
       "       'GREENLAND', 'MEDITERRANEAN SEA', 'SWEDEN', 'ROATAN',\n",
       "       'Between PORTUGAL & INDIA', 'DJIBOUTI', 'BAHREIN', 'KOREA',\n",
       "       'RED SEA?', 'ASIA?', 'CEYLON (SRI LANKA)'], dtype=object)"
      ]
     },
     "execution_count": 72,
     "metadata": {},
     "output_type": "execute_result"
    }
   ],
   "source": [
    "sharks1.Country.unique()"
   ]
  },
  {
   "cell_type": "code",
   "execution_count": 73,
   "id": "09393e2a",
   "metadata": {},
   "outputs": [],
   "source": [
    "sharks1['Country']=sharks1['Country'].replace('Fiji','FIJI')\n",
    "sharks1['Country']=sharks1['Country'].replace('UNITED ARAB EMIRATES (UAE)', 'UNITED ARAB EMIRATES')\n",
    "sharks1['Country']=sharks1['Country'].replace('Sierra Leone','SIERRA LEONE')\n",
    "sharks1['Country']=sharks1['Country'].replace('ST. MAARTIN','ST. MARTIN')                                             \n",
    "sharks1['Country']=sharks1['Country'].replace('MEXICO ','MEXICO')\n",
    "sharks1['Country']=sharks1['Country'].replace(' TONGA','TONGA')                                              \n",
    "sharks1['Country']=sharks1['Country'].replace('SOUTH CHINA SEA','CHINA')\n",
    "sharks1['Country']=sharks1['Country'].replace('PACIFIC OCEAN ','PACIFIC OCEAN')                                              \n",
    "sharks1['Country']=sharks1['Country'].replace('NORTH ATLANTIC OCEAN ','NORTH ATLANTIC OCEAN') \n",
    "sharks1['Country']=sharks1['Country'].replace('SUDAN?','SUDAN') \n",
    "sharks1['Country']=sharks1['Country'].replace(' PHILIPPINES','PHILIPPINES')\n",
    "sharks1['Country']=sharks1['Country'].replace('SAN DOMINGO','DOMINICAN REPUBLIC')\n",
    "sharks1['Country']=sharks1['Country'].replace('YEMEN ','YEMEN')                                             \n",
    "sharks1['Country']=sharks1['Country'].replace('EGYPT ','EGYPT') \n",
    "sharks1['Country']=sharks1['Country'].replace('INDIAN OCEAN?','INDIAN OCEAN')   \n",
    "sharks1['Country']=sharks1['Country'].replace('RED SEA?','RED SEA')\n",
    "sharks1['Country']=sharks1['Country'].replace('ASIA?','ASIA')\n",
    "sharks1['Country']=sharks1['Country'].replace('CEYLON (SRI LANKA)','SRI LANKA')    \n",
    "sharks1['Country']=sharks1['Country'].replace('AFRICA','unknown') \n",
    "sharks1['Country']=sharks1['Country'].replace('Coast of AFRICA','unknown') \n",
    "sharks1['Country']=sharks1['Country'].replace('Seychelles','SEYCHELLES')                                           "
   ]
  },
  {
   "cell_type": "code",
   "execution_count": 74,
   "id": "0383187e",
   "metadata": {},
   "outputs": [
    {
     "data": {
      "text/plain": [
       "array(['USA', 'AUSTRALIA', 'MEXICO', 'BRAZIL', 'ENGLAND', 'SOUTH AFRICA',\n",
       "       'THAILAND', 'COSTA RICA', 'MALDIVES', 'BAHAMAS', 'NEW CALEDONIA',\n",
       "       'ECUADOR', 'MALAYSIA', 'LIBYA', 'unknown', 'CUBA', 'MAURITIUS',\n",
       "       'NEW ZEALAND', 'SPAIN', 'SAMOA', 'SOLOMON ISLANDS', 'JAPAN',\n",
       "       'EGYPT', 'ST HELENA, British overseas territory', 'COMOROS',\n",
       "       'REUNION', 'FRENCH POLYNESIA', 'UNITED KINGDOM',\n",
       "       'UNITED ARAB EMIRATES', 'PHILIPPINES', 'INDONESIA', 'CHINA',\n",
       "       'COLUMBIA', 'CAPE VERDE', 'FIJI', 'DOMINICAN REPUBLIC',\n",
       "       'CAYMAN ISLANDS', 'ARUBA', 'MOZAMBIQUE', 'PUERTO RICO', 'ITALY',\n",
       "       'ATLANTIC OCEAN', 'GREECE', 'ST. MARTIN', 'FRANCE',\n",
       "       'PAPUA NEW GUINEA', 'TRINIDAD & TOBAGO', 'KIRIBATI', 'ISRAEL',\n",
       "       'DIEGO GARCIA', 'TAIWAN', 'JAMAICA', 'PALESTINIAN TERRITORIES',\n",
       "       'GUAM', 'SEYCHELLES', 'BELIZE', 'NIGERIA', 'TONGA', 'SCOTLAND',\n",
       "       'CANADA', 'CROATIA', 'SAUDI ARABIA', 'CHILE', 'ANTIGUA', 'KENYA',\n",
       "       'RUSSIA', 'TURKS & CAICOS', 'AZORES', 'SOUTH KOREA', 'MALTA',\n",
       "       'VIETNAM', 'MADAGASCAR', 'PANAMA', 'SOMALIA', 'NEVIS',\n",
       "       'BRITISH VIRGIN ISLANDS', 'NORWAY', 'SENEGAL', 'YEMEN',\n",
       "       'GULF OF ADEN', 'SIERRA LEONE', 'GRAND CAYMAN', 'LIBERIA',\n",
       "       'VANUATU', 'HONDURAS', 'VENEZUELA', 'SRI LANKA', 'URUGUAY',\n",
       "       'INDIA', 'MICRONESIA', 'CARIBBEAN SEA', 'OKINAWA', 'TANZANIA',\n",
       "       'MARSHALL ISLANDS', 'EGYPT / ISRAEL', 'NORTHERN ARABIAN SEA',\n",
       "       'HONG KONG', 'EL SALVADOR', 'ANGOLA', 'BERMUDA', 'MONTENEGRO',\n",
       "       'IRAN', 'TUNISIA', 'NAMIBIA', 'NORTH ATLANTIC OCEAN', 'PORTUGAL',\n",
       "       'BANGLADESH', 'PALAU', 'WESTERN SAMOA', 'PACIFIC OCEAN',\n",
       "       'BRITISH ISLES', 'GRENADA', 'IRAQ', 'TURKEY', 'SINGAPORE',\n",
       "       'NEW BRITAIN', 'SUDAN', 'JOHNSTON ISLAND', 'SOUTH PACIFIC OCEAN',\n",
       "       'NEW GUINEA', 'RED SEA', 'NORTH PACIFIC OCEAN',\n",
       "       'FEDERATED STATES OF MICRONESIA', 'MID ATLANTIC OCEAN',\n",
       "       'ADMIRALTY ISLANDS', 'BRITISH WEST INDIES', 'SOUTH ATLANTIC OCEAN',\n",
       "       'PERSIAN GULF', 'RED SEA / INDIAN OCEAN', 'NORTH SEA',\n",
       "       'NICARAGUA ', 'MALDIVE ISLANDS', 'AMERICAN SAMOA',\n",
       "       'ANDAMAN / NICOBAR ISLANDAS', 'GABON', 'MAYOTTE', 'THE BALKANS',\n",
       "       'ARGENTINA', 'MARTINIQUE', 'INDIAN OCEAN', 'GUATEMALA',\n",
       "       'NETHERLANDS ANTILLES', 'NORTHERN MARIANA ISLANDS', 'IRAN / IRAQ',\n",
       "       'JAVA', 'NICARAGUA', 'CENTRAL PACIFIC',\n",
       "       'SOLOMON ISLANDS / VANUATU', 'SOUTHWEST PACIFIC OCEAN',\n",
       "       'BAY OF BENGAL', 'MID-PACIFC OCEAN', 'SLOVENIA', 'CURACAO',\n",
       "       'ICELAND', 'ITALY / CROATIA', 'BARBADOS', 'MONACO', 'GUYANA',\n",
       "       'HAITI', 'IRELAND', 'KUWAIT', 'REUNION ISLAND', 'FALKLAND ISLANDS',\n",
       "       'CRETE', 'CYPRUS', 'WEST INDIES', 'BURMA', 'LEBANON', 'PARAGUAY',\n",
       "       'BRITISH NEW GUINEA', 'CEYLON', 'OCEAN', 'GEORGIA', 'SYRIA',\n",
       "       'TUVALU', 'GUINEA', 'ANDAMAN ISLANDS',\n",
       "       'EQUATORIAL GUINEA / CAMEROON', 'COOK ISLANDS', 'TOBAGO', 'PERU',\n",
       "       'ALGERIA', 'TASMAN SEA', 'GHANA', 'GREENLAND', 'MEDITERRANEAN SEA',\n",
       "       'SWEDEN', 'ROATAN', 'Between PORTUGAL & INDIA', 'DJIBOUTI',\n",
       "       'BAHREIN', 'KOREA', 'ASIA'], dtype=object)"
      ]
     },
     "execution_count": 74,
     "metadata": {},
     "output_type": "execute_result"
    }
   ],
   "source": [
    "sharks1.Country.unique()"
   ]
  },
  {
   "cell_type": "markdown",
   "id": "bb1a25af",
   "metadata": {},
   "source": [
    "#### Aquellos ataques acontecidos entre dos países o en mares y océanos los voy a calificar como acontecidos en aguas internacionales."
   ]
  },
  {
   "cell_type": "code",
   "execution_count": 75,
   "id": "5bcd0349",
   "metadata": {},
   "outputs": [],
   "source": [
    "sharks1.loc[sharks1['Country'].str.contains('Ocean', case=False), 'Country'] ='INTERNATIONAL WATERS'\n",
    "sharks1.loc[sharks1['Country'].str.contains('Sea', case=False), 'Country'] ='INTERNATIONAL WATERS'\n",
    "sharks1.loc[sharks1['Country'].str.contains('Pacific', case=False), 'Country'] ='INTERNATIONAL WATERS'\n",
    "sharks1.loc[sharks1['Country'].str.contains('Asia', case=False), 'Country'] ='INTERNATIONAL WATERS'\n",
    "sharks1.loc[sharks1['Country'].str.contains('between', case=False), 'Country'] ='INTERNATIONAL WATERS'\n",
    "sharks1.loc[sharks1['Country'].str.contains('/', case=False), 'Country'] ='INTERNATIONAL WATERS'\n"
   ]
  },
  {
   "cell_type": "code",
   "execution_count": 118,
   "id": "d9089691",
   "metadata": {},
   "outputs": [
    {
     "data": {
      "text/plain": [
       "USA                               2229\n",
       "AUSTRALIA                         1338\n",
       "SOUTH AFRICA                       579\n",
       "PAPUA NEW GUINEA                   134\n",
       "NEW ZEALAND                        128\n",
       "BRAZIL                             112\n",
       "BAHAMAS                            109\n",
       "INTERNATIONAL WATERS               107\n",
       "MEXICO                              90\n",
       "ITALY                               71\n",
       "FIJI                                65\n",
       "PHILIPPINES                         62\n",
       "REUNION                             60\n",
       "NEW CALEDONIA                       53\n",
       "unknown                             52\n",
       "CUBA                                46\n",
       "MOZAMBIQUE                          45\n",
       "SPAIN                               44\n",
       "INDIA                               40\n",
       "EGYPT                               40\n",
       "JAPAN                               34\n",
       "CROATIA                             34\n",
       "PANAMA                              32\n",
       "SOLOMON ISLANDS                     30\n",
       "IRAN                                29\n",
       "JAMAICA                             27\n",
       "FRENCH POLYNESIA                    25\n",
       "GREECE                              25\n",
       "HONG KONG                           24\n",
       "INDONESIA                           23\n",
       "ENGLAND                             23\n",
       "TONGA                               18\n",
       "COSTA RICA                          17\n",
       "BERMUDA                             16\n",
       "SRI LANKA                           15\n",
       "VIETNAM                             15\n",
       "VANUATU                             14\n",
       "MARSHALL ISLANDS                    13\n",
       "FRANCE                              13\n",
       "IRAQ                                12\n",
       "TURKEY                              12\n",
       "CANADA                              12\n",
       "SENEGAL                             11\n",
       "UNITED KINGDOM                      11\n",
       "VENEZUELA                           11\n",
       "KENYA                               10\n",
       "NEW GUINEA                          10\n",
       "MAURITIUS                           10\n",
       "SIERRA LEONE                         9\n",
       "TAIWAN                               9\n",
       "COLUMBIA                             9\n",
       "ECUADOR                              9\n",
       "YEMEN                                9\n",
       "SAMOA                                8\n",
       "MADAGASCAR                           8\n",
       "SCOTLAND                             8\n",
       "TANZANIA                             8\n",
       "CHILE                                8\n",
       "CHINA                                8\n",
       "SOUTH KOREA                          8\n",
       "THAILAND                             8\n",
       "DOMINICAN REPUBLIC                   8\n",
       "SEYCHELLES                           8\n",
       "ISRAEL                               7\n",
       "OKINAWA                              6\n",
       "SOMALIA                              6\n",
       "LIBYA                                6\n",
       "NEW BRITAIN                          6\n",
       "BARBADOS                             6\n",
       "NICARAGUA                            6\n",
       "KIRIBATI                             6\n",
       "SINGAPORE                            6\n",
       "MALTA                                5\n",
       "AZORES                               5\n",
       "TURKS & CAICOS                       5\n",
       "SUDAN                                5\n",
       "MALAYSIA                             5\n",
       "SAUDI ARABIA                         5\n",
       "PALAU                                5\n",
       "EL SALVADOR                          4\n",
       "GRENADA                              4\n",
       "URUGUAY                              4\n",
       "BURMA                                4\n",
       "PERSIAN GULF                         4\n",
       "HONDURAS                             4\n",
       "UNITED ARAB EMIRATES                 4\n",
       "RUSSIA                               4\n",
       "NIGERIA                              4\n",
       "GUAM                                 4\n",
       "LIBERIA                              3\n",
       "PORTUGAL                             3\n",
       "MARTINIQUE                           3\n",
       "LEBANON                              3\n",
       "AMERICAN SAMOA                       3\n",
       "CEYLON                               3\n",
       "CAPE VERDE                           3\n",
       "GUINEA                               3\n",
       "GUYANA                               3\n",
       "TRINIDAD & TOBAGO                    3\n",
       "HAITI                                3\n",
       "MONTENEGRO                           3\n",
       "TUNISIA                              3\n",
       "MICRONESIA                           3\n",
       "BELIZE                               3\n",
       "NORWAY                               2\n",
       "WEST INDIES                          2\n",
       "ANTIGUA                              2\n",
       "CRETE                                2\n",
       "CAYMAN ISLANDS                       2\n",
       "JOHNSTON ISLAND                      2\n",
       "NAMIBIA                              2\n",
       "ST. MARTIN                           2\n",
       "TOBAGO                               2\n",
       "ICELAND                              2\n",
       "REUNION ISLAND                       1\n",
       "BAHREIN                              1\n",
       "FALKLAND ISLANDS                     1\n",
       "KUWAIT                               1\n",
       "CYPRUS                               1\n",
       "IRELAND                              1\n",
       "MALDIVES                             1\n",
       "GEORGIA                              1\n",
       "PARAGUAY                             1\n",
       "BRITISH NEW GUINEA                   1\n",
       "DJIBOUTI                             1\n",
       "ROATAN                               1\n",
       "GREENLAND                            1\n",
       "SYRIA                                1\n",
       "TUVALU                               1\n",
       "SWEDEN                               1\n",
       "COOK ISLANDS                         1\n",
       "PERU                                 1\n",
       "ALGERIA                              1\n",
       "GHANA                                1\n",
       "ANDAMAN ISLANDS                      1\n",
       "GUATEMALA                            1\n",
       "MONACO                               1\n",
       "COMOROS                              1\n",
       "GULF OF ADEN                         1\n",
       "BRITISH VIRGIN ISLANDS               1\n",
       "NEVIS                                1\n",
       "ANGOLA                               1\n",
       "BANGLADESH                           1\n",
       "WESTERN SAMOA                        1\n",
       "BRITISH ISLES                        1\n",
       "PALESTINIAN TERRITORIES              1\n",
       "DIEGO GARCIA                         1\n",
       "PUERTO RICO                          1\n",
       "ARUBA                                1\n",
       "FEDERATED STATES OF MICRONESIA       1\n",
       "ADMIRALTY ISLANDS                    1\n",
       "BRITISH WEST INDIES                  1\n",
       "NICARAGUA                            1\n",
       "MALDIVE ISLANDS                      1\n",
       "GABON                                1\n",
       "MAYOTTE                              1\n",
       "THE BALKANS                          1\n",
       "ARGENTINA                            1\n",
       "GRAND CAYMAN                         1\n",
       "NETHERLANDS ANTILLES                 1\n",
       "NORTHERN MARIANA ISLANDS             1\n",
       "JAVA                                 1\n",
       "BAY OF BENGAL                        1\n",
       "SLOVENIA                             1\n",
       "CURACAO                              1\n",
       "KOREA                                1\n",
       "Name: Country, dtype: int64"
      ]
     },
     "execution_count": 118,
     "metadata": {},
     "output_type": "execute_result"
    }
   ],
   "source": [
    "sharks1.Country.value_counts()"
   ]
  },
  {
   "cell_type": "markdown",
   "id": "09d5c8c0",
   "metadata": {},
   "source": [
    "### Columna Age"
   ]
  },
  {
   "cell_type": "code",
   "execution_count": 77,
   "id": "a2608a89",
   "metadata": {
    "scrolled": true
   },
   "outputs": [
    {
     "data": {
      "text/plain": [
       "array(['57', '11', '48', 'unknown', '18', '52', '15', '12', '32', '10',\n",
       "       '21', '34', '30', '60', '33', '29', '54', '41', '37', '56', '19',\n",
       "       '25', '69', '38', '55', '35', '46', '45', '14', '40s', '28', '20',\n",
       "       '24', '26', '49', '22', '7', '31', '17', '40', '13', '42', '3',\n",
       "       '8', '50', '16', '82', '73', '20s', '68', '51', '39', '58', 'Teen',\n",
       "       '47', '61', '65', '36', '66', '43', '60s', '9', '72', '59', '6',\n",
       "       '27', '64', '23', '71', '44', '62', '63', '70', '18 months', '53',\n",
       "       '30s', '50s', 'teen', '77', '74', '28 & 26', '5', '86', '18 or 20',\n",
       "       '12 or 13', '46 & 34', '28, 23 & 30', 'Teens', '36 & 26',\n",
       "       '8 or 10', '84', '\\xa0 ', ' ', '30 or 36', '6½', '21 & ?', '75',\n",
       "       '33 or 37', 'mid-30s', '23 & 20', ' 30', '7      &    31', ' 28',\n",
       "       '20?', \"60's\", '32 & 30', '16 to 18', '87', '67', 'Elderly',\n",
       "       'mid-20s', 'Ca. 33', '74 ', '45 ', '21 or 26', '20 ', '>50',\n",
       "       '18 to 22', 'adult', '9 & 12', '? & 19', '9 months', '25 to 35',\n",
       "       '23 & 26', '1', '(adult)', '33 & 37', '25 or 28',\n",
       "       '37, 67, 35, 27,  ? & 27', '21, 34,24 & 35', '30 & 32', '50 & 30',\n",
       "       '17 & 35', 'X', '\"middle-age\"', '13 or 18', '34 & 19', '33 & 26',\n",
       "       '2 to 3 months', 'MAKE LINE GREEN', ' 43', '81', '\"young\"',\n",
       "       '7 or 8', '78', '17 & 16', 'F', 'Both 11', '9 or 10', 'young',\n",
       "       '36 & 23', '  ', 'A.M.', '?    &   14', '10 or 12', '31 or 33',\n",
       "       '2½', '13 or 14'], dtype=object)"
      ]
     },
     "execution_count": 77,
     "metadata": {},
     "output_type": "execute_result"
    }
   ],
   "source": [
    "sharks1.Age.unique()"
   ]
  },
  {
   "cell_type": "markdown",
   "id": "7586272e",
   "metadata": {},
   "source": [
    "#### Definimos función clean_Age y se la aplicamos a la columna Age para que se vea reflejada en una nueva columna mean_age. En resumen, va a coger aquellas celdas con más de una edad y va a devolver la media de las edades que aparecen en la celda."
   ]
  },
  {
   "cell_type": "code",
   "execution_count": 78,
   "id": "e1421085",
   "metadata": {},
   "outputs": [],
   "source": [
    "def clean_Age(x):\n",
    "    x = x.lower()\n",
    "    patron = re.findall('\\d+', x)[:5]\n",
    "    res = [eval(i) for i in patron]\n",
    "    \n",
    "\n",
    "    if patron:\n",
    "        return np.mean(res)\n",
    "    elif \"2to3months\" in x: # around 0.208\n",
    "        return 0.2\n",
    "    elif \"9months\" in x:\n",
    "        return 0.75\n",
    "    elif \"18months\" in x:\n",
    "        return 1.5\n",
    "    elif \"teen\" in x: #entre 13 y 19\n",
    "        return 16\n",
    "    elif \"young\" in x: #entre 15 y 24\n",
    "        return 19.5\n",
    "    elif \"adult\" in x: # entre 18 y 65\n",
    "        return 41.5\n",
    "    elif \"middle\" in x : # entre 40 y 60\n",
    "        return 50\n",
    "    elif \"elderly\" in x: # +65\n",
    "        return 70\n",
    "    else:\n",
    "        return 'unknown'"
   ]
  },
  {
   "cell_type": "code",
   "execution_count": 79,
   "id": "be185fa2",
   "metadata": {},
   "outputs": [],
   "source": [
    "sharks1['mean_age']=sharks1.Age.apply(clean_Age)"
   ]
  },
  {
   "cell_type": "code",
   "execution_count": 80,
   "id": "bff69fcf",
   "metadata": {},
   "outputs": [
    {
     "data": {
      "text/plain": [
       "array([57.0, 11.0, 48.0, 'unknown', 18.0, 52.0, 15.0, 12.0, 32.0, 10.0,\n",
       "       21.0, 34.0, 30.0, 60.0, 33.0, 29.0, 54.0, 41.0, 37.0, 56.0, 19.0,\n",
       "       25.0, 69.0, 38.0, 55.0, 35.0, 46.0, 45.0, 14.0, 40.0, 28.0, 20.0,\n",
       "       24.0, 26.0, 49.0, 22.0, 7.0, 31.0, 17.0, 13.0, 42.0, 3.0, 8.0,\n",
       "       50.0, 16.0, 82.0, 73.0, 68.0, 51.0, 39.0, 58.0, 47.0, 61.0, 65.0,\n",
       "       36.0, 66.0, 43.0, 9.0, 72.0, 59.0, 6.0, 27.0, 64.0, 23.0, 71.0,\n",
       "       44.0, 62.0, 63.0, 70.0, 53.0, 77.0, 74.0, 5.0, 86.0, 12.5, 84.0,\n",
       "       75.0, 21.5, 87.0, 67.0, 23.5, 41.5, 10.5, 24.5, 1.0, 26.5, 38.6,\n",
       "       28.5, 15.5, 29.5, 2.5, 81.0, 19.5, 7.5, 78.0, 16.5, 9.5, 2.0, 13.5],\n",
       "      dtype=object)"
      ]
     },
     "execution_count": 80,
     "metadata": {},
     "output_type": "execute_result"
    }
   ],
   "source": [
    "sharks1.mean_age.unique()"
   ]
  },
  {
   "cell_type": "code",
   "execution_count": 81,
   "id": "60ae4ccd",
   "metadata": {},
   "outputs": [
    {
     "data": {
      "text/html": [
       "<div>\n",
       "<style scoped>\n",
       "    .dataframe tbody tr th:only-of-type {\n",
       "        vertical-align: middle;\n",
       "    }\n",
       "\n",
       "    .dataframe tbody tr th {\n",
       "        vertical-align: top;\n",
       "    }\n",
       "\n",
       "    .dataframe thead th {\n",
       "        text-align: right;\n",
       "    }\n",
       "</style>\n",
       "<table border=\"1\" class=\"dataframe\">\n",
       "  <thead>\n",
       "    <tr style=\"text-align: right;\">\n",
       "      <th></th>\n",
       "      <th>Case_Number</th>\n",
       "      <th>Date</th>\n",
       "      <th>Year</th>\n",
       "      <th>Type</th>\n",
       "      <th>Country</th>\n",
       "      <th>Area</th>\n",
       "      <th>Location</th>\n",
       "      <th>Activity</th>\n",
       "      <th>Name</th>\n",
       "      <th>Sex</th>\n",
       "      <th>Age</th>\n",
       "      <th>Injury</th>\n",
       "      <th>Fatal</th>\n",
       "      <th>Time</th>\n",
       "      <th>Species</th>\n",
       "      <th>Investigator or Source</th>\n",
       "      <th>pdf</th>\n",
       "      <th>href formula</th>\n",
       "      <th>href</th>\n",
       "      <th>CaseNumber_1</th>\n",
       "      <th>CaseNumber_2</th>\n",
       "      <th>original order</th>\n",
       "      <th>fatal_count</th>\n",
       "      <th>mean_age</th>\n",
       "    </tr>\n",
       "  </thead>\n",
       "  <tbody>\n",
       "    <tr>\n",
       "      <th>0</th>\n",
       "      <td>2018.06.25</td>\n",
       "      <td>25-Jun-2018</td>\n",
       "      <td>2018</td>\n",
       "      <td>Boating</td>\n",
       "      <td>USA</td>\n",
       "      <td>California</td>\n",
       "      <td>Oceanside, San Diego County</td>\n",
       "      <td>Paddling</td>\n",
       "      <td>Julie Wolfe</td>\n",
       "      <td>F</td>\n",
       "      <td>57</td>\n",
       "      <td>No injury to occupant, outrigger canoe and pad...</td>\n",
       "      <td>N</td>\n",
       "      <td>18h00</td>\n",
       "      <td>White shark</td>\n",
       "      <td>R. Collier, GSAF</td>\n",
       "      <td>2018.06.25-Wolfe.pdf</td>\n",
       "      <td>http://sharkattackfile.net/spreadsheets/pdf_di...</td>\n",
       "      <td>http://sharkattackfile.net/spreadsheets/pdf_di...</td>\n",
       "      <td>2018.06.25</td>\n",
       "      <td>2018.06.25</td>\n",
       "      <td>6303.0</td>\n",
       "      <td>0</td>\n",
       "      <td>57.0</td>\n",
       "    </tr>\n",
       "    <tr>\n",
       "      <th>1</th>\n",
       "      <td>2018.06.18</td>\n",
       "      <td>18-Jun-2018</td>\n",
       "      <td>2018</td>\n",
       "      <td>Unprovoked</td>\n",
       "      <td>USA</td>\n",
       "      <td>Georgia</td>\n",
       "      <td>St. Simon Island, Glynn County</td>\n",
       "      <td>Standing</td>\n",
       "      <td>Adyson McNeely</td>\n",
       "      <td>F</td>\n",
       "      <td>11</td>\n",
       "      <td>Minor injury to left thigh</td>\n",
       "      <td>N</td>\n",
       "      <td>14h00  -15h00</td>\n",
       "      <td>unknown</td>\n",
       "      <td>K.McMurray, TrackingSharks.com</td>\n",
       "      <td>2018.06.18-McNeely.pdf</td>\n",
       "      <td>http://sharkattackfile.net/spreadsheets/pdf_di...</td>\n",
       "      <td>http://sharkattackfile.net/spreadsheets/pdf_di...</td>\n",
       "      <td>2018.06.18</td>\n",
       "      <td>2018.06.18</td>\n",
       "      <td>6302.0</td>\n",
       "      <td>0</td>\n",
       "      <td>11.0</td>\n",
       "    </tr>\n",
       "    <tr>\n",
       "      <th>2</th>\n",
       "      <td>2018.06.09</td>\n",
       "      <td>09-Jun-2018</td>\n",
       "      <td>2018</td>\n",
       "      <td>Invalid</td>\n",
       "      <td>USA</td>\n",
       "      <td>Hawaii</td>\n",
       "      <td>Habush, Oahu</td>\n",
       "      <td>Surfing</td>\n",
       "      <td>John Denges</td>\n",
       "      <td>M</td>\n",
       "      <td>48</td>\n",
       "      <td>Injury to left lower leg from surfboard skeg</td>\n",
       "      <td>N</td>\n",
       "      <td>07h45</td>\n",
       "      <td>unknown</td>\n",
       "      <td>K.McMurray, TrackingSharks.com</td>\n",
       "      <td>2018.06.09-Denges.pdf</td>\n",
       "      <td>http://sharkattackfile.net/spreadsheets/pdf_di...</td>\n",
       "      <td>http://sharkattackfile.net/spreadsheets/pdf_di...</td>\n",
       "      <td>2018.06.09</td>\n",
       "      <td>2018.06.09</td>\n",
       "      <td>6301.0</td>\n",
       "      <td>0</td>\n",
       "      <td>48.0</td>\n",
       "    </tr>\n",
       "    <tr>\n",
       "      <th>3</th>\n",
       "      <td>2018.06.08</td>\n",
       "      <td>08-Jun-2018</td>\n",
       "      <td>2018</td>\n",
       "      <td>Unprovoked</td>\n",
       "      <td>AUSTRALIA</td>\n",
       "      <td>New South Wales</td>\n",
       "      <td>Arrawarra Headland</td>\n",
       "      <td>Surfing</td>\n",
       "      <td>male</td>\n",
       "      <td>M</td>\n",
       "      <td>unknown</td>\n",
       "      <td>Minor injury to lower leg</td>\n",
       "      <td>N</td>\n",
       "      <td>unknown</td>\n",
       "      <td>2 m shark</td>\n",
       "      <td>B. Myatt, GSAF</td>\n",
       "      <td>2018.06.08-Arrawarra.pdf</td>\n",
       "      <td>http://sharkattackfile.net/spreadsheets/pdf_di...</td>\n",
       "      <td>http://sharkattackfile.net/spreadsheets/pdf_di...</td>\n",
       "      <td>2018.06.08</td>\n",
       "      <td>2018.06.08</td>\n",
       "      <td>6300.0</td>\n",
       "      <td>0</td>\n",
       "      <td>unknown</td>\n",
       "    </tr>\n",
       "    <tr>\n",
       "      <th>4</th>\n",
       "      <td>2018.06.04</td>\n",
       "      <td>04-Jun-2018</td>\n",
       "      <td>2018</td>\n",
       "      <td>Provoked</td>\n",
       "      <td>MEXICO</td>\n",
       "      <td>Colima</td>\n",
       "      <td>La Ticla</td>\n",
       "      <td>Free diving</td>\n",
       "      <td>Gustavo Ramos</td>\n",
       "      <td>M</td>\n",
       "      <td>unknown</td>\n",
       "      <td>Lacerations to leg &amp; hand shark PROVOKED INCIDENT</td>\n",
       "      <td>N</td>\n",
       "      <td>unknown</td>\n",
       "      <td>Tiger shark, 3m</td>\n",
       "      <td>A .Kipper</td>\n",
       "      <td>2018.06.04-Ramos.pdf</td>\n",
       "      <td>http://sharkattackfile.net/spreadsheets/pdf_di...</td>\n",
       "      <td>http://sharkattackfile.net/spreadsheets/pdf_di...</td>\n",
       "      <td>2018.06.04</td>\n",
       "      <td>2018.06.04</td>\n",
       "      <td>6299.0</td>\n",
       "      <td>0</td>\n",
       "      <td>unknown</td>\n",
       "    </tr>\n",
       "  </tbody>\n",
       "</table>\n",
       "</div>"
      ],
      "text/plain": [
       "  Case_Number         Date  Year        Type    Country             Area  \\\n",
       "0  2018.06.25  25-Jun-2018  2018     Boating        USA       California   \n",
       "1  2018.06.18  18-Jun-2018  2018  Unprovoked        USA          Georgia   \n",
       "2  2018.06.09  09-Jun-2018  2018     Invalid        USA           Hawaii   \n",
       "3  2018.06.08  08-Jun-2018  2018  Unprovoked  AUSTRALIA  New South Wales   \n",
       "4  2018.06.04  04-Jun-2018  2018    Provoked     MEXICO           Colima   \n",
       "\n",
       "                         Location     Activity             Name Sex      Age  \\\n",
       "0     Oceanside, San Diego County     Paddling      Julie Wolfe   F       57   \n",
       "1  St. Simon Island, Glynn County     Standing  Adyson McNeely    F       11   \n",
       "2                    Habush, Oahu      Surfing      John Denges   M       48   \n",
       "3              Arrawarra Headland      Surfing             male   M  unknown   \n",
       "4                        La Ticla  Free diving   Gustavo Ramos    M  unknown   \n",
       "\n",
       "                                              Injury Fatal           Time  \\\n",
       "0  No injury to occupant, outrigger canoe and pad...     N          18h00   \n",
       "1                         Minor injury to left thigh     N  14h00  -15h00   \n",
       "2       Injury to left lower leg from surfboard skeg     N          07h45   \n",
       "3                          Minor injury to lower leg     N        unknown   \n",
       "4  Lacerations to leg & hand shark PROVOKED INCIDENT     N        unknown   \n",
       "\n",
       "           Species          Investigator or Source                       pdf  \\\n",
       "0      White shark                R. Collier, GSAF      2018.06.25-Wolfe.pdf   \n",
       "1          unknown  K.McMurray, TrackingSharks.com    2018.06.18-McNeely.pdf   \n",
       "2          unknown  K.McMurray, TrackingSharks.com     2018.06.09-Denges.pdf   \n",
       "3        2 m shark                  B. Myatt, GSAF  2018.06.08-Arrawarra.pdf   \n",
       "4  Tiger shark, 3m                       A .Kipper      2018.06.04-Ramos.pdf   \n",
       "\n",
       "                                        href formula  \\\n",
       "0  http://sharkattackfile.net/spreadsheets/pdf_di...   \n",
       "1  http://sharkattackfile.net/spreadsheets/pdf_di...   \n",
       "2  http://sharkattackfile.net/spreadsheets/pdf_di...   \n",
       "3  http://sharkattackfile.net/spreadsheets/pdf_di...   \n",
       "4  http://sharkattackfile.net/spreadsheets/pdf_di...   \n",
       "\n",
       "                                                href CaseNumber_1  \\\n",
       "0  http://sharkattackfile.net/spreadsheets/pdf_di...   2018.06.25   \n",
       "1  http://sharkattackfile.net/spreadsheets/pdf_di...   2018.06.18   \n",
       "2  http://sharkattackfile.net/spreadsheets/pdf_di...   2018.06.09   \n",
       "3  http://sharkattackfile.net/spreadsheets/pdf_di...   2018.06.08   \n",
       "4  http://sharkattackfile.net/spreadsheets/pdf_di...   2018.06.04   \n",
       "\n",
       "  CaseNumber_2  original order  fatal_count mean_age  \n",
       "0   2018.06.25          6303.0            0     57.0  \n",
       "1   2018.06.18          6302.0            0     11.0  \n",
       "2   2018.06.09          6301.0            0     48.0  \n",
       "3   2018.06.08          6300.0            0  unknown  \n",
       "4   2018.06.04          6299.0            0  unknown  "
      ]
     },
     "execution_count": 81,
     "metadata": {},
     "output_type": "execute_result"
    }
   ],
   "source": [
    "sharks1.head()"
   ]
  },
  {
   "cell_type": "markdown",
   "id": "d6519e44",
   "metadata": {},
   "source": [
    "### Columna Species"
   ]
  },
  {
   "cell_type": "code",
   "execution_count": 82,
   "id": "ad12e925",
   "metadata": {},
   "outputs": [
    {
     "data": {
      "text/plain": [
       "array(['White shark', 'unknown', '2 m shark', ..., \"12' tiger shark\",\n",
       "       'Blue pointers',\n",
       "       'Said to involve a grey nurse shark that leapt out of the water and  seized the boy but species identification is questionable'],\n",
       "      dtype=object)"
      ]
     },
     "execution_count": 82,
     "metadata": {},
     "output_type": "execute_result"
    }
   ],
   "source": [
    "sharks1.Species.unique()"
   ]
  },
  {
   "cell_type": "code",
   "execution_count": 83,
   "id": "0ee2ba0a",
   "metadata": {},
   "outputs": [],
   "source": [
    "sharks1.loc[sharks1['Species'].str.contains('white', case=False), 'Species'] = 'White shark'"
   ]
  },
  {
   "cell_type": "code",
   "execution_count": 84,
   "id": "b30fc2f8",
   "metadata": {},
   "outputs": [],
   "source": [
    "sharks1.loc[sharks1['Species'].str.contains('invalid', case=False), 'Species'] = 'unknown'\n",
    "sharks1.loc[sharks1['Species'].str.contains('Shark involvement', case=False), 'Species'] = 'unknown'\n",
    "sharks1.loc[sharks1['Species'].str.contains('Bull', case=False), 'Species'] = 'Bull shark'\n",
    "sharks1.loc[sharks1['Species'].str.contains('Tiger', case=False), 'Species'] = 'Tiger shark'\n",
    "sharks1.loc[sharks1['Species'].str.contains('blacktip shark', case=False), 'Species'] = 'Blacktip shark'\n",
    "sharks1.loc[sharks1['Species'].str.contains(\"black-tipped\", case=False), 'Species'] = 'Blacktip shark'\n",
    "sharks1.loc[sharks1['Species'].str.contains('Lemon', case=False), 'Species'] = 'Lemon shark'\n",
    "sharks1.loc[sharks1['Species'].str.contains('Bronze', case=False), 'Species'] = 'Bronze whaler shark'\n",
    "sharks1.loc[sharks1['Species'].str.contains('whaler', case=False), 'Species'] = 'Bronze whaler shark'\n",
    "sharks1.loc[sharks1['Species'].str.contains(\"gray\", case=False), 'Species'] = 'Grey reef shark'\n",
    "sharks1.loc[sharks1['Species'].str.contains('Grey ', case=False), 'Species'] = 'Grey reef shark'\n",
    "sharks1.loc[sharks1['Species'].str.contains('reef ', case=False), 'Species'] = 'Grey reef shark'\n",
    "sharks1.loc[sharks1['Species'].str.contains('Raggedtooth', case=False), 'Species'] = 'Raggedtooth shark'\n",
    "sharks1.loc[sharks1['Species'].str.contains('Nurse', case=False), 'Species'] = 'Nurse shark'\n",
    "sharks1.loc[sharks1['Species'].str.contains('Mako', case=False), 'Species'] = 'Mako shark'\n",
    "sharks1.loc[sharks1['Species'].str.contains('Sand', case=False), 'Species'] = 'Sand shark'\n",
    "sharks1.loc[sharks1['Species'].str.contains('Sandtiger', case=False), 'Species'] = 'Sandtiger shark'\n",
    "sharks1.loc[sharks1['Species'].str.contains('Wobbegong', case=False), 'Species'] = 'Wobbegong shark'\n",
    "sharks1.loc[sharks1['Species'].str.contains('C. leucas', case=False), 'Species'] = 'C. leucas shark'\n",
    "sharks1.loc[sharks1['Species'].str.contains('spin', case=False), 'Species'] = 'Spinner shark'\n",
    "sharks1.loc[sharks1['Species'].str.contains('Blue', case=False), 'Species'] = 'Blue shark'\n",
    "sharks1.loc[sharks1['Species'].str.contains('Salmon', case=False), 'Species'] = 'Salmon shark'\n",
    "sharks1.loc[sharks1['Species'].str.contains('Dogfish', case=False), 'Species'] = 'Dogfish shark'\n",
    "sharks1.loc[sharks1['Species'].str.contains('galapagos', case=False), 'Species'] = 'Galapagos shark'\n",
    "sharks1.loc[sharks1['Species'].str.contains('Hammer', case=False), 'Species'] = 'Hammerhead shark'\n",
    "sharks1.loc[sharks1['Species'].str.contains('Ragged', case=False), 'Species'] = 'Raggedtooth shark'\n",
    "sharks1.loc[sharks1['Species'].str.contains('Port', case=False), 'Species'] = 'Port Jackson shark'\n",
    "sharks1.loc[sharks1['Species'].str.contains('Zambezi', case=False), 'Species'] = 'Zambezi shark'\n",
    "sharks1.loc[sharks1['Species'].str.contains('Zambessi', case=False), 'Species'] = 'Zambezi shark'\n",
    "sharks1.loc[sharks1['Species'].str.contains('Zambesi', case=False), 'Species'] = 'Zambezi shark'\n",
    "sharks1.loc[sharks1['Species'].str.contains('whitetip', case=False), 'Species'] = 'Ocean whitetip shark'\n",
    "sharks1.loc[sharks1['Species'].str.contains('Porbeagle', case=False), 'Species'] = 'Porbeagle shark'\n",
    "sharks1.loc[sharks1['Species'].str.contains('angel', case=False), 'Species'] = 'Angel shark'\n",
    "sharks1.loc[sharks1['Species'].str.contains('spur', case=False), 'Species'] = 'Spurdog shark'\n",
    "sharks1.loc[sharks1['Species'].str.contains('cookie', case=False), 'Species'] = 'Cookie cutter shark'\n",
    "sharks1.loc[sharks1['Species'].str.contains('dusky', case=False), 'Species'] = 'Dusky shark'\n",
    "sharks1.loc[sharks1['Species'].str.contains('seven', case=False), 'Species'] = 'Sevengill shark'\n",
    "sharks1.loc[sharks1['Species'].str.contains('copper', case=False), 'Species'] = 'Copper shark'\n",
    "sharks1.loc[sharks1['Species'].str.contains('thresher', case=False), 'Species'] = 'Thresher shark'\n",
    "\n"
   ]
  },
  {
   "cell_type": "markdown",
   "id": "a98af622",
   "metadata": {},
   "source": [
    "#### No puedo asignar una especie a los valores de tiburones con tamaño específico, porque podrían ser distintas especies en distintas fases de crecimiento."
   ]
  },
  {
   "cell_type": "code",
   "execution_count": 85,
   "id": "f0a2b89c",
   "metadata": {},
   "outputs": [],
   "source": [
    "#las que tienen medidas en pies\n",
    "sharks1.loc[sharks1['Species'].str.contains(\"\\d+'\", case=False), 'Species'] = 'unknown'\n",
    "sharks1.loc[sharks1['Species'].str.contains('\\d+\"', case=False), 'Species'] = 'unknown'\n",
    "#las que tienen medidas en metros, cm...\n",
    "sharks1.loc[sharks1['Species'].str.contains(\"\\d+\\s+m\", case=False), 'Species'] = 'unknown'\n",
    "sharks1.loc[sharks1['Species'].str.contains(\"\\d+m\", case=False), 'Species'] = 'unknown'\n",
    "sharks1.loc[sharks1['Species'].str.contains(\"\\d+\\s+cm\", case=False), 'Species'] = 'unknown'\n",
    "#los que son small, little, large\n",
    "sharks1.loc[sharks1['Species'].str.contains(\"small\", case=False), 'Species'] = 'unknown'\n",
    "sharks1.loc[sharks1['Species'].str.contains(\"little\", case=False), 'Species'] = 'unknown'\n",
    "sharks1.loc[sharks1['Species'].str.contains(\"large\", case=False), 'Species'] = 'unknown'\n",
    "#lo mismo por edad\n",
    "sharks1.loc[sharks1['Species'].str.contains(\"young\", case=False), 'Species'] = 'unknown'\n",
    "sharks1.loc[sharks1['Species'].str.contains(\"adult\", case=False), 'Species'] = 'unknown'"
   ]
  },
  {
   "cell_type": "code",
   "execution_count": 86,
   "id": "a25e7d37",
   "metadata": {},
   "outputs": [],
   "source": [
    "sharks1.loc[sharks1['Species'].str.contains('unidentified', case=False), 'Species'] = 'unknown'\n",
    "sharks1.loc[sharks1['Species'].str.contains('no shark', case=False), 'Species'] = 'unknown'\n",
    "sharks1.loc[sharks1['Species'].str.contains('kg', case=False), 'Species'] = 'unknown'\n",
    "sharks1.loc[sharks1['Species'].str.contains('invalid', case=False), 'Species'] = 'unknown'\n",
    "sharks1.loc[sharks1['Species'].str.contains('Questionable', case=False), 'Species'] = 'unknown'\n",
    "sharks1.loc[sharks1['Species'].str.contains('invalid', case=False), 'Species'] = 'unknown'\n",
    "sharks1.loc[sharks1['Species'].str.contains('gill', case=False), 'Species'] = 'unknown'\n",
    "sharks1.loc[sharks1['Species'].str.contains('not', case=False), 'Species'] = 'unknown'\n",
    "sharks1.loc[sharks1['Species'].str.contains('lb', case=False), 'Species'] = 'unknown'\n",
    "sharks1.loc[sharks1['Species'].str.contains('juvenile', case=False), 'Species'] = 'unknown'\n",
    "sharks1.loc[sharks1['Species'].str.contains('2', case=False), 'Species'] = 'unknown'\n",
    "sharks1.loc[sharks1['Species'].str.contains('incident', case=False), 'Species'] = 'unknown'\n",
    "sharks1.loc[sharks1['Species'].str.contains('injury', case=False), 'Species'] = 'unknown'\n",
    "sharks1.loc[sharks1['Species'].str.contains('authenticated', case=False), 'Species'] = 'unknown'\n",
    "sharks1.loc[sharks1['Species'].str.contains('gill', case=False), 'Species'] = 'unknown'"
   ]
  },
  {
   "cell_type": "code",
   "execution_count": 87,
   "id": "4a9a74c0",
   "metadata": {},
   "outputs": [],
   "source": [
    "sharks1['Species'] = sharks1['Species'].map(lambda x: x.lstrip('?<>)\"').rstrip('aAbBcC?(\"'))\n",
    "sharks1.loc[sharks1['Species'].str.contains('\\xa0', case=False, regex=False), 'Species'] ='unknown'\n",
    "sharks1.loc[sharks1['Species'].str.contains('Unknown', case=False), 'Species'] = 'unknown'\n",
    "sharks1.loc[sharks1['Species'].str.contains('\\d+', case=False), 'Species'] = 'unknown'\n",
    "sharks1.loc[sharks1['Species'].str.contains('C.', case=False), 'Species'] = 'unknown'\n",
    "sharks1.loc[sharks1['Species'].str.contains('dog', case=False), 'Species'] = 'Dogfish shark'\n",
    "sharks1.loc[sharks1['Species'].str.contains('drowning', case=False), 'Species'] = 'unknown'\n",
    "sharks1.loc[sharks1['Species'].str.contains('several', case=False), 'Species'] = 'unknown'\n",
    "sharks1.loc[sharks1['Species'].str.contains('gill', case=False), 'Species'] = 'unknown'\n",
    "sharks1.loc[sharks1['Species'].str.contains('gill', case=False), 'Species'] = 'unknown'\n"
   ]
  },
  {
   "cell_type": "code",
   "execution_count": 88,
   "id": "8bdae0f6",
   "metadata": {},
   "outputs": [
    {
     "data": {
      "text/html": [
       "<div>\n",
       "<style scoped>\n",
       "    .dataframe tbody tr th:only-of-type {\n",
       "        vertical-align: middle;\n",
       "    }\n",
       "\n",
       "    .dataframe tbody tr th {\n",
       "        vertical-align: top;\n",
       "    }\n",
       "\n",
       "    .dataframe thead th {\n",
       "        text-align: right;\n",
       "    }\n",
       "</style>\n",
       "<table border=\"1\" class=\"dataframe\">\n",
       "  <thead>\n",
       "    <tr style=\"text-align: right;\">\n",
       "      <th></th>\n",
       "      <th>Case_Number</th>\n",
       "      <th>Date</th>\n",
       "      <th>Year</th>\n",
       "      <th>Type</th>\n",
       "      <th>Country</th>\n",
       "      <th>Area</th>\n",
       "      <th>Location</th>\n",
       "      <th>Activity</th>\n",
       "      <th>Name</th>\n",
       "      <th>Sex</th>\n",
       "      <th>Age</th>\n",
       "      <th>Injury</th>\n",
       "      <th>Fatal</th>\n",
       "      <th>Time</th>\n",
       "      <th>Species</th>\n",
       "      <th>Investigator or Source</th>\n",
       "      <th>pdf</th>\n",
       "      <th>href formula</th>\n",
       "      <th>href</th>\n",
       "      <th>CaseNumber_1</th>\n",
       "      <th>CaseNumber_2</th>\n",
       "      <th>original order</th>\n",
       "      <th>fatal_count</th>\n",
       "      <th>mean_age</th>\n",
       "    </tr>\n",
       "  </thead>\n",
       "  <tbody>\n",
       "    <tr>\n",
       "      <th>1348</th>\n",
       "      <td>2007.08.12</td>\n",
       "      <td>12-Aug-2007</td>\n",
       "      <td>2007</td>\n",
       "      <td>Unprovoked</td>\n",
       "      <td>USA</td>\n",
       "      <td>Florida</td>\n",
       "      <td>New Smyrna Beach, Volusia County</td>\n",
       "      <td>Swimming</td>\n",
       "      <td>female</td>\n",
       "      <td>F</td>\n",
       "      <td>15</td>\n",
       "      <td>Minor injury, small lacerations to right foot</td>\n",
       "      <td>N</td>\n",
       "      <td>17h35</td>\n",
       "      <td></td>\n",
       "      <td>S. Petersohn, GSAF</td>\n",
       "      <td>2007.08.12-girl-NewSmyrnaBeach.pdf</td>\n",
       "      <td>http://sharkattackfile.net/spreadsheets/pdf_di...</td>\n",
       "      <td>http://sharkattackfile.net/spreadsheets/pdf_di...</td>\n",
       "      <td>2007.08.12</td>\n",
       "      <td>2007.08.12</td>\n",
       "      <td>4955.0</td>\n",
       "      <td>0</td>\n",
       "      <td>15.0</td>\n",
       "    </tr>\n",
       "    <tr>\n",
       "      <th>1357</th>\n",
       "      <td>2007.07.19.b</td>\n",
       "      <td>19-Jul-2007.b</td>\n",
       "      <td>2007</td>\n",
       "      <td>Unprovoked</td>\n",
       "      <td>USA</td>\n",
       "      <td>Hawaii</td>\n",
       "      <td>Bellows Beach near Wailea Point, Oahu</td>\n",
       "      <td>Snorkeling</td>\n",
       "      <td>Harvey Miller</td>\n",
       "      <td>M</td>\n",
       "      <td>36</td>\n",
       "      <td>Left calf severely bitten</td>\n",
       "      <td>N</td>\n",
       "      <td>15h15</td>\n",
       "      <td></td>\n",
       "      <td>Honolulu Advertiser, 7/20/2007; Honolulu Star ...</td>\n",
       "      <td>2007.07.19.b-Miller.pdf</td>\n",
       "      <td>http://sharkattackfile.net/spreadsheets/pdf_di...</td>\n",
       "      <td>http://sharkattackfile.net/spreadsheets/pdf_di...</td>\n",
       "      <td>2007.07.19.b</td>\n",
       "      <td>2007.07.19.b</td>\n",
       "      <td>4946.0</td>\n",
       "      <td>0</td>\n",
       "      <td>36.0</td>\n",
       "    </tr>\n",
       "    <tr>\n",
       "      <th>1454</th>\n",
       "      <td>2006.07.25</td>\n",
       "      <td>25-Jul-2006</td>\n",
       "      <td>2006</td>\n",
       "      <td>Unprovoked</td>\n",
       "      <td>USA</td>\n",
       "      <td>Florida</td>\n",
       "      <td>New Smyrna Beach, Volusia County</td>\n",
       "      <td>Surfing</td>\n",
       "      <td>male</td>\n",
       "      <td>M</td>\n",
       "      <td>14</td>\n",
       "      <td>Minor lacerations to right foot</td>\n",
       "      <td>N</td>\n",
       "      <td>13h45</td>\n",
       "      <td></td>\n",
       "      <td>S. Petersohn, GSAF</td>\n",
       "      <td>2006.07.25-NSB.pdf</td>\n",
       "      <td>http://sharkattackfile.net/spreadsheets/pdf_di...</td>\n",
       "      <td>http://sharkattackfile.net/spreadsheets/pdf_di...</td>\n",
       "      <td>2006.07.25</td>\n",
       "      <td>2006.07.25</td>\n",
       "      <td>4849.0</td>\n",
       "      <td>0</td>\n",
       "      <td>14.0</td>\n",
       "    </tr>\n",
       "    <tr>\n",
       "      <th>2400</th>\n",
       "      <td>1995.01.02</td>\n",
       "      <td>02-Jan-1995</td>\n",
       "      <td>1995</td>\n",
       "      <td>Unprovoked</td>\n",
       "      <td>BRAZIL</td>\n",
       "      <td>Pernambuco</td>\n",
       "      <td>Piedade</td>\n",
       "      <td>Surfing</td>\n",
       "      <td>Humberto Moraes de Souza</td>\n",
       "      <td>M</td>\n",
       "      <td>17</td>\n",
       "      <td>Foot bitten</td>\n",
       "      <td>N</td>\n",
       "      <td>unknown</td>\n",
       "      <td></td>\n",
       "      <td>San Jose Mercury News, 1/6/1995, p.12A</td>\n",
       "      <td>1995.01.02-H.de-SouzaMoraes.pdf</td>\n",
       "      <td>http://sharkattackfile.net/spreadsheets/pdf_di...</td>\n",
       "      <td>http://sharkattackfile.net/spreadsheets/pdf_di...</td>\n",
       "      <td>1995.01.02</td>\n",
       "      <td>1995.01.02</td>\n",
       "      <td>3903.0</td>\n",
       "      <td>0</td>\n",
       "      <td>17.0</td>\n",
       "    </tr>\n",
       "    <tr>\n",
       "      <th>3622</th>\n",
       "      <td>1965.06.00</td>\n",
       "      <td>Jun-1965</td>\n",
       "      <td>1965</td>\n",
       "      <td>Unprovoked</td>\n",
       "      <td>INTERNATIONAL WATERS</td>\n",
       "      <td>unknown</td>\n",
       "      <td>unknown</td>\n",
       "      <td>Treading water</td>\n",
       "      <td>Kikio Naruchima</td>\n",
       "      <td>M</td>\n",
       "      <td>unknown</td>\n",
       "      <td>FATAL, body not recovered</td>\n",
       "      <td>Y</td>\n",
       "      <td>Morning</td>\n",
       "      <td></td>\n",
       "      <td>H.D.Baldridge (1994) SAF Case #1510</td>\n",
       "      <td>1965.06.00-Yang.pdf</td>\n",
       "      <td>http://sharkattackfile.net/spreadsheets/pdf_di...</td>\n",
       "      <td>http://sharkattackfile.net/spreadsheets/pdf_di...</td>\n",
       "      <td>1965.06.00</td>\n",
       "      <td>1965.06.00</td>\n",
       "      <td>2681.0</td>\n",
       "      <td>1</td>\n",
       "      <td>unknown</td>\n",
       "    </tr>\n",
       "    <tr>\n",
       "      <th>5555</th>\n",
       "      <td>1900.09.13</td>\n",
       "      <td>13-Sep-1900</td>\n",
       "      <td>1900</td>\n",
       "      <td>Unprovoked</td>\n",
       "      <td>USA</td>\n",
       "      <td>Rhode Island</td>\n",
       "      <td>Coddington Cove</td>\n",
       "      <td>Diving</td>\n",
       "      <td>George Brown</td>\n",
       "      <td>M</td>\n",
       "      <td>unknown</td>\n",
       "      <td>No injury</td>\n",
       "      <td>unknown</td>\n",
       "      <td>unknown</td>\n",
       "      <td></td>\n",
       "      <td>NY Times, 9/14/1900</td>\n",
       "      <td>1900.09.13-Brown.pdf</td>\n",
       "      <td>http://sharkattackfile.net/spreadsheets/pdf_di...</td>\n",
       "      <td>http://sharkattackfile.net/spreadsheets/pdf_di...</td>\n",
       "      <td>1900.09.13</td>\n",
       "      <td>1900.09.13</td>\n",
       "      <td>748.0</td>\n",
       "      <td>0</td>\n",
       "      <td>unknown</td>\n",
       "    </tr>\n",
       "  </tbody>\n",
       "</table>\n",
       "</div>"
      ],
      "text/plain": [
       "       Case_Number           Date  Year        Type               Country  \\\n",
       "1348    2007.08.12    12-Aug-2007  2007  Unprovoked                   USA   \n",
       "1357  2007.07.19.b  19-Jul-2007.b  2007  Unprovoked                   USA   \n",
       "1454    2006.07.25    25-Jul-2006  2006  Unprovoked                   USA   \n",
       "2400    1995.01.02    02-Jan-1995  1995  Unprovoked                BRAZIL   \n",
       "3622    1965.06.00       Jun-1965  1965  Unprovoked  INTERNATIONAL WATERS   \n",
       "5555    1900.09.13    13-Sep-1900  1900  Unprovoked                   USA   \n",
       "\n",
       "              Area                                Location        Activity  \\\n",
       "1348       Florida        New Smyrna Beach, Volusia County        Swimming   \n",
       "1357        Hawaii  Bellows Beach near Wailea Point, Oahu      Snorkeling   \n",
       "1454       Florida        New Smyrna Beach, Volusia County         Surfing   \n",
       "2400    Pernambuco                                 Piedade         Surfing   \n",
       "3622       unknown                                 unknown  Treading water   \n",
       "5555  Rhode Island                         Coddington Cove          Diving   \n",
       "\n",
       "                          Name Sex      Age  \\\n",
       "1348                    female   F       15   \n",
       "1357             Harvey Miller   M       36   \n",
       "1454                      male   M       14   \n",
       "2400  Humberto Moraes de Souza   M       17   \n",
       "3622           Kikio Naruchima   M  unknown   \n",
       "5555              George Brown   M  unknown   \n",
       "\n",
       "                                             Injury    Fatal     Time Species  \\\n",
       "1348  Minor injury, small lacerations to right foot        N    17h35           \n",
       "1357                      Left calf severely bitten        N    15h15           \n",
       "1454                Minor lacerations to right foot        N    13h45           \n",
       "2400                                    Foot bitten        N  unknown           \n",
       "3622                      FATAL, body not recovered        Y  Morning           \n",
       "5555                                      No injury  unknown  unknown           \n",
       "\n",
       "                                 Investigator or Source  \\\n",
       "1348                                 S. Petersohn, GSAF   \n",
       "1357  Honolulu Advertiser, 7/20/2007; Honolulu Star ...   \n",
       "1454                                 S. Petersohn, GSAF   \n",
       "2400             San Jose Mercury News, 1/6/1995, p.12A   \n",
       "3622                H.D.Baldridge (1994) SAF Case #1510   \n",
       "5555                                NY Times, 9/14/1900   \n",
       "\n",
       "                                     pdf  \\\n",
       "1348  2007.08.12-girl-NewSmyrnaBeach.pdf   \n",
       "1357             2007.07.19.b-Miller.pdf   \n",
       "1454                  2006.07.25-NSB.pdf   \n",
       "2400     1995.01.02-H.de-SouzaMoraes.pdf   \n",
       "3622                 1965.06.00-Yang.pdf   \n",
       "5555                1900.09.13-Brown.pdf   \n",
       "\n",
       "                                           href formula  \\\n",
       "1348  http://sharkattackfile.net/spreadsheets/pdf_di...   \n",
       "1357  http://sharkattackfile.net/spreadsheets/pdf_di...   \n",
       "1454  http://sharkattackfile.net/spreadsheets/pdf_di...   \n",
       "2400  http://sharkattackfile.net/spreadsheets/pdf_di...   \n",
       "3622  http://sharkattackfile.net/spreadsheets/pdf_di...   \n",
       "5555  http://sharkattackfile.net/spreadsheets/pdf_di...   \n",
       "\n",
       "                                                   href  CaseNumber_1  \\\n",
       "1348  http://sharkattackfile.net/spreadsheets/pdf_di...    2007.08.12   \n",
       "1357  http://sharkattackfile.net/spreadsheets/pdf_di...  2007.07.19.b   \n",
       "1454  http://sharkattackfile.net/spreadsheets/pdf_di...    2006.07.25   \n",
       "2400  http://sharkattackfile.net/spreadsheets/pdf_di...    1995.01.02   \n",
       "3622  http://sharkattackfile.net/spreadsheets/pdf_di...    1965.06.00   \n",
       "5555  http://sharkattackfile.net/spreadsheets/pdf_di...    1900.09.13   \n",
       "\n",
       "      CaseNumber_2  original order  fatal_count mean_age  \n",
       "1348    2007.08.12          4955.0            0     15.0  \n",
       "1357  2007.07.19.b          4946.0            0     36.0  \n",
       "1454    2006.07.25          4849.0            0     14.0  \n",
       "2400    1995.01.02          3903.0            0     17.0  \n",
       "3622    1965.06.00          2681.0            1  unknown  \n",
       "5555    1900.09.13           748.0            0  unknown  "
      ]
     },
     "execution_count": 88,
     "metadata": {},
     "output_type": "execute_result"
    }
   ],
   "source": [
    "sharks1.loc[sharks1['Species'] == ' ']"
   ]
  },
  {
   "cell_type": "code",
   "execution_count": 89,
   "id": "b8728e20",
   "metadata": {},
   "outputs": [],
   "source": [
    "sharks1.at[1348, 'Species'] = 'unknown'\n",
    "sharks1.at[1357, 'Species'] = 'unknown'\n",
    "sharks1.at[1454, 'Species'] = 'unknown'\n",
    "sharks1.at[2400, 'Species'] = 'unknown'\n",
    "sharks1.at[3622, 'Species'] = 'unknown'\n",
    "sharks1.at[5555, 'Species'] = 'unknown'"
   ]
  },
  {
   "cell_type": "code",
   "execution_count": 90,
   "id": "cbd2c0a3",
   "metadata": {},
   "outputs": [
    {
     "data": {
      "text/plain": [
       "unknown                4496\n",
       "White shark             667\n",
       "Tiger shark             276\n",
       "Bull shark              185\n",
       "Grey reef shark         105\n",
       "Bronze whaler shark      74\n",
       "Nurse shark              57\n",
       "Mako shark               54\n",
       "Blue shark               53\n",
       "Wobbegong shark          50\n",
       "Hammerhead shark         48\n",
       "Raggedtooth shark        43\n",
       "Spinner shark            43\n",
       "Lemon shark              34\n",
       "Zambezi shark            32\n",
       "Sand shark               25\n",
       "Dusky shark              13\n",
       "Dogfish shark             8\n",
       "Basking shark             7\n",
       "Galapagos shark           7\n",
       "Angel shark               6\n",
       "Porbeagle shark           6\n",
       "Thresher shark            4\n",
       "Salmon shark              3\n",
       "Whale shark               2\n",
       "Leopard shark             1\n",
       "Goblin shark              1\n",
       "Soupfin shark             1\n",
       "Silvertip shark           1\n",
       "Name: Species, dtype: int64"
      ]
     },
     "execution_count": 90,
     "metadata": {},
     "output_type": "execute_result"
    }
   ],
   "source": [
    "sharks1.Species.value_counts()"
   ]
  },
  {
   "cell_type": "code",
   "execution_count": 91,
   "id": "8a0ed17b",
   "metadata": {},
   "outputs": [
    {
     "name": "stdout",
     "output_type": "stream",
     "text": [
      "<class 'pandas.core.frame.DataFrame'>\n",
      "RangeIndex: 6302 entries, 0 to 6301\n",
      "Data columns (total 24 columns):\n",
      " #   Column                  Non-Null Count  Dtype  \n",
      "---  ------                  --------------  -----  \n",
      " 0   Case_Number             6302 non-null   object \n",
      " 1   Date                    6302 non-null   object \n",
      " 2   Year                    6302 non-null   int32  \n",
      " 3   Type                    6302 non-null   object \n",
      " 4   Country                 6302 non-null   object \n",
      " 5   Area                    6302 non-null   object \n",
      " 6   Location                6302 non-null   object \n",
      " 7   Activity                6302 non-null   object \n",
      " 8   Name                    6302 non-null   object \n",
      " 9   Sex                     6302 non-null   object \n",
      " 10  Age                     6302 non-null   object \n",
      " 11  Injury                  6302 non-null   object \n",
      " 12  Fatal                   6302 non-null   object \n",
      " 13  Time                    6302 non-null   object \n",
      " 14  Species                 6302 non-null   object \n",
      " 15  Investigator or Source  6302 non-null   object \n",
      " 16  pdf                     6302 non-null   object \n",
      " 17  href formula            6302 non-null   object \n",
      " 18  href                    6302 non-null   object \n",
      " 19  CaseNumber_1            6302 non-null   object \n",
      " 20  CaseNumber_2            6302 non-null   object \n",
      " 21  original order          6302 non-null   float64\n",
      " 22  fatal_count             6302 non-null   int64  \n",
      " 23  mean_age                6302 non-null   object \n",
      "dtypes: float64(1), int32(1), int64(1), object(21)\n",
      "memory usage: 9.6 MB\n",
      "<class 'pandas.core.frame.DataFrame'>\n",
      "RangeIndex: 25723 entries, 0 to 25722\n",
      "Data columns (total 24 columns):\n",
      " #   Column                  Non-Null Count  Dtype  \n",
      "---  ------                  --------------  -----  \n",
      " 0   Case Number             8702 non-null   object \n",
      " 1   Date                    6302 non-null   object \n",
      " 2   Year                    6300 non-null   float64\n",
      " 3   Type                    6298 non-null   object \n",
      " 4   Country                 6252 non-null   object \n",
      " 5   Area                    5847 non-null   object \n",
      " 6   Location                5762 non-null   object \n",
      " 7   Activity                5758 non-null   object \n",
      " 8   Name                    6092 non-null   object \n",
      " 9   Sex                     5737 non-null   object \n",
      " 10  Age                     3471 non-null   object \n",
      " 11  Injury                  6274 non-null   object \n",
      " 12  Fatal (Y/N)             5763 non-null   object \n",
      " 13  Time                    2948 non-null   object \n",
      " 14  Species                 3464 non-null   object \n",
      " 15  Investigator or Source  6285 non-null   object \n",
      " 16  pdf                     6302 non-null   object \n",
      " 17  href formula            6301 non-null   object \n",
      " 18  href                    6302 non-null   object \n",
      " 19  Case Number.1           6302 non-null   object \n",
      " 20  Case Number.2           6302 non-null   object \n",
      " 21  original order          6309 non-null   float64\n",
      " 22  Unnamed: 22             1 non-null      object \n",
      " 23  Unnamed: 23             2 non-null      object \n",
      "dtypes: float64(2), object(22)\n",
      "memory usage: 22.8 MB\n"
     ]
    },
    {
     "data": {
      "text/plain": [
       "(None, None)"
      ]
     },
     "execution_count": 91,
     "metadata": {},
     "output_type": "execute_result"
    }
   ],
   "source": [
    "sharks1.info(memory_usage='deep'), sharks_ori.info(memory_usage='deep')"
   ]
  },
  {
   "cell_type": "markdown",
   "id": "e416d7d6",
   "metadata": {},
   "source": [
    "### A continuación, vamos a cambiar el tipo de datos de los campos de tipo int y float que tenemos para optimizar algo de memoria. También convertiremos los campos de tipo object en category, puesto que ya no queremos añadirles ningún valor único más."
   ]
  },
  {
   "cell_type": "code",
   "execution_count": 92,
   "id": "140cd224",
   "metadata": {},
   "outputs": [],
   "source": [
    "sharks2 = sharks1.copy()"
   ]
  },
  {
   "cell_type": "code",
   "execution_count": 93,
   "id": "6922bfae",
   "metadata": {},
   "outputs": [
    {
     "name": "stdout",
     "output_type": "stream",
     "text": [
      "<class 'pandas.core.frame.DataFrame'>\n",
      "RangeIndex: 6302 entries, 0 to 6301\n",
      "Data columns (total 24 columns):\n",
      " #   Column                  Non-Null Count  Dtype  \n",
      "---  ------                  --------------  -----  \n",
      " 0   Case_Number             6302 non-null   object \n",
      " 1   Date                    6302 non-null   object \n",
      " 2   Year                    6302 non-null   int16  \n",
      " 3   Type                    6302 non-null   object \n",
      " 4   Country                 6302 non-null   object \n",
      " 5   Area                    6302 non-null   object \n",
      " 6   Location                6302 non-null   object \n",
      " 7   Activity                6302 non-null   object \n",
      " 8   Name                    6302 non-null   object \n",
      " 9   Sex                     6302 non-null   object \n",
      " 10  Age                     6302 non-null   object \n",
      " 11  Injury                  6302 non-null   object \n",
      " 12  Fatal                   6302 non-null   object \n",
      " 13  Time                    6302 non-null   object \n",
      " 14  Species                 6302 non-null   object \n",
      " 15  Investigator or Source  6302 non-null   object \n",
      " 16  pdf                     6302 non-null   object \n",
      " 17  href formula            6302 non-null   object \n",
      " 18  href                    6302 non-null   object \n",
      " 19  CaseNumber_1            6302 non-null   object \n",
      " 20  CaseNumber_2            6302 non-null   object \n",
      " 21  original order          6302 non-null   float64\n",
      " 22  fatal_count             6302 non-null   int8   \n",
      " 23  mean_age                6302 non-null   object \n",
      "dtypes: float64(1), int16(1), int8(1), object(21)\n",
      "memory usage: 9.6 MB\n"
     ]
    }
   ],
   "source": [
    "for c in sharks2.select_dtypes('integer').columns:\n",
    "    \n",
    "    sharks2[c]=pd.to_numeric(sharks2[c], downcast='integer')\n",
    "    \n",
    "sharks2.info(memory_usage='deep')"
   ]
  },
  {
   "cell_type": "code",
   "execution_count": 94,
   "id": "2c202d84",
   "metadata": {},
   "outputs": [
    {
     "name": "stdout",
     "output_type": "stream",
     "text": [
      "<class 'pandas.core.frame.DataFrame'>\n",
      "RangeIndex: 6302 entries, 0 to 6301\n",
      "Data columns (total 24 columns):\n",
      " #   Column                  Non-Null Count  Dtype  \n",
      "---  ------                  --------------  -----  \n",
      " 0   Case_Number             6302 non-null   object \n",
      " 1   Date                    6302 non-null   object \n",
      " 2   Year                    6302 non-null   int16  \n",
      " 3   Type                    6302 non-null   object \n",
      " 4   Country                 6302 non-null   object \n",
      " 5   Area                    6302 non-null   object \n",
      " 6   Location                6302 non-null   object \n",
      " 7   Activity                6302 non-null   object \n",
      " 8   Name                    6302 non-null   object \n",
      " 9   Sex                     6302 non-null   object \n",
      " 10  Age                     6302 non-null   object \n",
      " 11  Injury                  6302 non-null   object \n",
      " 12  Fatal                   6302 non-null   object \n",
      " 13  Time                    6302 non-null   object \n",
      " 14  Species                 6302 non-null   object \n",
      " 15  Investigator or Source  6302 non-null   object \n",
      " 16  pdf                     6302 non-null   object \n",
      " 17  href formula            6302 non-null   object \n",
      " 18  href                    6302 non-null   object \n",
      " 19  CaseNumber_1            6302 non-null   object \n",
      " 20  CaseNumber_2            6302 non-null   object \n",
      " 21  original order          6302 non-null   float32\n",
      " 22  fatal_count             6302 non-null   int8   \n",
      " 23  mean_age                6302 non-null   object \n",
      "dtypes: float32(1), int16(1), int8(1), object(21)\n",
      "memory usage: 9.5 MB\n"
     ]
    }
   ],
   "source": [
    "for c in sharks2.select_dtypes('float').columns:\n",
    "    \n",
    "    sharks2[c]=pd.to_numeric(sharks2[c], downcast='float')\n",
    "    \n",
    "sharks2.info(memory_usage='deep')"
   ]
  },
  {
   "cell_type": "code",
   "execution_count": 95,
   "id": "ce37c72b",
   "metadata": {},
   "outputs": [
    {
     "name": "stdout",
     "output_type": "stream",
     "text": [
      "<class 'pandas.core.frame.DataFrame'>\n",
      "RangeIndex: 6302 entries, 0 to 6301\n",
      "Data columns (total 24 columns):\n",
      " #   Column                  Non-Null Count  Dtype   \n",
      "---  ------                  --------------  -----   \n",
      " 0   Case_Number             6302 non-null   category\n",
      " 1   Date                    6302 non-null   category\n",
      " 2   Year                    6302 non-null   int16   \n",
      " 3   Type                    6302 non-null   category\n",
      " 4   Country                 6302 non-null   category\n",
      " 5   Area                    6302 non-null   category\n",
      " 6   Location                6302 non-null   category\n",
      " 7   Activity                6302 non-null   category\n",
      " 8   Name                    6302 non-null   category\n",
      " 9   Sex                     6302 non-null   category\n",
      " 10  Age                     6302 non-null   category\n",
      " 11  Injury                  6302 non-null   category\n",
      " 12  Fatal                   6302 non-null   category\n",
      " 13  Time                    6302 non-null   category\n",
      " 14  Species                 6302 non-null   category\n",
      " 15  Investigator or Source  6302 non-null   category\n",
      " 16  pdf                     6302 non-null   category\n",
      " 17  href formula            6302 non-null   category\n",
      " 18  href                    6302 non-null   category\n",
      " 19  CaseNumber_1            6302 non-null   category\n",
      " 20  CaseNumber_2            6302 non-null   category\n",
      " 21  original order          6302 non-null   float32 \n",
      " 22  fatal_count             6302 non-null   int8    \n",
      " 23  mean_age                6302 non-null   category\n",
      "dtypes: category(21), float32(1), int16(1), int8(1)\n",
      "memory usage: 7.1 MB\n"
     ]
    }
   ],
   "source": [
    "for c in sharks2.select_dtypes('object').columns:\n",
    "    \n",
    "    sharks2[c]=sharks2[c].astype('category')\n",
    "    \n",
    "sharks2.info(memory_usage='deep')"
   ]
  },
  {
   "cell_type": "markdown",
   "id": "4b4ca384",
   "metadata": {},
   "source": [
    "## Comprobamos si hay duplicados de última hora"
   ]
  },
  {
   "cell_type": "code",
   "execution_count": 96,
   "id": "b1c20b1a",
   "metadata": {},
   "outputs": [
    {
     "data": {
      "text/plain": [
       "True"
      ]
     },
     "execution_count": 96,
     "metadata": {},
     "output_type": "execute_result"
    }
   ],
   "source": [
    "sharks2.drop_duplicates().shape==sharks2.shape"
   ]
  },
  {
   "cell_type": "markdown",
   "id": "cfeb2fc7",
   "metadata": {},
   "source": [
    "#### No los hay, por lo que podemos seguir adelante con nuestros Insgihts"
   ]
  },
  {
   "cell_type": "markdown",
   "id": "91b5b2e7",
   "metadata": {},
   "source": [
    "# BONUS: Insights"
   ]
  },
  {
   "cell_type": "markdown",
   "id": "28077ed2",
   "metadata": {},
   "source": [
    "## Queremos hacer insights para comprobar las relaciones entre una serie de variables/columnas que hemos limpiado. ('Year', 'Country', 'Sex', 'mean_age', 'Fatal' y 'Species')"
   ]
  },
  {
   "cell_type": "markdown",
   "id": "3ad2a8c5",
   "metadata": {},
   "source": [
    "### Nº de ataques por año"
   ]
  },
  {
   "cell_type": "code",
   "execution_count": 97,
   "id": "1d0468c8",
   "metadata": {},
   "outputs": [
    {
     "data": {
      "image/png": "[encoded data removed]",
      "text/plain": [
       "<Figure size 720x432 with 1 Axes>"
      ]
     },
     "metadata": {
      "needs_background": "light"
     },
     "output_type": "display_data"
    }
   ],
   "source": [
    "plt.figure(figsize=(10, 6))\n",
    "\n",
    "sharks2.Year.hist(bins=500)\n",
    "plt.xlabel(\"Year\", labelpad=10, fontweight='semibold')\n",
    "plt.ylabel(\"Attacks\", labelpad=10, fontweight='semibold')\n",
    "plt.title(\"Attacks per year\", fontweight='bold');"
   ]
  },
  {
   "cell_type": "markdown",
   "id": "474dd088",
   "metadata": {},
   "source": [
    "##### Restringimos a los últimos 50 años."
   ]
  },
  {
   "cell_type": "code",
   "execution_count": 98,
   "id": "3cf9e221",
   "metadata": {},
   "outputs": [
    {
     "data": {
      "image/png": "[encoded data removed]",
      "text/plain": [
       "<Figure size 720x432 with 1 Axes>"
      ]
     },
     "metadata": {
      "needs_background": "light"
     },
     "output_type": "display_data"
    }
   ],
   "source": [
    "plt.figure(figsize=(10, 6))\n",
    "data = sharks2[sharks2.Year > 1970].Year\n",
    "\n",
    "data.hist(bins=500, width=0.8)\n",
    "plt.xlabel(\"Year\", labelpad=10, fontweight='semibold', fontstyle='italic')\n",
    "plt.ylabel(\"Attacks\", labelpad=10, fontweight='semibold', fontstyle='italic')\n",
    "plt.title(\"Attacks per year\", fontweight='bold');\n"
   ]
  },
  {
   "cell_type": "markdown",
   "id": "e9a35378",
   "metadata": {},
   "source": [
    "Se aprecia un crecimiento en las últimas dos décadas, quizás las actividades acuáticas de los humanos con mayor peligrosidad frente a tiburones han crecido en este periodo."
   ]
  },
  {
   "cell_type": "markdown",
   "id": "fe5e0393",
   "metadata": {},
   "source": [
    "### Nº de ataques recibidos por sexo"
   ]
  },
  {
   "cell_type": "code",
   "execution_count": 99,
   "id": "b52edb93",
   "metadata": {},
   "outputs": [],
   "source": [
    "n_unk = sharks2['Sex'] != 'unknown'"
   ]
  },
  {
   "cell_type": "code",
   "execution_count": 100,
   "id": "cfb6ffc6",
   "metadata": {},
   "outputs": [],
   "source": [
    "sharks4 = sharks2[n_unk]"
   ]
  },
  {
   "cell_type": "code",
   "execution_count": 101,
   "id": "07e081cc",
   "metadata": {},
   "outputs": [
    {
     "data": {
      "image/png": "[encoded data removed]",
      "text/plain": [
       "<Figure size 648x360 with 1 Axes>"
      ]
     },
     "metadata": {
      "needs_background": "light"
     },
     "output_type": "display_data"
    }
   ],
   "source": [
    "plt.figure(figsize=(9, 5))\n",
    "\n",
    "sharks4.Sex.value_counts().plot.barh();\n",
    "plt.xlabel(\"Attacks\", labelpad=10, fontweight='semibold', fontstyle='italic')\n",
    "plt.ylabel(\"Sex\", labelpad=10, fontweight='semibold', fontstyle='italic')\n",
    "plt.title(\"Attacks per sex\", fontweight='bold');\n"
   ]
  },
  {
   "cell_type": "markdown",
   "id": "2c4b63e8",
   "metadata": {},
   "source": [
    "Claramente hay más ataques a hombres que a mujeres. Podría estar relacionado con que las actividades con mayor riesgo frente a este tipo de ataques son realizadas principalmente por hombres."
   ]
  },
  {
   "cell_type": "markdown",
   "id": "aa92a93c",
   "metadata": {},
   "source": [
    "### Fatalidad por especie de tiburón y países en los que más ataca cada especie"
   ]
  },
  {
   "cell_type": "markdown",
   "id": "5ccd81cc",
   "metadata": {},
   "source": [
    "Agrupamos las especies por número de fatalidades en base a la columna 'fatal_count' y por la moda de 'Country' para cada especie."
   ]
  },
  {
   "cell_type": "code",
   "execution_count": null,
   "id": "e1c05f3d",
   "metadata": {},
   "outputs": [],
   "source": []
  },
  {
   "cell_type": "code",
   "execution_count": 112,
   "id": "c67a9a1c",
   "metadata": {},
   "outputs": [],
   "source": [
    "not_unknown = sharks2['Species'] != 'unknown'"
   ]
  },
  {
   "cell_type": "code",
   "execution_count": 113,
   "id": "ebc763b8",
   "metadata": {},
   "outputs": [],
   "source": [
    "sharks3 = sharks2[not_unknown]"
   ]
  },
  {
   "cell_type": "code",
   "execution_count": 114,
   "id": "d09f0cb9",
   "metadata": {},
   "outputs": [
    {
     "data": {
      "text/plain": [
       "((1806, 24), (6302, 24))"
      ]
     },
     "execution_count": 114,
     "metadata": {},
     "output_type": "execute_result"
    }
   ],
   "source": [
    "sharks3.shape, sharks2.shape"
   ]
  },
  {
   "cell_type": "code",
   "execution_count": 115,
   "id": "7eabcddf",
   "metadata": {},
   "outputs": [
    {
     "data": {
      "text/html": [
       "<div>\n",
       "<style scoped>\n",
       "    .dataframe tbody tr th:only-of-type {\n",
       "        vertical-align: middle;\n",
       "    }\n",
       "\n",
       "    .dataframe tbody tr th {\n",
       "        vertical-align: top;\n",
       "    }\n",
       "\n",
       "    .dataframe thead th {\n",
       "        text-align: right;\n",
       "    }\n",
       "</style>\n",
       "<table border=\"1\" class=\"dataframe\">\n",
       "  <thead>\n",
       "    <tr style=\"text-align: right;\">\n",
       "      <th></th>\n",
       "      <th>fatal_count</th>\n",
       "      <th>Country</th>\n",
       "    </tr>\n",
       "    <tr>\n",
       "      <th>Species</th>\n",
       "      <th></th>\n",
       "      <th></th>\n",
       "    </tr>\n",
       "  </thead>\n",
       "  <tbody>\n",
       "    <tr>\n",
       "      <th>Angel shark</th>\n",
       "      <td>0.0</td>\n",
       "      <td>[SPAIN]</td>\n",
       "    </tr>\n",
       "    <tr>\n",
       "      <th>Basking shark</th>\n",
       "      <td>2.0</td>\n",
       "      <td>[SCOTLAND]</td>\n",
       "    </tr>\n",
       "    <tr>\n",
       "      <th>Blue shark</th>\n",
       "      <td>11.0</td>\n",
       "      <td>[AUSTRALIA]</td>\n",
       "    </tr>\n",
       "    <tr>\n",
       "      <th>Bronze whaler shark</th>\n",
       "      <td>6.0</td>\n",
       "      <td>[AUSTRALIA]</td>\n",
       "    </tr>\n",
       "    <tr>\n",
       "      <th>Bull shark</th>\n",
       "      <td>40.0</td>\n",
       "      <td>[USA]</td>\n",
       "    </tr>\n",
       "    <tr>\n",
       "      <th>Dogfish shark</th>\n",
       "      <td>0.0</td>\n",
       "      <td>[AUSTRALIA]</td>\n",
       "    </tr>\n",
       "    <tr>\n",
       "      <th>Dusky shark</th>\n",
       "      <td>0.0</td>\n",
       "      <td>[SOUTH AFRICA]</td>\n",
       "    </tr>\n",
       "    <tr>\n",
       "      <th>Galapagos shark</th>\n",
       "      <td>2.0</td>\n",
       "      <td>[ECUADOR]</td>\n",
       "    </tr>\n",
       "    <tr>\n",
       "      <th>Goblin shark</th>\n",
       "      <td>0.0</td>\n",
       "      <td>[JAPAN]</td>\n",
       "    </tr>\n",
       "    <tr>\n",
       "      <th>Grey reef shark</th>\n",
       "      <td>1.0</td>\n",
       "      <td>[AUSTRALIA]</td>\n",
       "    </tr>\n",
       "    <tr>\n",
       "      <th>Hammerhead shark</th>\n",
       "      <td>2.0</td>\n",
       "      <td>[USA]</td>\n",
       "    </tr>\n",
       "    <tr>\n",
       "      <th>Lemon shark</th>\n",
       "      <td>0.0</td>\n",
       "      <td>[USA]</td>\n",
       "    </tr>\n",
       "    <tr>\n",
       "      <th>Leopard shark</th>\n",
       "      <td>0.0</td>\n",
       "      <td>[AUSTRALIA]</td>\n",
       "    </tr>\n",
       "    <tr>\n",
       "      <th>Mako shark</th>\n",
       "      <td>2.0</td>\n",
       "      <td>[USA]</td>\n",
       "    </tr>\n",
       "    <tr>\n",
       "      <th>Nurse shark</th>\n",
       "      <td>0.0</td>\n",
       "      <td>[USA]</td>\n",
       "    </tr>\n",
       "    <tr>\n",
       "      <th>Porbeagle shark</th>\n",
       "      <td>0.0</td>\n",
       "      <td>[BRITISH ISLES]</td>\n",
       "    </tr>\n",
       "    <tr>\n",
       "      <th>Raggedtooth shark</th>\n",
       "      <td>0.0</td>\n",
       "      <td>[SOUTH AFRICA]</td>\n",
       "    </tr>\n",
       "    <tr>\n",
       "      <th>Salmon shark</th>\n",
       "      <td>0.0</td>\n",
       "      <td>[USA]</td>\n",
       "    </tr>\n",
       "    <tr>\n",
       "      <th>Sand shark</th>\n",
       "      <td>0.0</td>\n",
       "      <td>[USA]</td>\n",
       "    </tr>\n",
       "    <tr>\n",
       "      <th>Silvertip shark</th>\n",
       "      <td>0.0</td>\n",
       "      <td>[SUDAN]</td>\n",
       "    </tr>\n",
       "    <tr>\n",
       "      <th>Soupfin shark</th>\n",
       "      <td>0.0</td>\n",
       "      <td>[SOUTH AFRICA]</td>\n",
       "    </tr>\n",
       "    <tr>\n",
       "      <th>Spinner shark</th>\n",
       "      <td>0.0</td>\n",
       "      <td>[USA]</td>\n",
       "    </tr>\n",
       "    <tr>\n",
       "      <th>Thresher shark</th>\n",
       "      <td>0.0</td>\n",
       "      <td>[USA]</td>\n",
       "    </tr>\n",
       "    <tr>\n",
       "      <th>Tiger shark</th>\n",
       "      <td>68.0</td>\n",
       "      <td>[USA]</td>\n",
       "    </tr>\n",
       "    <tr>\n",
       "      <th>Whale shark</th>\n",
       "      <td>0.0</td>\n",
       "      <td>[MOZAMBIQUE]</td>\n",
       "    </tr>\n",
       "    <tr>\n",
       "      <th>White shark</th>\n",
       "      <td>150.0</td>\n",
       "      <td>[USA]</td>\n",
       "    </tr>\n",
       "    <tr>\n",
       "      <th>Wobbegong shark</th>\n",
       "      <td>0.0</td>\n",
       "      <td>[AUSTRALIA]</td>\n",
       "    </tr>\n",
       "    <tr>\n",
       "      <th>Zambezi shark</th>\n",
       "      <td>9.0</td>\n",
       "      <td>[SOUTH AFRICA]</td>\n",
       "    </tr>\n",
       "    <tr>\n",
       "      <th>unknown</th>\n",
       "      <td>0.0</td>\n",
       "      <td>[]</td>\n",
       "    </tr>\n",
       "  </tbody>\n",
       "</table>\n",
       "</div>"
      ],
      "text/plain": [
       "                     fatal_count          Country\n",
       "Species                                          \n",
       "Angel shark                  0.0          [SPAIN]\n",
       "Basking shark                2.0       [SCOTLAND]\n",
       "Blue shark                  11.0      [AUSTRALIA]\n",
       "Bronze whaler shark          6.0      [AUSTRALIA]\n",
       "Bull shark                  40.0            [USA]\n",
       "Dogfish shark                0.0      [AUSTRALIA]\n",
       "Dusky shark                  0.0   [SOUTH AFRICA]\n",
       "Galapagos shark              2.0        [ECUADOR]\n",
       "Goblin shark                 0.0          [JAPAN]\n",
       "Grey reef shark              1.0      [AUSTRALIA]\n",
       "Hammerhead shark             2.0            [USA]\n",
       "Lemon shark                  0.0            [USA]\n",
       "Leopard shark                0.0      [AUSTRALIA]\n",
       "Mako shark                   2.0            [USA]\n",
       "Nurse shark                  0.0            [USA]\n",
       "Porbeagle shark              0.0  [BRITISH ISLES]\n",
       "Raggedtooth shark            0.0   [SOUTH AFRICA]\n",
       "Salmon shark                 0.0            [USA]\n",
       "Sand shark                   0.0            [USA]\n",
       "Silvertip shark              0.0          [SUDAN]\n",
       "Soupfin shark                0.0   [SOUTH AFRICA]\n",
       "Spinner shark                0.0            [USA]\n",
       "Thresher shark               0.0            [USA]\n",
       "Tiger shark                 68.0            [USA]\n",
       "Whale shark                  0.0     [MOZAMBIQUE]\n",
       "White shark                150.0            [USA]\n",
       "Wobbegong shark              0.0      [AUSTRALIA]\n",
       "Zambezi shark                9.0   [SOUTH AFRICA]\n",
       "unknown                      0.0               []"
      ]
     },
     "execution_count": 115,
     "metadata": {},
     "output_type": "execute_result"
    }
   ],
   "source": [
    "\n",
    "fatal = sharks3.groupby('Species').agg({'fatal_count': 'sum', 'Country': lambda x: x.mode().tolist()[:1]})\n",
    "fatal"
   ]
  },
  {
   "cell_type": "code",
   "execution_count": 116,
   "id": "2a1c16bf",
   "metadata": {},
   "outputs": [
    {
     "data": {
      "text/plain": [
       "<Figure size 1080x648 with 0 Axes>"
      ]
     },
     "metadata": {},
     "output_type": "display_data"
    },
    {
     "data": {
      "image/png": "[encoded data removed]",
      "text/plain": [
       "<Figure size 432x288 with 1 Axes>"
      ]
     },
     "metadata": {
      "needs_background": "light"
     },
     "output_type": "display_data"
    }
   ],
   "source": [
    "plt.figure(figsize=(15, 9))\n",
    "\n",
    "\n",
    "fatal[(fatal.fatal_count>0)].plot.barh();\n",
    "plt.xlabel(\"Fatalities\", labelpad=10, fontweight='semibold', fontstyle='italic')\n",
    "plt.ylabel(\"Species\", labelpad=10, fontweight='semibold', fontstyle='italic')\n",
    "plt.title(\"Fatalities per species\", fontweight='bold');"
   ]
  },
  {
   "cell_type": "markdown",
   "id": "cbe16018",
   "metadata": {},
   "source": [
    "El top 3 de tiburones con más fatalidades registradas son el Blanco, el Tigre y el Toro."
   ]
  },
  {
   "cell_type": "code",
   "execution_count": null,
   "id": "6a9a920b",
   "metadata": {},
   "outputs": [],
   "source": []
  }
 ],
 "metadata": {
  "kernelspec": {
   "display_name": "Python 3 (ipykernel)",
   "language": "python",
   "name": "python3"
  },
  "language_info": {
   "codemirror_mode": {
    "name": "ipython",
    "version": 3
   },
   "file_extension": ".py",
   "mimetype": "text/x-python",
   "name": "python",
   "nbconvert_exporter": "python",
   "pygments_lexer": "ipython3",
   "version": "3.9.12"
  }
 },
 "nbformat": 4,
 "nbformat_minor": 5
}
